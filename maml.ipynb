{
 "cells": [
  {
   "cell_type": "code",
   "execution_count": 95,
   "id": "acd92929",
   "metadata": {},
   "outputs": [],
   "source": [
    "import torch\n",
    "from torch import nn\n",
    "from torch.nn import functional as F\n",
    "from torch.utils.data import DataLoader, Dataset,Subset\n",
    "from torchvision import transforms,datasets\n",
    "import numpy as np\n",
    "import matplotlib.pyplot as plt\n",
    "import random\n",
    "from tqdm import tqdm\n",
    "from torch.optim import Adam\n",
    "import os\n",
    "from torch.utils.data import random_split\n",
    "from PIL import Image\n",
    "from collections import defaultdict\n",
    "import random "
   ]
  },
  {
   "cell_type": "code",
   "execution_count": 96,
   "id": "2d39d740",
   "metadata": {},
   "outputs": [],
   "source": [
    "class Encoder(nn.Module):\n",
    "    def __init__(self, hidden_dim=64, out_dim=64):\n",
    "        super().__init__()\n",
    "        self.encoder = nn.Sequential(\n",
    "            nn.Conv2d(1, hidden_dim, kernel_size=3, padding=1),  # 28x28\n",
    "            nn.BatchNorm2d(hidden_dim),\n",
    "            nn.ReLU(),\n",
    "            nn.MaxPool2d(2),  # -> 14x14\n",
    "\n",
    "            nn.Conv2d(hidden_dim, hidden_dim, kernel_size=3, padding=1),\n",
    "            nn.BatchNorm2d(hidden_dim),\n",
    "            nn.ReLU(),\n",
    "            nn.MaxPool2d(2),  # -> 7x7\n",
    "\n",
    "            nn.Conv2d(hidden_dim, hidden_dim, kernel_size=3, padding=1),\n",
    "            nn.BatchNorm2d(hidden_dim),\n",
    "            nn.ReLU(),\n",
    "            nn.MaxPool2d(2),  # -> 3x3\n",
    "\n",
    "            nn.Conv2d(hidden_dim, hidden_dim, kernel_size=3, padding=1),\n",
    "            nn.BatchNorm2d(hidden_dim),\n",
    "            nn.ReLU(),\n",
    "            nn.AdaptiveAvgPool2d((1, 1))  # -> 1x1\n",
    "        )\n",
    "        self.fc = nn.Linear(hidden_dim, out_dim)\n",
    "\n",
    "    def forward(self, x):\n",
    "        x = self.encoder(x)          # Shape: (B, hidden_dim, 1, 1)\n",
    "        x = x.view(x.size(0), -1)    # Flatten to (B, hidden_dim)\n",
    "        return self.fc(x)           "
   ]
  },
  {
   "cell_type": "code",
   "execution_count": 97,
   "id": "bea99fde",
   "metadata": {},
   "outputs": [
    {
     "name": "stderr",
     "output_type": "stream",
     "text": [
      "C:\\Users\\ACER\\AppData\\Local\\Temp\\ipykernel_15208\\1573264925.py:3: FutureWarning: You are using `torch.load` with `weights_only=False` (the current default value), which uses the default pickle module implicitly. It is possible to construct malicious pickle data which will execute arbitrary code during unpickling (See https://github.com/pytorch/pytorch/blob/main/SECURITY.md#untrusted-models for more details). In a future release, the default value for `weights_only` will be flipped to `True`. This limits the functions that could be executed during unpickling. Arbitrary objects will no longer be allowed to be loaded via this mode unless they are explicitly allowlisted by the user via `torch.serialization.add_safe_globals`. We recommend you start setting `weights_only=True` for any use case where you don't have full control of the loaded file. Please open an issue on GitHub for any issues related to this experimental feature.\n",
      "  encoder.load_state_dict(torch.load(\"simsiam_encoder.pth\", map_location=device))\n"
     ]
    },
    {
     "data": {
      "text/plain": [
       "<All keys matched successfully>"
      ]
     },
     "execution_count": 97,
     "metadata": {},
     "output_type": "execute_result"
    }
   ],
   "source": [
    "encoder = Encoder()\n",
    "device = torch.device(\"cuda\" if torch.cuda.is_available() else \"cpu\")\n",
    "encoder.load_state_dict(torch.load(\"simsiam_encoder.pth\", map_location=device))"
   ]
  },
  {
   "cell_type": "code",
   "execution_count": 98,
   "id": "294578b0",
   "metadata": {},
   "outputs": [],
   "source": [
    "class MAMLModel(nn.Module):\n",
    "    def __init__(self, encoder, feature_dim=128, n_way=5):\n",
    "        super().__init__()\n",
    "        self.encoder = encoder\n",
    "\n",
    "        # Two-layer MLP classifier\n",
    "        self.classifier = nn.Sequential(\n",
    "            nn.Linear(feature_dim, 256),  # Hidden layer with 256 units\n",
    "            nn.ReLU(inplace=True),\n",
    "            nn.Dropout(p=0.3),            # Optional dropout for regularization\n",
    "            nn.Linear(256, n_way)\n",
    "        )\n",
    "\n",
    "    def forward(self, x):\n",
    "        features = self.encoder(x)\n",
    "        logits = self.classifier(features)\n",
    "        return logits"
   ]
  },
  {
   "cell_type": "code",
   "execution_count": 99,
   "id": "cb0c3b0a",
   "metadata": {},
   "outputs": [],
   "source": [
    "transform = transforms.Compose([\n",
    "    transforms.Grayscale(),\n",
    "    transforms.Resize((28, 28)),\n",
    "    transforms.ToTensor(),\n",
    "])\n",
    "\n",
    "dataset_path = \"./dataset\"\n",
    "dataset = datasets.ImageFolder(root=dataset_path, transform=transform)\n",
    "\n",
    "class_to_images = defaultdict(list)\n",
    "\n",
    "for image, label in dataset:\n",
    "    class_to_images[label].append(image)"
   ]
  },
  {
   "cell_type": "code",
   "execution_count": 100,
   "id": "556815ce",
   "metadata": {},
   "outputs": [],
   "source": [
    "\n",
    "def sample_episode(class_to_images, n_way=5, k_shot=1, q_query=15):\n",
    "    eligible_classes = [cls for cls, imgs in class_to_images.items() if len(imgs) >= (k_shot + q_query)]\n",
    "    assert len(eligible_classes) >= n_way, f\"Not enough eligible classes with >= {k_shot + q_query} samples.\"\n",
    "\n",
    "    chosen_classes = random.sample(eligible_classes, n_way)\n",
    "\n",
    "    support_images, support_labels = [], []\n",
    "    query_images, query_labels = [], []\n",
    "\n",
    "    for i, cls in enumerate(chosen_classes):\n",
    "        samples = random.sample(class_to_images[cls], k_shot + q_query)\n",
    "        support = samples[:k_shot]\n",
    "        query = samples[k_shot:]\n",
    "\n",
    "        support_images.extend(support)\n",
    "        support_labels.extend([i] * k_shot)\n",
    "        query_images.extend(query)\n",
    "        query_labels.extend([i] * q_query)\n",
    "\n",
    "    # Stack tensors\n",
    "    support_x = torch.stack(support_images)\n",
    "    support_y = torch.tensor(support_labels)\n",
    "    query_x = torch.stack(query_images)\n",
    "    query_y = torch.tensor(query_labels)\n",
    "\n",
    "    return support_x, support_y, query_x, query_y\n"
   ]
  },
  {
   "cell_type": "code",
   "execution_count": 101,
   "id": "52ed12cc",
   "metadata": {},
   "outputs": [],
   "source": [
    "import higher\n",
    "\n",
    "def inner_loop(encoder, support_x, support_y, n_way, inner_lr=0.01, device=\"cuda\", inner_steps=5):\n",
    "    encoder.train()\n",
    "    support_x = support_x.to(device)\n",
    "    support_y = support_y.to(device)\n",
    "\n",
    "    # Create classifier fresh every episode\n",
    "    with torch.no_grad():\n",
    "        features = encoder(support_x)\n",
    "    embedding_dim = features.shape[1]\n",
    "    classifier = torch.nn.Linear(embedding_dim, n_way).to(device)\n",
    "    classifier.train()\n",
    "\n",
    "    # Wrap encoder + classifier into one sequential model\n",
    "    model = torch.nn.Sequential(encoder, classifier)\n",
    "\n",
    "    inner_opt = torch.optim.SGD(model.parameters(), lr=inner_lr)\n",
    "\n",
    "    with higher.innerloop_ctx(model, inner_opt, copy_initial_weights=False) as (fmodel, diffopt):\n",
    "        for _ in range(inner_steps):\n",
    "            logits = fmodel(support_x)\n",
    "            loss = F.cross_entropy(logits, support_y)\n",
    "            diffopt.step(loss)\n",
    "        \n",
    "        # Return the adapted model (fmodel) so outer loop can use it\n",
    "        return fmodel\n"
   ]
  },
  {
   "cell_type": "code",
   "execution_count": 102,
   "id": "b228a625",
   "metadata": {},
   "outputs": [],
   "source": [
    "import torch\n",
    "import torch.nn.functional as F\n",
    "\n",
    "def maml_outer_loop(encoder, class_to_images, n_way, k_shot, q_query, inner_lr, meta_lr, n_episodes, device=\"cuda\"):\n",
    "\n",
    "    encoder.to(device)\n",
    "    encoder.train()\n",
    "\n",
    "    outer_optimizer = torch.optim.Adam(encoder.parameters(), lr=meta_lr)\n",
    "\n",
    "    for episode in range(1, n_episodes + 1):\n",
    "        # Sample episode data\n",
    "        support_x, support_y, query_x, query_y = sample_episode(class_to_images, n_way, k_shot, q_query)\n",
    "\n",
    "        # Inner loop: get adapted model (encoder+classifier) after support set training\n",
    "        fmodel = inner_loop(encoder, support_x, support_y, n_way, inner_lr, device)\n",
    "\n",
    "        # Query set evaluation with adapted model\n",
    "        query_x, query_y = query_x.to(device), query_y.to(device)\n",
    "        query_logits = fmodel(query_x)\n",
    "        query_loss = F.cross_entropy(query_logits, query_y)\n",
    "\n",
    "        # Outer loop meta-update\n",
    "        outer_optimizer.zero_grad()\n",
    "        query_loss.backward()\n",
    "        outer_optimizer.step()\n",
    "\n",
    "        # Calculate meta accuracy on query set\n",
    "        with torch.no_grad():\n",
    "            preds = torch.argmax(query_logits, dim=1)\n",
    "            acc = (preds == query_y).float().mean().item()\n",
    "\n",
    "        if episode % 50 == 0:\n",
    "            print(f\"[Episode {episode}/{n_episodes}] Meta Loss: {query_loss.item():.4f} | Meta Accuracy: {acc*100:.2f}%\")\n"
   ]
  },
  {
   "cell_type": "code",
   "execution_count": 103,
   "id": "98c74bf6",
   "metadata": {},
   "outputs": [
    {
     "name": "stdout",
     "output_type": "stream",
     "text": [
      "[Episode 50/1000] Meta Loss: 1.6244 | Meta Accuracy: 13.33%\n",
      "[Episode 100/1000] Meta Loss: 1.5996 | Meta Accuracy: 21.33%\n",
      "[Episode 150/1000] Meta Loss: 1.6075 | Meta Accuracy: 16.00%\n",
      "[Episode 200/1000] Meta Loss: 1.6218 | Meta Accuracy: 14.67%\n",
      "[Episode 250/1000] Meta Loss: 1.5998 | Meta Accuracy: 20.00%\n",
      "[Episode 300/1000] Meta Loss: 1.6434 | Meta Accuracy: 16.00%\n",
      "[Episode 350/1000] Meta Loss: 1.5608 | Meta Accuracy: 14.67%\n",
      "[Episode 400/1000] Meta Loss: 1.6218 | Meta Accuracy: 20.00%\n",
      "[Episode 450/1000] Meta Loss: 1.6991 | Meta Accuracy: 4.00%\n",
      "[Episode 500/1000] Meta Loss: 1.5829 | Meta Accuracy: 29.33%\n",
      "[Episode 550/1000] Meta Loss: 1.6311 | Meta Accuracy: 2.67%\n",
      "[Episode 600/1000] Meta Loss: 1.5897 | Meta Accuracy: 21.33%\n",
      "[Episode 650/1000] Meta Loss: 1.5880 | Meta Accuracy: 20.00%\n",
      "[Episode 700/1000] Meta Loss: 1.6405 | Meta Accuracy: 24.00%\n",
      "[Episode 750/1000] Meta Loss: 1.6549 | Meta Accuracy: 16.00%\n",
      "[Episode 800/1000] Meta Loss: 1.6785 | Meta Accuracy: 6.67%\n",
      "[Episode 850/1000] Meta Loss: 1.6175 | Meta Accuracy: 38.67%\n",
      "[Episode 900/1000] Meta Loss: 1.5919 | Meta Accuracy: 20.00%\n",
      "[Episode 950/1000] Meta Loss: 1.5818 | Meta Accuracy: 20.00%\n",
      "[Episode 1000/1000] Meta Loss: 1.5650 | Meta Accuracy: 29.33%\n"
     ]
    }
   ],
   "source": [
    "device = \"cuda\" if torch.cuda.is_available() else \"cpu\"\n",
    "\n",
    "# Hyperparameters\n",
    "n_episodes = 1000\n",
    "n_way = 5\n",
    "k_shot = 5\n",
    "q_query = 15\n",
    "inner_lr = 5e-4\n",
    "meta_lr = 1e-6\n",
    "\n",
    "encoder.to(device)\n",
    "encoder.train()\n",
    "\n",
    "outer_optimizer = torch.optim.Adam(encoder.parameters(), lr=meta_lr)\n",
    "\n",
    "for episode in range(1, n_episodes + 1):\n",
    "    support_x, support_y, query_x, query_y = sample_episode(class_to_images, n_way, k_shot, q_query)\n",
    "\n",
    "    fmodel = inner_loop(encoder, support_x, support_y, n_way, inner_lr, device)\n",
    "\n",
    "    query_x, query_y = query_x.to(device), query_y.to(device)\n",
    "    query_logits = fmodel(query_x)\n",
    "    query_loss = F.cross_entropy(query_logits, query_y)\n",
    "\n",
    "    outer_optimizer.zero_grad()\n",
    "    query_loss.backward()\n",
    "    outer_optimizer.step()\n",
    "\n",
    "    with torch.no_grad():\n",
    "        preds = torch.argmax(query_logits, dim=1)\n",
    "        acc = (preds == query_y).float().mean().item()\n",
    "\n",
    "    if episode % 50 == 0:\n",
    "        print(f\"[Episode {episode}/{n_episodes}] Meta Loss: {query_loss.item():.4f} | Meta Accuracy: {acc*100:.2f}%\")\n"
   ]
  },
  {
   "cell_type": "code",
   "execution_count": 104,
   "id": "a9859e7e",
   "metadata": {},
   "outputs": [
    {
     "data": {
      "image/png": "[encoded data removed]",
      "text/plain": [
       "<Figure size 1500x300 with 10 Axes>"
      ]
     },
     "metadata": {},
     "output_type": "display_data"
    }
   ],
   "source": [
    "import matplotlib.pyplot as plt\n",
    "import numpy as np\n",
    "\n",
    "# Assuming you already have:\n",
    "# dataset = ImageFolder(root=dataset_path, transform=transform)\n",
    "\n",
    "def imshow(img_tensor, title=None):\n",
    "    # img_tensor shape: [1, 28, 28] since grayscale\n",
    "    img = img_tensor.squeeze().cpu().numpy()  # remove channel dim\n",
    "    plt.imshow(img, cmap='gray')\n",
    "    if title:\n",
    "        plt.title(title)\n",
    "    plt.axis('off')\n",
    "\n",
    "def visualize_samples(dataset, num_samples=10):\n",
    "    plt.figure(figsize=(15, 3))\n",
    "    indices = np.random.choice(len(dataset), num_samples, replace=False)\n",
    "\n",
    "    for i, idx in enumerate(indices, 1):\n",
    "        img, label = dataset[idx]\n",
    "        plt.subplot(1, num_samples, i)\n",
    "        imshow(img, title=f'Class {label}')\n",
    "    plt.show()\n",
    "\n",
    "visualize_samples(dataset, num_samples=10)\n"
   ]
  },
  {
   "cell_type": "code",
   "execution_count": null,
   "id": "30a711aa",
   "metadata": {},
   "outputs": [],
   "source": []
  }
 ],
 "metadata": {
  "kernelspec": {
   "display_name": "pytorch",
   "language": "python",
   "name": "python3"
  },
  "language_info": {
   "codemirror_mode": {
    "name": "ipython",
    "version": 3
   },
   "file_extension": ".py",
   "mimetype": "text/x-python",
   "name": "python",
   "nbconvert_exporter": "python",
   "pygments_lexer": "ipython3",
   "version": "3.12.8"
  }
 },
 "nbformat": 4,
 "nbformat_minor": 5
}
