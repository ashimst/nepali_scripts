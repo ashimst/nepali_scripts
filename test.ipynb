{
 "cells": [
  {
   "cell_type": "code",
   "execution_count": 1,
   "id": "e1d5ada7",
   "metadata": {},
   "outputs": [],
   "source": [
    "import torch \n",
    "from torch import nn \n",
    "import matplotlib.pyplot as plt\n",
    "import numpy as np\n",
    "from torch.nn import functional as F\n",
    "from tqdm import tqdm\n",
    "from torchvision.datasets import Omniglot\n",
    "from torchvision import transforms\n",
    "from torch.utils.data import DataLoader\n",
    "from collections import defaultdict\n",
    "import random\n",
    "from torch.utils.data import Subset"
   ]
  },
  {
   "cell_type": "code",
   "execution_count": 2,
   "id": "286b6321",
   "metadata": {},
   "outputs": [],
   "source": [
    "class Encoder(nn.Module):\n",
    "    def __init__(self, hidden_dim=64, out_dim=64):\n",
    "        super().__init__()\n",
    "        self.encoder = nn.Sequential(\n",
    "            nn.Conv2d(1, hidden_dim, kernel_size=3, padding=1),  # 28x28\n",
    "            nn.BatchNorm2d(hidden_dim),\n",
    "            nn.ReLU(),\n",
    "            nn.MaxPool2d(2),  # -> 14x14\n",
    "\n",
    "            nn.Conv2d(hidden_dim, hidden_dim, kernel_size=3, padding=1),\n",
    "            nn.BatchNorm2d(hidden_dim),\n",
    "            nn.ReLU(),\n",
    "            nn.MaxPool2d(2),  # -> 7x7\n",
    "\n",
    "            nn.Conv2d(hidden_dim, hidden_dim, kernel_size=3, padding=1),\n",
    "            nn.BatchNorm2d(hidden_dim),\n",
    "            nn.ReLU(),\n",
    "            nn.MaxPool2d(2),  # -> 3x3\n",
    "\n",
    "            nn.Conv2d(hidden_dim, hidden_dim, kernel_size=3, padding=1),\n",
    "            nn.BatchNorm2d(hidden_dim),\n",
    "            nn.ReLU(),\n",
    "            nn.AdaptiveAvgPool2d((1, 1))  # -> 1x1\n",
    "        )\n",
    "        self.fc = nn.Linear(hidden_dim, out_dim)\n",
    "\n",
    "    def forward(self, x):\n",
    "        x = self.encoder(x)          # Shape: (B, hidden_dim, 1, 1)\n",
    "        x = x.view(x.size(0), -1)    # Flatten to (B, hidden_dim)\n",
    "        return self.fc(x)           "
   ]
  },
  {
   "cell_type": "code",
   "execution_count": 3,
   "id": "36210309",
   "metadata": {},
   "outputs": [],
   "source": [
    "encoder = Encoder()"
   ]
  },
  {
   "cell_type": "code",
   "execution_count": 4,
   "id": "3ba02aec",
   "metadata": {},
   "outputs": [
    {
     "data": {
      "text/plain": [
       "device(type='cuda')"
      ]
     },
     "execution_count": 4,
     "metadata": {},
     "output_type": "execute_result"
    }
   ],
   "source": [
    "device = torch.device(\"cuda\" if torch.cuda.is_available() else \"cpu\")\n",
    "device  "
   ]
  },
  {
   "cell_type": "code",
   "execution_count": 5,
   "id": "bcc78e6f",
   "metadata": {},
   "outputs": [
    {
     "name": "stderr",
     "output_type": "stream",
     "text": [
      "C:\\Users\\ACER\\AppData\\Local\\Temp\\ipykernel_1684\\3061771228.py:1: FutureWarning: You are using `torch.load` with `weights_only=False` (the current default value), which uses the default pickle module implicitly. It is possible to construct malicious pickle data which will execute arbitrary code during unpickling (See https://github.com/pytorch/pytorch/blob/main/SECURITY.md#untrusted-models for more details). In a future release, the default value for `weights_only` will be flipped to `True`. This limits the functions that could be executed during unpickling. Arbitrary objects will no longer be allowed to be loaded via this mode unless they are explicitly allowlisted by the user via `torch.serialization.add_safe_globals`. We recommend you start setting `weights_only=True` for any use case where you don't have full control of the loaded file. Please open an issue on GitHub for any issues related to this experimental feature.\n",
      "  encoder.load_state_dict(torch.load(\"byol_best_model.pth\", map_location=device))\n"
     ]
    },
    {
     "data": {
      "text/plain": [
       "<All keys matched successfully>"
      ]
     },
     "execution_count": 5,
     "metadata": {},
     "output_type": "execute_result"
    }
   ],
   "source": [
    "encoder.load_state_dict(torch.load(\"byol_best_model.pth\", map_location=device))"
   ]
  },
  {
   "cell_type": "code",
   "execution_count": 6,
   "id": "11ffa3cc",
   "metadata": {},
   "outputs": [
    {
     "data": {
      "text/plain": [
       "Encoder(\n",
       "  (encoder): Sequential(\n",
       "    (0): Conv2d(1, 64, kernel_size=(3, 3), stride=(1, 1), padding=(1, 1))\n",
       "    (1): BatchNorm2d(64, eps=1e-05, momentum=0.1, affine=True, track_running_stats=True)\n",
       "    (2): ReLU()\n",
       "    (3): MaxPool2d(kernel_size=2, stride=2, padding=0, dilation=1, ceil_mode=False)\n",
       "    (4): Conv2d(64, 64, kernel_size=(3, 3), stride=(1, 1), padding=(1, 1))\n",
       "    (5): BatchNorm2d(64, eps=1e-05, momentum=0.1, affine=True, track_running_stats=True)\n",
       "    (6): ReLU()\n",
       "    (7): MaxPool2d(kernel_size=2, stride=2, padding=0, dilation=1, ceil_mode=False)\n",
       "    (8): Conv2d(64, 64, kernel_size=(3, 3), stride=(1, 1), padding=(1, 1))\n",
       "    (9): BatchNorm2d(64, eps=1e-05, momentum=0.1, affine=True, track_running_stats=True)\n",
       "    (10): ReLU()\n",
       "    (11): MaxPool2d(kernel_size=2, stride=2, padding=0, dilation=1, ceil_mode=False)\n",
       "    (12): Conv2d(64, 64, kernel_size=(3, 3), stride=(1, 1), padding=(1, 1))\n",
       "    (13): BatchNorm2d(64, eps=1e-05, momentum=0.1, affine=True, track_running_stats=True)\n",
       "    (14): ReLU()\n",
       "    (15): AdaptiveAvgPool2d(output_size=(1, 1))\n",
       "  )\n",
       "  (fc): Linear(in_features=64, out_features=64, bias=True)\n",
       ")"
      ]
     },
     "execution_count": 6,
     "metadata": {},
     "output_type": "execute_result"
    }
   ],
   "source": [
    "encoder.to(device)\n",
    "encoder.eval()"
   ]
  },
  {
   "cell_type": "code",
   "execution_count": 7,
   "id": "73296348",
   "metadata": {},
   "outputs": [
    {
     "name": "stdout",
     "output_type": "stream",
     "text": [
      "Files already downloaded and verified\n"
     ]
    }
   ],
   "source": [
    "eval_transform = transforms.Compose([\n",
    "    transforms.Resize((28, 28)),\n",
    "    transforms.ToTensor(),\n",
    "    transforms.Normalize((0.5,), (0.5,))\n",
    "])\n",
    "\n",
    "eval_dataset = Omniglot(root='./data', background=True, download=True, transform=eval_transform)\n",
    "eval_loader = DataLoader(eval_dataset, batch_size=64, shuffle=False)"
   ]
  },
  {
   "cell_type": "code",
   "execution_count": 8,
   "id": "3f4d58ac",
   "metadata": {},
   "outputs": [],
   "source": [
    "\n",
    "\n",
    "# Build a map from class label → list of sample indices\n",
    "class_to_indices = defaultdict(list)\n",
    "for idx, (_, label) in enumerate(eval_dataset):\n",
    "    class_to_indices[label].append(idx)\n",
    "\n",
    "# Randomly choose 5 classes\n",
    "selected_classes = random.sample(list(class_to_indices.keys()), 5)\n",
    "\n",
    "# For each class, pick up to 20 samples\n",
    "selected_indices = []\n",
    "for cls in selected_classes:\n",
    "    selected_indices.extend(class_to_indices[cls][:20])  # pick 20 samples per class\n",
    "\n",
    "# Create subset of dataset\n",
    "subset = Subset(eval_dataset, selected_indices)\n",
    "subset_loader = DataLoader(subset, batch_size=64, shuffle=False)\n"
   ]
  },
  {
   "cell_type": "code",
   "execution_count": 9,
   "id": "c3637830",
   "metadata": {},
   "outputs": [],
   "source": [
    "all_embeddings = []\n",
    "all_labels = []\n",
    "\n",
    "with torch.no_grad():\n",
    "    for images, labels in subset_loader:\n",
    "        images = images.to(device)\n",
    "        embeddings = encoder(images)\n",
    "        all_embeddings.append(embeddings.cpu().numpy())\n",
    "        all_labels.append(labels.numpy())\n",
    "\n",
    "X = np.concatenate(all_embeddings, axis=0)\n",
    "y = np.concatenate(all_labels, axis=0)"
   ]
  },
  {
   "cell_type": "code",
   "execution_count": 10,
   "id": "c386f4c2",
   "metadata": {},
   "outputs": [],
   "source": [
    "from sklearn.manifold import TSNE\n",
    "\n",
    "tsne = TSNE(n_components=3, perplexity=30, init='pca', random_state=42)\n",
    "X_3d = tsne.fit_transform(X)  # shape: (num_samples, 3)\n"
   ]
  },
  {
   "cell_type": "code",
   "execution_count": 11,
   "id": "70f1479e",
   "metadata": {},
   "outputs": [
    {
     "data": {
      "application/vnd.plotly.v1+json": {
       "config": {
        "plotlyServerURL": "https://plot.ly"
       },
       "data": [
        {
         "hovertemplate": "Omniglot Class=Class 953<br>x=%{x}<br>y=%{y}<br>z=%{z}<extra></extra>",
         "legendgroup": "Class 953",
         "marker": {
          "color": "#636efa",
          "opacity": 0.8,
          "size": 5,
          "symbol": "circle"
         },
         "mode": "markers",
         "name": "Class 953",
         "scene": "scene",
         "showlegend": true,
         "type": "scatter3d",
         "x": [
          36.03567886352539,
          65.54573822021484,
          91.20939636230469,
          63.419586181640625,
          40.022117614746094,
          93.15635681152344,
          53.19068145751953,
          66.15393829345703,
          31.84689712524414,
          38.79430389404297,
          64.14730072021484,
          91.76713562011719,
          85.09125518798828,
          -99.53253936767578,
          38.41360092163086,
          16.124713897705078,
          13.946235656738281,
          60.360355377197266,
          79.20978546142578,
          59.598758697509766
         ],
         "y": [
          -98.63223266601562,
          -11.211841583251953,
          -29.520620346069336,
          -55.276458740234375,
          -25.034957885742188,
          -66.63793182373047,
          -47.5182991027832,
          -47.28248977661133,
          -37.07289505004883,
          -79.86746978759766,
          -79.22915649414062,
          -36.53590774536133,
          -60.4109001159668,
          -50.794368743896484,
          -64.3720932006836,
          -40.65388488769531,
          -72.4261245727539,
          -12.189190864562988,
          -27.27051544189453,
          -49.6063232421875
         ],
         "z": [
          28.661659240722656,
          51.68589401245117,
          24.78409767150879,
          76.55392456054688,
          36.0228385925293,
          35.797996520996094,
          12.006095886230469,
          41.74112319946289,
          65.13663482666016,
          -5.606156826019287,
          19.772174835205078,
          60.56806182861328,
          0.8283936977386475,
          -35.97134780883789,
          42.2310676574707,
          25.39980697631836,
          17.411474227905273,
          13.630739212036133,
          -8.518210411071777,
          -26.933393478393555
         ]
        },
        {
         "hovertemplate": "Omniglot Class=Class 352<br>x=%{x}<br>y=%{y}<br>z=%{z}<extra></extra>",
         "legendgroup": "Class 352",
         "marker": {
          "color": "#EF553B",
          "opacity": 0.8,
          "size": 5,
          "symbol": "circle"
         },
         "mode": "markers",
         "name": "Class 352",
         "scene": "scene",
         "showlegend": true,
         "type": "scatter3d",
         "x": [
          25.788015365600586,
          2.104978322982788,
          -21.424306869506836,
          -57.989009857177734,
          -67.6396255493164,
          -12.30393123626709,
          5.917237281799316,
          -28.187503814697266,
          -60.84333038330078,
          -51.45423126220703,
          64.38512420654297,
          -83.5008544921875,
          -88.18505096435547,
          -82.29491424560547,
          25.703418731689453,
          -46.98832321166992,
          -23.456960678100586,
          -1.0092695951461792,
          -0.5656881332397461,
          -24.05732536315918
         ],
         "y": [
          29.283658981323242,
          -68.2396240234375,
          -50.196380615234375,
          -64.4347152709961,
          -67.91144561767578,
          -73.85133361816406,
          -4.8109517097473145,
          -50.47438049316406,
          -35.958683013916016,
          -62.54300308227539,
          -86.74433135986328,
          -1.5147501230239868,
          -22.59180450439453,
          -52.23813247680664,
          -48.17527770996094,
          -35.276039123535156,
          -17.326000213623047,
          113.65571594238281,
          -42.957298278808594,
          -85.37346649169922
         ],
         "z": [
          -102.18412017822266,
          50.275054931640625,
          18.453868865966797,
          62.08039093017578,
          2.4824776649475098,
          -11.076925277709961,
          65.65564727783203,
          51.19662857055664,
          11.923548698425293,
          29.76874351501465,
          55.575439453125,
          -17.525951385498047,
          12.847256660461426,
          38.13276672363281,
          -5.394941329956055,
          78.41193389892578,
          62.33887481689453,
          -74.84193420410156,
          73.49108123779297,
          17.821081161499023
         ]
        },
        {
         "hovertemplate": "Omniglot Class=Class 425<br>x=%{x}<br>y=%{y}<br>z=%{z}<extra></extra>",
         "legendgroup": "Class 425",
         "marker": {
          "color": "#00cc96",
          "opacity": 0.8,
          "size": 5,
          "symbol": "circle"
         },
         "mode": "markers",
         "name": "Class 425",
         "scene": "scene",
         "showlegend": true,
         "type": "scatter3d",
         "x": [
          -62.70559310913086,
          -47.73177719116211,
          -33.79110336303711,
          -36.957279205322266,
          -19.578136444091797,
          13.120220184326172,
          -27.5531063079834,
          7.355655193328857,
          9.758010864257812,
          -18.325159072875977,
          -67.95194244384766,
          -10.328714370727539,
          -45.84095001220703,
          10.50115966796875,
          24.543241500854492,
          -8.067222595214844,
          7.334826469421387,
          -32.72665786743164,
          -16.68785285949707,
          11.711288452148438
         ],
         "y": [
          -25.32062339782715,
          -48.05381774902344,
          -20.99476432800293,
          -11.591541290283203,
          -32.0250129699707,
          -29.49270248413086,
          -88.10002899169922,
          -2.657592296600342,
          -17.570903778076172,
          0.6531084179878235,
          -21.183124542236328,
          15.397554397583008,
          13.53054141998291,
          51.27187728881836,
          6.3005146980285645,
          -3.758202075958252,
          25.02883529663086,
          42.373409271240234,
          17.355350494384766,
          -11.12964916229248
         ],
         "z": [
          49.444820404052734,
          -34.207942962646484,
          31.865835189819336,
          -48.921974182128906,
          -27.026702880859375,
          -49.783592224121094,
          51.629302978515625,
          9.73795223236084,
          -82.01749420166016,
          -17.761489868164062,
          -39.34503173828125,
          -75.98421478271484,
          -29.45697784423828,
          5.6121625900268555,
          -63.76301574707031,
          -48.97091293334961,
          -44.283424377441406,
          0.9884001612663269,
          11.38713550567627,
          -22.37425422668457
         ]
        },
        {
         "hovertemplate": "Omniglot Class=Class 369<br>x=%{x}<br>y=%{y}<br>z=%{z}<extra></extra>",
         "legendgroup": "Class 369",
         "marker": {
          "color": "#ab63fa",
          "opacity": 0.8,
          "size": 5,
          "symbol": "circle"
         },
         "mode": "markers",
         "name": "Class 369",
         "scene": "scene",
         "showlegend": true,
         "type": "scatter3d",
         "x": [
          29.353954315185547,
          82.96803283691406,
          -11.757155418395996,
          -62.104225158691406,
          -48.34166717529297,
          -43.971797943115234,
          7.267627239227295,
          -19.825822830200195,
          -40.086463928222656,
          0.18655364215373993,
          -38.49355697631836,
          -70.02099609375,
          -44.75422668457031,
          -28.41238021850586,
          -12.655941009521484,
          30.25626564025879,
          -69.60749053955078,
          -75.57396697998047,
          -53.67112350463867,
          72.75787353515625
         ],
         "y": [
          61.72330856323242,
          44.10197448730469,
          34.53252410888672,
          61.488285064697266,
          117.83033752441406,
          81.85454559326172,
          108.657958984375,
          103.59866333007812,
          73.73394012451172,
          78.41294860839844,
          110.83748626708984,
          96.82235717773438,
          81.7936782836914,
          103.8226089477539,
          80.91634368896484,
          83.76383972167969,
          98.01519012451172,
          67.58048248291016,
          11.519693374633789,
          -94.42794036865234
         ],
         "z": [
          -25.3389835357666,
          13.418440818786621,
          -21.546703338623047,
          24.73625946044922,
          -1.4744850397109985,
          47.706939697265625,
          13.794846534729004,
          -8.48252010345459,
          -30.12006187438965,
          -22.686521530151367,
          35.579097747802734,
          20.5567569732666,
          2.4240119457244873,
          -39.36147689819336,
          13.85925579071045,
          -0.5269802212715149,
          -18.64940071105957,
          -6.200333118438721,
          -68.35362243652344,
          -39.393001556396484
         ]
        },
        {
         "hovertemplate": "Omniglot Class=Class 156<br>x=%{x}<br>y=%{y}<br>z=%{z}<extra></extra>",
         "legendgroup": "Class 156",
         "marker": {
          "color": "#FFA15A",
          "opacity": 0.8,
          "size": 5,
          "symbol": "circle"
         },
         "mode": "markers",
         "name": "Class 156",
         "scene": "scene",
         "showlegend": true,
         "type": "scatter3d",
         "x": [
          -49.81911087036133,
          52.91310119628906,
          -27.147785186767578,
          -50.87578201293945,
          -18.268898010253906,
          -28.735275268554688,
          17.0651798248291,
          1.0590330362319946,
          60.797481536865234,
          49.26457977294922,
          22.293670654296875,
          17.6940860748291,
          41.639793395996094,
          11.625649452209473,
          -61.083133697509766,
          32.3181037902832,
          62.27010726928711,
          49.57624816894531,
          17.31472396850586,
          38.59688186645508
         ],
         "y": [
          -36.851417541503906,
          65.50052642822266,
          -16.331552505493164,
          -20.882001876831055,
          -45.572845458984375,
          29.452123641967773,
          20.811195373535156,
          35.39358901977539,
          71.42719268798828,
          57.194366455078125,
          93.14314270019531,
          66.83451843261719,
          44.80249786376953,
          112.94341278076172,
          0.3507871925830841,
          29.0909423828125,
          42.754791259765625,
          94.44353485107422,
          62.880462646484375,
          4.071964740753174
         ],
         "z": [
          -68.87444305419922,
          -48.37253189086914,
          -81.33517456054688,
          -11.253281593322754,
          -58.07259750366211,
          -52.68709182739258,
          -11.141592025756836,
          35.16819381713867,
          -6.401211738586426,
          34.81080627441406,
          -44.07070541381836,
          33.910858154296875,
          0.18870790302753448,
          -19.73386001586914,
          12.734234809875488,
          25.488243103027344,
          -26.55903434753418,
          -27.100717544555664,
          -55.985713958740234,
          -33.86813735961914
         ]
        }
       ],
       "layout": {
        "legend": {
         "title": {
          "text": "Omniglot Class"
         },
         "tracegroupgap": 0
        },
        "scene": {
         "domain": {
          "x": [
           0,
           1
          ],
          "y": [
           0,
           1
          ]
         },
         "xaxis": {
          "title": {
           "text": "x"
          }
         },
         "yaxis": {
          "title": {
           "text": "y"
          }
         },
         "zaxis": {
          "title": {
           "text": "z"
          }
         }
        },
        "template": {
         "data": {
          "bar": [
           {
            "error_x": {
             "color": "#2a3f5f"
            },
            "error_y": {
             "color": "#2a3f5f"
            },
            "marker": {
             "line": {
              "color": "#E5ECF6",
              "width": 0.5
             },
             "pattern": {
              "fillmode": "overlay",
              "size": 10,
              "solidity": 0.2
             }
            },
            "type": "bar"
           }
          ],
          "barpolar": [
           {
            "marker": {
             "line": {
              "color": "#E5ECF6",
              "width": 0.5
             },
             "pattern": {
              "fillmode": "overlay",
              "size": 10,
              "solidity": 0.2
             }
            },
            "type": "barpolar"
           }
          ],
          "carpet": [
           {
            "aaxis": {
             "endlinecolor": "#2a3f5f",
             "gridcolor": "white",
             "linecolor": "white",
             "minorgridcolor": "white",
             "startlinecolor": "#2a3f5f"
            },
            "baxis": {
             "endlinecolor": "#2a3f5f",
             "gridcolor": "white",
             "linecolor": "white",
             "minorgridcolor": "white",
             "startlinecolor": "#2a3f5f"
            },
            "type": "carpet"
           }
          ],
          "choropleth": [
           {
            "colorbar": {
             "outlinewidth": 0,
             "ticks": ""
            },
            "type": "choropleth"
           }
          ],
          "contour": [
           {
            "colorbar": {
             "outlinewidth": 0,
             "ticks": ""
            },
            "colorscale": [
             [
              0,
              "#0d0887"
             ],
             [
              0.1111111111111111,
              "#46039f"
             ],
             [
              0.2222222222222222,
              "#7201a8"
             ],
             [
              0.3333333333333333,
              "#9c179e"
             ],
             [
              0.4444444444444444,
              "#bd3786"
             ],
             [
              0.5555555555555556,
              "#d8576b"
             ],
             [
              0.6666666666666666,
              "#ed7953"
             ],
             [
              0.7777777777777778,
              "#fb9f3a"
             ],
             [
              0.8888888888888888,
              "#fdca26"
             ],
             [
              1,
              "#f0f921"
             ]
            ],
            "type": "contour"
           }
          ],
          "contourcarpet": [
           {
            "colorbar": {
             "outlinewidth": 0,
             "ticks": ""
            },
            "type": "contourcarpet"
           }
          ],
          "heatmap": [
           {
            "colorbar": {
             "outlinewidth": 0,
             "ticks": ""
            },
            "colorscale": [
             [
              0,
              "#0d0887"
             ],
             [
              0.1111111111111111,
              "#46039f"
             ],
             [
              0.2222222222222222,
              "#7201a8"
             ],
             [
              0.3333333333333333,
              "#9c179e"
             ],
             [
              0.4444444444444444,
              "#bd3786"
             ],
             [
              0.5555555555555556,
              "#d8576b"
             ],
             [
              0.6666666666666666,
              "#ed7953"
             ],
             [
              0.7777777777777778,
              "#fb9f3a"
             ],
             [
              0.8888888888888888,
              "#fdca26"
             ],
             [
              1,
              "#f0f921"
             ]
            ],
            "type": "heatmap"
           }
          ],
          "heatmapgl": [
           {
            "colorbar": {
             "outlinewidth": 0,
             "ticks": ""
            },
            "colorscale": [
             [
              0,
              "#0d0887"
             ],
             [
              0.1111111111111111,
              "#46039f"
             ],
             [
              0.2222222222222222,
              "#7201a8"
             ],
             [
              0.3333333333333333,
              "#9c179e"
             ],
             [
              0.4444444444444444,
              "#bd3786"
             ],
             [
              0.5555555555555556,
              "#d8576b"
             ],
             [
              0.6666666666666666,
              "#ed7953"
             ],
             [
              0.7777777777777778,
              "#fb9f3a"
             ],
             [
              0.8888888888888888,
              "#fdca26"
             ],
             [
              1,
              "#f0f921"
             ]
            ],
            "type": "heatmapgl"
           }
          ],
          "histogram": [
           {
            "marker": {
             "pattern": {
              "fillmode": "overlay",
              "size": 10,
              "solidity": 0.2
             }
            },
            "type": "histogram"
           }
          ],
          "histogram2d": [
           {
            "colorbar": {
             "outlinewidth": 0,
             "ticks": ""
            },
            "colorscale": [
             [
              0,
              "#0d0887"
             ],
             [
              0.1111111111111111,
              "#46039f"
             ],
             [
              0.2222222222222222,
              "#7201a8"
             ],
             [
              0.3333333333333333,
              "#9c179e"
             ],
             [
              0.4444444444444444,
              "#bd3786"
             ],
             [
              0.5555555555555556,
              "#d8576b"
             ],
             [
              0.6666666666666666,
              "#ed7953"
             ],
             [
              0.7777777777777778,
              "#fb9f3a"
             ],
             [
              0.8888888888888888,
              "#fdca26"
             ],
             [
              1,
              "#f0f921"
             ]
            ],
            "type": "histogram2d"
           }
          ],
          "histogram2dcontour": [
           {
            "colorbar": {
             "outlinewidth": 0,
             "ticks": ""
            },
            "colorscale": [
             [
              0,
              "#0d0887"
             ],
             [
              0.1111111111111111,
              "#46039f"
             ],
             [
              0.2222222222222222,
              "#7201a8"
             ],
             [
              0.3333333333333333,
              "#9c179e"
             ],
             [
              0.4444444444444444,
              "#bd3786"
             ],
             [
              0.5555555555555556,
              "#d8576b"
             ],
             [
              0.6666666666666666,
              "#ed7953"
             ],
             [
              0.7777777777777778,
              "#fb9f3a"
             ],
             [
              0.8888888888888888,
              "#fdca26"
             ],
             [
              1,
              "#f0f921"
             ]
            ],
            "type": "histogram2dcontour"
           }
          ],
          "mesh3d": [
           {
            "colorbar": {
             "outlinewidth": 0,
             "ticks": ""
            },
            "type": "mesh3d"
           }
          ],
          "parcoords": [
           {
            "line": {
             "colorbar": {
              "outlinewidth": 0,
              "ticks": ""
             }
            },
            "type": "parcoords"
           }
          ],
          "pie": [
           {
            "automargin": true,
            "type": "pie"
           }
          ],
          "scatter": [
           {
            "fillpattern": {
             "fillmode": "overlay",
             "size": 10,
             "solidity": 0.2
            },
            "type": "scatter"
           }
          ],
          "scatter3d": [
           {
            "line": {
             "colorbar": {
              "outlinewidth": 0,
              "ticks": ""
             }
            },
            "marker": {
             "colorbar": {
              "outlinewidth": 0,
              "ticks": ""
             }
            },
            "type": "scatter3d"
           }
          ],
          "scattercarpet": [
           {
            "marker": {
             "colorbar": {
              "outlinewidth": 0,
              "ticks": ""
             }
            },
            "type": "scattercarpet"
           }
          ],
          "scattergeo": [
           {
            "marker": {
             "colorbar": {
              "outlinewidth": 0,
              "ticks": ""
             }
            },
            "type": "scattergeo"
           }
          ],
          "scattergl": [
           {
            "marker": {
             "colorbar": {
              "outlinewidth": 0,
              "ticks": ""
             }
            },
            "type": "scattergl"
           }
          ],
          "scattermapbox": [
           {
            "marker": {
             "colorbar": {
              "outlinewidth": 0,
              "ticks": ""
             }
            },
            "type": "scattermapbox"
           }
          ],
          "scatterpolar": [
           {
            "marker": {
             "colorbar": {
              "outlinewidth": 0,
              "ticks": ""
             }
            },
            "type": "scatterpolar"
           }
          ],
          "scatterpolargl": [
           {
            "marker": {
             "colorbar": {
              "outlinewidth": 0,
              "ticks": ""
             }
            },
            "type": "scatterpolargl"
           }
          ],
          "scatterternary": [
           {
            "marker": {
             "colorbar": {
              "outlinewidth": 0,
              "ticks": ""
             }
            },
            "type": "scatterternary"
           }
          ],
          "surface": [
           {
            "colorbar": {
             "outlinewidth": 0,
             "ticks": ""
            },
            "colorscale": [
             [
              0,
              "#0d0887"
             ],
             [
              0.1111111111111111,
              "#46039f"
             ],
             [
              0.2222222222222222,
              "#7201a8"
             ],
             [
              0.3333333333333333,
              "#9c179e"
             ],
             [
              0.4444444444444444,
              "#bd3786"
             ],
             [
              0.5555555555555556,
              "#d8576b"
             ],
             [
              0.6666666666666666,
              "#ed7953"
             ],
             [
              0.7777777777777778,
              "#fb9f3a"
             ],
             [
              0.8888888888888888,
              "#fdca26"
             ],
             [
              1,
              "#f0f921"
             ]
            ],
            "type": "surface"
           }
          ],
          "table": [
           {
            "cells": {
             "fill": {
              "color": "#EBF0F8"
             },
             "line": {
              "color": "white"
             }
            },
            "header": {
             "fill": {
              "color": "#C8D4E3"
             },
             "line": {
              "color": "white"
             }
            },
            "type": "table"
           }
          ]
         },
         "layout": {
          "annotationdefaults": {
           "arrowcolor": "#2a3f5f",
           "arrowhead": 0,
           "arrowwidth": 1
          },
          "autotypenumbers": "strict",
          "coloraxis": {
           "colorbar": {
            "outlinewidth": 0,
            "ticks": ""
           }
          },
          "colorscale": {
           "diverging": [
            [
             0,
             "#8e0152"
            ],
            [
             0.1,
             "#c51b7d"
            ],
            [
             0.2,
             "#de77ae"
            ],
            [
             0.3,
             "#f1b6da"
            ],
            [
             0.4,
             "#fde0ef"
            ],
            [
             0.5,
             "#f7f7f7"
            ],
            [
             0.6,
             "#e6f5d0"
            ],
            [
             0.7,
             "#b8e186"
            ],
            [
             0.8,
             "#7fbc41"
            ],
            [
             0.9,
             "#4d9221"
            ],
            [
             1,
             "#276419"
            ]
           ],
           "sequential": [
            [
             0,
             "#0d0887"
            ],
            [
             0.1111111111111111,
             "#46039f"
            ],
            [
             0.2222222222222222,
             "#7201a8"
            ],
            [
             0.3333333333333333,
             "#9c179e"
            ],
            [
             0.4444444444444444,
             "#bd3786"
            ],
            [
             0.5555555555555556,
             "#d8576b"
            ],
            [
             0.6666666666666666,
             "#ed7953"
            ],
            [
             0.7777777777777778,
             "#fb9f3a"
            ],
            [
             0.8888888888888888,
             "#fdca26"
            ],
            [
             1,
             "#f0f921"
            ]
           ],
           "sequentialminus": [
            [
             0,
             "#0d0887"
            ],
            [
             0.1111111111111111,
             "#46039f"
            ],
            [
             0.2222222222222222,
             "#7201a8"
            ],
            [
             0.3333333333333333,
             "#9c179e"
            ],
            [
             0.4444444444444444,
             "#bd3786"
            ],
            [
             0.5555555555555556,
             "#d8576b"
            ],
            [
             0.6666666666666666,
             "#ed7953"
            ],
            [
             0.7777777777777778,
             "#fb9f3a"
            ],
            [
             0.8888888888888888,
             "#fdca26"
            ],
            [
             1,
             "#f0f921"
            ]
           ]
          },
          "colorway": [
           "#636efa",
           "#EF553B",
           "#00cc96",
           "#ab63fa",
           "#FFA15A",
           "#19d3f3",
           "#FF6692",
           "#B6E880",
           "#FF97FF",
           "#FECB52"
          ],
          "font": {
           "color": "#2a3f5f"
          },
          "geo": {
           "bgcolor": "white",
           "lakecolor": "white",
           "landcolor": "#E5ECF6",
           "showlakes": true,
           "showland": true,
           "subunitcolor": "white"
          },
          "hoverlabel": {
           "align": "left"
          },
          "hovermode": "closest",
          "mapbox": {
           "style": "light"
          },
          "paper_bgcolor": "white",
          "plot_bgcolor": "#E5ECF6",
          "polar": {
           "angularaxis": {
            "gridcolor": "white",
            "linecolor": "white",
            "ticks": ""
           },
           "bgcolor": "#E5ECF6",
           "radialaxis": {
            "gridcolor": "white",
            "linecolor": "white",
            "ticks": ""
           }
          },
          "scene": {
           "xaxis": {
            "backgroundcolor": "#E5ECF6",
            "gridcolor": "white",
            "gridwidth": 2,
            "linecolor": "white",
            "showbackground": true,
            "ticks": "",
            "zerolinecolor": "white"
           },
           "yaxis": {
            "backgroundcolor": "#E5ECF6",
            "gridcolor": "white",
            "gridwidth": 2,
            "linecolor": "white",
            "showbackground": true,
            "ticks": "",
            "zerolinecolor": "white"
           },
           "zaxis": {
            "backgroundcolor": "#E5ECF6",
            "gridcolor": "white",
            "gridwidth": 2,
            "linecolor": "white",
            "showbackground": true,
            "ticks": "",
            "zerolinecolor": "white"
           }
          },
          "shapedefaults": {
           "line": {
            "color": "#2a3f5f"
           }
          },
          "ternary": {
           "aaxis": {
            "gridcolor": "white",
            "linecolor": "white",
            "ticks": ""
           },
           "baxis": {
            "gridcolor": "white",
            "linecolor": "white",
            "ticks": ""
           },
           "bgcolor": "#E5ECF6",
           "caxis": {
            "gridcolor": "white",
            "linecolor": "white",
            "ticks": ""
           }
          },
          "title": {
           "x": 0.05
          },
          "xaxis": {
           "automargin": true,
           "gridcolor": "white",
           "linecolor": "white",
           "ticks": "",
           "title": {
            "standoff": 15
           },
           "zerolinecolor": "white",
           "zerolinewidth": 2
          },
          "yaxis": {
           "automargin": true,
           "gridcolor": "white",
           "linecolor": "white",
           "ticks": "",
           "title": {
            "standoff": 15
           },
           "zerolinecolor": "white",
           "zerolinewidth": 2
          }
         }
        },
        "title": {
         "text": "3D t-SNE of 5 Omniglot Classes (BYOL Embeddings)"
        }
       }
      }
     },
     "metadata": {},
     "output_type": "display_data"
    }
   ],
   "source": [
    "import plotly.express as px\n",
    "import pandas as pd\n",
    "\n",
    "# Create a dataframe for easier plotting\n",
    "df = pd.DataFrame({\n",
    "    'x': X_3d[:, 0],\n",
    "    'y': X_3d[:, 1],\n",
    "    'z': X_3d[:, 2],\n",
    "    'class': y\n",
    "})\n",
    "\n",
    "# Filter only selected class labels (5 classes)\n",
    "df = df[df['class'].isin(selected_classes)]\n",
    "\n",
    "# Map original class labels to consistent string labels\n",
    "label_map = {label: f\"Class {label}\" for label in selected_classes}\n",
    "df['class'] = df['class'].map(label_map)\n",
    "\n",
    "# Create interactive 3D scatter plot\n",
    "fig = px.scatter_3d(df, x='x', y='y', z='z',\n",
    "                    color='class',\n",
    "                    title=\"3D t-SNE of 5 Omniglot Classes (BYOL Embeddings)\",\n",
    "                    labels={\"class\": \"Omniglot Class\"},\n",
    "                    opacity=0.8)\n",
    "\n",
    "fig.update_traces(marker=dict(size=5))\n",
    "fig.show()\n"
   ]
  },
  {
   "cell_type": "code",
   "execution_count": 12,
   "id": "69d0acca",
   "metadata": {},
   "outputs": [],
   "source": [
    "from sklearn.model_selection import train_test_split\n",
    "\n",
    "X_train, X_test, y_train, y_test = train_test_split(\n",
    "    X, y, test_size=0.3, random_state=42, stratify=y \n",
    ")"
   ]
  },
  {
   "cell_type": "code",
   "execution_count": 13,
   "id": "6d19cfba",
   "metadata": {},
   "outputs": [
    {
     "name": "stdout",
     "output_type": "stream",
     "text": [
      "KNN Accuracy: 80.00%\n"
     ]
    }
   ],
   "source": [
    "from sklearn.neighbors import KNeighborsClassifier\n",
    "from sklearn.metrics import accuracy_score\n",
    "knn = KNeighborsClassifier(n_neighbors=5)\n",
    "knn.fit(X_train, y_train)\n",
    "y_pred = knn.predict(X_test)\n",
    "print(f\"KNN Accuracy: {accuracy_score(y_test, y_pred) * 100:.2f}%\")"
   ]
  },
  {
   "cell_type": "code",
   "execution_count": 14,
   "id": "acff2518",
   "metadata": {},
   "outputs": [
    {
     "name": "stdout",
     "output_type": "stream",
     "text": [
      "SVM Accuracy: 76.67%\n"
     ]
    }
   ],
   "source": [
    "from sklearn.svm import SVC\n",
    "from sklearn.metrics import accuracy_score\n",
    "svc= SVC(kernel='rbf', random_state=42)\n",
    "svc.fit(X_train, y_train)\n",
    "y_pred = svc.predict(X_test)\n",
    "print(f\"SVM Accuracy: {accuracy_score(y_test, y_pred) * 100:.2f}%\")\n"
   ]
  },
  {
   "cell_type": "code",
   "execution_count": 15,
   "id": "d3aafb67",
   "metadata": {},
   "outputs": [
    {
     "name": "stdout",
     "output_type": "stream",
     "text": [
      "Random Forest Accuracy: 93.33%\n"
     ]
    }
   ],
   "source": [
    "from sklearn.ensemble import RandomForestClassifier\n",
    "from sklearn.metrics import accuracy_score\n",
    "\n",
    "rf = RandomForestClassifier(n_estimators=1000, random_state=42)\n",
    "rf.fit(X_train, y_train)\n",
    "y_pred = rf.predict(X_test)\n",
    "print(f\"Random Forest Accuracy: {accuracy_score(y_test, y_pred) * 100:.2f}%\") "
   ]
  },
  {
   "cell_type": "code",
   "execution_count": 16,
   "id": "8c64f482",
   "metadata": {},
   "outputs": [
    {
     "data": {
      "application/vnd.plotly.v1+json": {
       "config": {
        "plotlyServerURL": "https://plot.ly"
       },
       "data": [
        {
         "hovertemplate": "Omniglot Class=Class 953<br>x=%{x}<br>y=%{y}<extra></extra>",
         "legendgroup": "Class 953",
         "marker": {
          "color": "#636efa",
          "opacity": 0.8,
          "size": 7,
          "symbol": "circle"
         },
         "mode": "markers",
         "name": "Class 953",
         "orientation": "v",
         "showlegend": true,
         "type": "scatter",
         "x": [
          2.498202323913574,
          1.7478331327438354,
          2.106083869934082,
          2.871464967727661,
          1.8571336269378662,
          2.4988980293273926,
          1.5069279670715332,
          2.310617685317993,
          1.3152203559875488,
          1.851701259613037,
          1.7911375761032104,
          2.493807554244995,
          2.3878395557403564,
          2.402327299118042,
          2.186030387878418,
          1.6943241357803345,
          1.3027174472808838,
          2.386924982070923,
          1.9311091899871826,
          2.8629331588745117
         ],
         "xaxis": "x",
         "y": [
          1.2873423099517822,
          1.5920497179031372,
          2.2565948963165283,
          1.9620722532272339,
          1.3290305137634277,
          1.4760991334915161,
          1.7954295873641968,
          1.9630283117294312,
          0.8999111652374268,
          0.9595057964324951,
          1.9456300735473633,
          2.0745017528533936,
          1.75181245803833,
          1.2092183828353882,
          1.2420003414154053,
          0.9950242042541504,
          0.8131461143493652,
          2.11203670501709,
          1.5974384546279907,
          1.718883991241455
         ],
         "yaxis": "y"
        },
        {
         "hovertemplate": "Omniglot Class=Class 352<br>x=%{x}<br>y=%{y}<extra></extra>",
         "legendgroup": "Class 352",
         "marker": {
          "color": "#EF553B",
          "opacity": 0.8,
          "size": 7,
          "symbol": "circle"
         },
         "mode": "markers",
         "name": "Class 352",
         "orientation": "v",
         "showlegend": true,
         "type": "scatter",
         "x": [
          0.4370347857475281,
          0.6458687782287598,
          -0.2428990602493286,
          -0.7096196413040161,
          -0.9863255620002747,
          -0.02611985243856907,
          0.15837444365024567,
          -0.19997592270374298,
          -1.73173987865448,
          -0.9060165882110596,
          1.8167215585708618,
          -2.4359335899353027,
          -1.7884175777435303,
          -0.7270817756652832,
          1.3173184394836426,
          -0.49470055103302,
          0.13240134716033936,
          -0.26544123888015747,
          0.6670491099357605,
          0.2559598684310913
         ],
         "xaxis": "x",
         "y": [
          0.11856135725975037,
          0.19350498914718628,
          -0.4319090247154236,
          -0.7443734407424927,
          -1.2043613195419312,
          -0.2786914110183716,
          -0.5769757628440857,
          -0.5918487906455994,
          -1.981399655342102,
          -1.1327131986618042,
          2.4428627490997314,
          -2.795372724533081,
          -2.0235819816589355,
          -1.180659294128418,
          1.0851887464523315,
          -1.0992703437805176,
          -0.5335111021995544,
          -0.2772446274757385,
          0.24522942304611206,
          -0.13223332166671753
         ],
         "yaxis": "y"
        },
        {
         "hovertemplate": "Omniglot Class=Class 425<br>x=%{x}<br>y=%{y}<extra></extra>",
         "legendgroup": "Class 425",
         "marker": {
          "color": "#00cc96",
          "opacity": 0.8,
          "size": 7,
          "symbol": "circle"
         },
         "mode": "markers",
         "name": "Class 425",
         "orientation": "v",
         "showlegend": true,
         "type": "scatter",
         "x": [
          -0.7669661641120911,
          -2.999216318130493,
          -0.44870132207870483,
          -3.840385675430298,
          -3.294633150100708,
          -3.8470587730407715,
          -0.13134071230888367,
          -4.713089466094971,
          -4.42605447769165,
          -4.339048385620117,
          -2.7964837551116943,
          -4.264335632324219,
          -3.769348382949829,
          -5.991642475128174,
          -3.993208646774292,
          -3.8909971714019775,
          -4.573523998260498,
          -5.489245414733887,
          -4.645308971405029,
          -4.154098033905029
         ],
         "xaxis": "x",
         "y": [
          -0.7216247916221619,
          -3.112581729888916,
          -1.107210397720337,
          -3.471907377243042,
          -3.363870143890381,
          -4.067507266998291,
          0.12663492560386658,
          -4.249319553375244,
          -4.73078727722168,
          -3.9205820560455322,
          -2.9225521087646484,
          -4.041380882263184,
          -4.011515140533447,
          -5.997231483459473,
          -4.574305057525635,
          -3.748884439468384,
          -4.311802864074707,
          -5.465485095977783,
          -4.63430643081665,
          -4.552438259124756
         ],
         "yaxis": "y"
        },
        {
         "hovertemplate": "Omniglot Class=Class 369<br>x=%{x}<br>y=%{y}<extra></extra>",
         "legendgroup": "Class 369",
         "marker": {
          "color": "#ab63fa",
          "opacity": 0.8,
          "size": 7,
          "symbol": "circle"
         },
         "mode": "markers",
         "name": "Class 369",
         "orientation": "v",
         "showlegend": true,
         "type": "scatter",
         "x": [
          -6.707843780517578,
          -7.841994285583496,
          -4.9317121505737305,
          -8.537897109985352,
          -8.557414054870605,
          -9.194604873657227,
          -7.699885845184326,
          -8.080048561096191,
          -8.065009117126465,
          -7.362028121948242,
          -9.250833511352539,
          -8.927070617675781,
          -8.443991661071777,
          -8.184371948242188,
          -7.819401264190674,
          -6.83737850189209,
          -8.860074043273926,
          -8.675233840942383,
          -4.439885139465332,
          -8.34341049194336
         ],
         "xaxis": "x",
         "y": [
          -6.884782314300537,
          -7.824904918670654,
          -4.667067527770996,
          -8.483251571655273,
          -8.427765846252441,
          -8.932271957397461,
          -7.701019287109375,
          -8.001995086669922,
          -8.25574016571045,
          -7.347110748291016,
          -8.959209442138672,
          -8.749615669250488,
          -8.435657501220703,
          -7.960811138153076,
          -7.771886348724365,
          -6.877305030822754,
          -8.701497077941895,
          -8.55739974975586,
          -3.647815465927124,
          -8.19112491607666
         ],
         "yaxis": "y"
        },
        {
         "hovertemplate": "Omniglot Class=Class 156<br>x=%{x}<br>y=%{y}<extra></extra>",
         "legendgroup": "Class 156",
         "marker": {
          "color": "#FFA15A",
          "opacity": 0.8,
          "size": 7,
          "symbol": "circle"
         },
         "mode": "markers",
         "name": "Class 156",
         "orientation": "v",
         "showlegend": true,
         "type": "scatter",
         "x": [
          -3.4186244010925293,
          -6.625457286834717,
          -3.2359912395477295,
          -2.312638282775879,
          -3.1016452312469482,
          -3.6587610244750977,
          -4.9287919998168945,
          -5.392019271850586,
          -6.516751766204834,
          -5.272758960723877,
          -7.198325157165527,
          -6.11994743347168,
          -6.149886608123779,
          -7.566117286682129,
          -2.2445311546325684,
          -5.958600044250488,
          -6.884954929351807,
          -6.9891510009765625,
          -6.749535083770752,
          -4.1915788650512695
         ],
         "xaxis": "x",
         "y": [
          -3.8202033042907715,
          -6.6179094314575195,
          -3.4876744747161865,
          -2.4905567169189453,
          -3.287893533706665,
          -4.092166900634766,
          -4.972006797790527,
          -5.4170002937316895,
          -6.5030517578125,
          -5.328985214233398,
          -7.181339740753174,
          -6.129981517791748,
          -6.140141487121582,
          -7.494560241699219,
          -2.3644752502441406,
          -5.972161769866943,
          -6.852644443511963,
          -6.926393032073975,
          -6.673750400543213,
          -4.715167045593262
         ],
         "yaxis": "y"
        }
       ],
       "layout": {
        "legend": {
         "title": {
          "text": "Omniglot Class"
         },
         "tracegroupgap": 0
        },
        "template": {
         "data": {
          "bar": [
           {
            "error_x": {
             "color": "#2a3f5f"
            },
            "error_y": {
             "color": "#2a3f5f"
            },
            "marker": {
             "line": {
              "color": "#E5ECF6",
              "width": 0.5
             },
             "pattern": {
              "fillmode": "overlay",
              "size": 10,
              "solidity": 0.2
             }
            },
            "type": "bar"
           }
          ],
          "barpolar": [
           {
            "marker": {
             "line": {
              "color": "#E5ECF6",
              "width": 0.5
             },
             "pattern": {
              "fillmode": "overlay",
              "size": 10,
              "solidity": 0.2
             }
            },
            "type": "barpolar"
           }
          ],
          "carpet": [
           {
            "aaxis": {
             "endlinecolor": "#2a3f5f",
             "gridcolor": "white",
             "linecolor": "white",
             "minorgridcolor": "white",
             "startlinecolor": "#2a3f5f"
            },
            "baxis": {
             "endlinecolor": "#2a3f5f",
             "gridcolor": "white",
             "linecolor": "white",
             "minorgridcolor": "white",
             "startlinecolor": "#2a3f5f"
            },
            "type": "carpet"
           }
          ],
          "choropleth": [
           {
            "colorbar": {
             "outlinewidth": 0,
             "ticks": ""
            },
            "type": "choropleth"
           }
          ],
          "contour": [
           {
            "colorbar": {
             "outlinewidth": 0,
             "ticks": ""
            },
            "colorscale": [
             [
              0,
              "#0d0887"
             ],
             [
              0.1111111111111111,
              "#46039f"
             ],
             [
              0.2222222222222222,
              "#7201a8"
             ],
             [
              0.3333333333333333,
              "#9c179e"
             ],
             [
              0.4444444444444444,
              "#bd3786"
             ],
             [
              0.5555555555555556,
              "#d8576b"
             ],
             [
              0.6666666666666666,
              "#ed7953"
             ],
             [
              0.7777777777777778,
              "#fb9f3a"
             ],
             [
              0.8888888888888888,
              "#fdca26"
             ],
             [
              1,
              "#f0f921"
             ]
            ],
            "type": "contour"
           }
          ],
          "contourcarpet": [
           {
            "colorbar": {
             "outlinewidth": 0,
             "ticks": ""
            },
            "type": "contourcarpet"
           }
          ],
          "heatmap": [
           {
            "colorbar": {
             "outlinewidth": 0,
             "ticks": ""
            },
            "colorscale": [
             [
              0,
              "#0d0887"
             ],
             [
              0.1111111111111111,
              "#46039f"
             ],
             [
              0.2222222222222222,
              "#7201a8"
             ],
             [
              0.3333333333333333,
              "#9c179e"
             ],
             [
              0.4444444444444444,
              "#bd3786"
             ],
             [
              0.5555555555555556,
              "#d8576b"
             ],
             [
              0.6666666666666666,
              "#ed7953"
             ],
             [
              0.7777777777777778,
              "#fb9f3a"
             ],
             [
              0.8888888888888888,
              "#fdca26"
             ],
             [
              1,
              "#f0f921"
             ]
            ],
            "type": "heatmap"
           }
          ],
          "heatmapgl": [
           {
            "colorbar": {
             "outlinewidth": 0,
             "ticks": ""
            },
            "colorscale": [
             [
              0,
              "#0d0887"
             ],
             [
              0.1111111111111111,
              "#46039f"
             ],
             [
              0.2222222222222222,
              "#7201a8"
             ],
             [
              0.3333333333333333,
              "#9c179e"
             ],
             [
              0.4444444444444444,
              "#bd3786"
             ],
             [
              0.5555555555555556,
              "#d8576b"
             ],
             [
              0.6666666666666666,
              "#ed7953"
             ],
             [
              0.7777777777777778,
              "#fb9f3a"
             ],
             [
              0.8888888888888888,
              "#fdca26"
             ],
             [
              1,
              "#f0f921"
             ]
            ],
            "type": "heatmapgl"
           }
          ],
          "histogram": [
           {
            "marker": {
             "pattern": {
              "fillmode": "overlay",
              "size": 10,
              "solidity": 0.2
             }
            },
            "type": "histogram"
           }
          ],
          "histogram2d": [
           {
            "colorbar": {
             "outlinewidth": 0,
             "ticks": ""
            },
            "colorscale": [
             [
              0,
              "#0d0887"
             ],
             [
              0.1111111111111111,
              "#46039f"
             ],
             [
              0.2222222222222222,
              "#7201a8"
             ],
             [
              0.3333333333333333,
              "#9c179e"
             ],
             [
              0.4444444444444444,
              "#bd3786"
             ],
             [
              0.5555555555555556,
              "#d8576b"
             ],
             [
              0.6666666666666666,
              "#ed7953"
             ],
             [
              0.7777777777777778,
              "#fb9f3a"
             ],
             [
              0.8888888888888888,
              "#fdca26"
             ],
             [
              1,
              "#f0f921"
             ]
            ],
            "type": "histogram2d"
           }
          ],
          "histogram2dcontour": [
           {
            "colorbar": {
             "outlinewidth": 0,
             "ticks": ""
            },
            "colorscale": [
             [
              0,
              "#0d0887"
             ],
             [
              0.1111111111111111,
              "#46039f"
             ],
             [
              0.2222222222222222,
              "#7201a8"
             ],
             [
              0.3333333333333333,
              "#9c179e"
             ],
             [
              0.4444444444444444,
              "#bd3786"
             ],
             [
              0.5555555555555556,
              "#d8576b"
             ],
             [
              0.6666666666666666,
              "#ed7953"
             ],
             [
              0.7777777777777778,
              "#fb9f3a"
             ],
             [
              0.8888888888888888,
              "#fdca26"
             ],
             [
              1,
              "#f0f921"
             ]
            ],
            "type": "histogram2dcontour"
           }
          ],
          "mesh3d": [
           {
            "colorbar": {
             "outlinewidth": 0,
             "ticks": ""
            },
            "type": "mesh3d"
           }
          ],
          "parcoords": [
           {
            "line": {
             "colorbar": {
              "outlinewidth": 0,
              "ticks": ""
             }
            },
            "type": "parcoords"
           }
          ],
          "pie": [
           {
            "automargin": true,
            "type": "pie"
           }
          ],
          "scatter": [
           {
            "fillpattern": {
             "fillmode": "overlay",
             "size": 10,
             "solidity": 0.2
            },
            "type": "scatter"
           }
          ],
          "scatter3d": [
           {
            "line": {
             "colorbar": {
              "outlinewidth": 0,
              "ticks": ""
             }
            },
            "marker": {
             "colorbar": {
              "outlinewidth": 0,
              "ticks": ""
             }
            },
            "type": "scatter3d"
           }
          ],
          "scattercarpet": [
           {
            "marker": {
             "colorbar": {
              "outlinewidth": 0,
              "ticks": ""
             }
            },
            "type": "scattercarpet"
           }
          ],
          "scattergeo": [
           {
            "marker": {
             "colorbar": {
              "outlinewidth": 0,
              "ticks": ""
             }
            },
            "type": "scattergeo"
           }
          ],
          "scattergl": [
           {
            "marker": {
             "colorbar": {
              "outlinewidth": 0,
              "ticks": ""
             }
            },
            "type": "scattergl"
           }
          ],
          "scattermapbox": [
           {
            "marker": {
             "colorbar": {
              "outlinewidth": 0,
              "ticks": ""
             }
            },
            "type": "scattermapbox"
           }
          ],
          "scatterpolar": [
           {
            "marker": {
             "colorbar": {
              "outlinewidth": 0,
              "ticks": ""
             }
            },
            "type": "scatterpolar"
           }
          ],
          "scatterpolargl": [
           {
            "marker": {
             "colorbar": {
              "outlinewidth": 0,
              "ticks": ""
             }
            },
            "type": "scatterpolargl"
           }
          ],
          "scatterternary": [
           {
            "marker": {
             "colorbar": {
              "outlinewidth": 0,
              "ticks": ""
             }
            },
            "type": "scatterternary"
           }
          ],
          "surface": [
           {
            "colorbar": {
             "outlinewidth": 0,
             "ticks": ""
            },
            "colorscale": [
             [
              0,
              "#0d0887"
             ],
             [
              0.1111111111111111,
              "#46039f"
             ],
             [
              0.2222222222222222,
              "#7201a8"
             ],
             [
              0.3333333333333333,
              "#9c179e"
             ],
             [
              0.4444444444444444,
              "#bd3786"
             ],
             [
              0.5555555555555556,
              "#d8576b"
             ],
             [
              0.6666666666666666,
              "#ed7953"
             ],
             [
              0.7777777777777778,
              "#fb9f3a"
             ],
             [
              0.8888888888888888,
              "#fdca26"
             ],
             [
              1,
              "#f0f921"
             ]
            ],
            "type": "surface"
           }
          ],
          "table": [
           {
            "cells": {
             "fill": {
              "color": "#EBF0F8"
             },
             "line": {
              "color": "white"
             }
            },
            "header": {
             "fill": {
              "color": "#C8D4E3"
             },
             "line": {
              "color": "white"
             }
            },
            "type": "table"
           }
          ]
         },
         "layout": {
          "annotationdefaults": {
           "arrowcolor": "#2a3f5f",
           "arrowhead": 0,
           "arrowwidth": 1
          },
          "autotypenumbers": "strict",
          "coloraxis": {
           "colorbar": {
            "outlinewidth": 0,
            "ticks": ""
           }
          },
          "colorscale": {
           "diverging": [
            [
             0,
             "#8e0152"
            ],
            [
             0.1,
             "#c51b7d"
            ],
            [
             0.2,
             "#de77ae"
            ],
            [
             0.3,
             "#f1b6da"
            ],
            [
             0.4,
             "#fde0ef"
            ],
            [
             0.5,
             "#f7f7f7"
            ],
            [
             0.6,
             "#e6f5d0"
            ],
            [
             0.7,
             "#b8e186"
            ],
            [
             0.8,
             "#7fbc41"
            ],
            [
             0.9,
             "#4d9221"
            ],
            [
             1,
             "#276419"
            ]
           ],
           "sequential": [
            [
             0,
             "#0d0887"
            ],
            [
             0.1111111111111111,
             "#46039f"
            ],
            [
             0.2222222222222222,
             "#7201a8"
            ],
            [
             0.3333333333333333,
             "#9c179e"
            ],
            [
             0.4444444444444444,
             "#bd3786"
            ],
            [
             0.5555555555555556,
             "#d8576b"
            ],
            [
             0.6666666666666666,
             "#ed7953"
            ],
            [
             0.7777777777777778,
             "#fb9f3a"
            ],
            [
             0.8888888888888888,
             "#fdca26"
            ],
            [
             1,
             "#f0f921"
            ]
           ],
           "sequentialminus": [
            [
             0,
             "#0d0887"
            ],
            [
             0.1111111111111111,
             "#46039f"
            ],
            [
             0.2222222222222222,
             "#7201a8"
            ],
            [
             0.3333333333333333,
             "#9c179e"
            ],
            [
             0.4444444444444444,
             "#bd3786"
            ],
            [
             0.5555555555555556,
             "#d8576b"
            ],
            [
             0.6666666666666666,
             "#ed7953"
            ],
            [
             0.7777777777777778,
             "#fb9f3a"
            ],
            [
             0.8888888888888888,
             "#fdca26"
            ],
            [
             1,
             "#f0f921"
            ]
           ]
          },
          "colorway": [
           "#636efa",
           "#EF553B",
           "#00cc96",
           "#ab63fa",
           "#FFA15A",
           "#19d3f3",
           "#FF6692",
           "#B6E880",
           "#FF97FF",
           "#FECB52"
          ],
          "font": {
           "color": "#2a3f5f"
          },
          "geo": {
           "bgcolor": "white",
           "lakecolor": "white",
           "landcolor": "#E5ECF6",
           "showlakes": true,
           "showland": true,
           "subunitcolor": "white"
          },
          "hoverlabel": {
           "align": "left"
          },
          "hovermode": "closest",
          "mapbox": {
           "style": "light"
          },
          "paper_bgcolor": "white",
          "plot_bgcolor": "#E5ECF6",
          "polar": {
           "angularaxis": {
            "gridcolor": "white",
            "linecolor": "white",
            "ticks": ""
           },
           "bgcolor": "#E5ECF6",
           "radialaxis": {
            "gridcolor": "white",
            "linecolor": "white",
            "ticks": ""
           }
          },
          "scene": {
           "xaxis": {
            "backgroundcolor": "#E5ECF6",
            "gridcolor": "white",
            "gridwidth": 2,
            "linecolor": "white",
            "showbackground": true,
            "ticks": "",
            "zerolinecolor": "white"
           },
           "yaxis": {
            "backgroundcolor": "#E5ECF6",
            "gridcolor": "white",
            "gridwidth": 2,
            "linecolor": "white",
            "showbackground": true,
            "ticks": "",
            "zerolinecolor": "white"
           },
           "zaxis": {
            "backgroundcolor": "#E5ECF6",
            "gridcolor": "white",
            "gridwidth": 2,
            "linecolor": "white",
            "showbackground": true,
            "ticks": "",
            "zerolinecolor": "white"
           }
          },
          "shapedefaults": {
           "line": {
            "color": "#2a3f5f"
           }
          },
          "ternary": {
           "aaxis": {
            "gridcolor": "white",
            "linecolor": "white",
            "ticks": ""
           },
           "baxis": {
            "gridcolor": "white",
            "linecolor": "white",
            "ticks": ""
           },
           "bgcolor": "#E5ECF6",
           "caxis": {
            "gridcolor": "white",
            "linecolor": "white",
            "ticks": ""
           }
          },
          "title": {
           "x": 0.05
          },
          "xaxis": {
           "automargin": true,
           "gridcolor": "white",
           "linecolor": "white",
           "ticks": "",
           "title": {
            "standoff": 15
           },
           "zerolinecolor": "white",
           "zerolinewidth": 2
          },
          "yaxis": {
           "automargin": true,
           "gridcolor": "white",
           "linecolor": "white",
           "ticks": "",
           "title": {
            "standoff": 15
           },
           "zerolinecolor": "white",
           "zerolinewidth": 2
          }
         }
        },
        "title": {
         "text": "2D t-SNE of 5 Omniglot Classes (BYOL Embeddings)"
        },
        "xaxis": {
         "anchor": "y",
         "domain": [
          0,
          1
         ],
         "title": {
          "text": "x"
         }
        },
        "yaxis": {
         "anchor": "x",
         "domain": [
          0,
          1
         ],
         "title": {
          "text": "y"
         }
        }
       }
      }
     },
     "metadata": {},
     "output_type": "display_data"
    }
   ],
   "source": [
    "from sklearn.manifold import TSNE\n",
    "\n",
    "# Compute 2D t-SNE\n",
    "tsne_2d = TSNE(n_components=2, perplexity=30, init='pca', random_state=42)\n",
    "X_2d = tsne_2d.fit_transform(X)\n",
    "\n",
    "# Prepare DataFrame for plotting\n",
    "df_2d = pd.DataFrame({\n",
    "    'x': X_2d[:, 0],\n",
    "    'y': X_2d[:, 1],\n",
    "    'class': y\n",
    "})\n",
    "df_2d = df_2d[df_2d['class'].isin(selected_classes)]\n",
    "df_2d['class'] = df_2d['class'].map(label_map)\n",
    "\n",
    "import plotly.express as px\n",
    "\n",
    "fig2d = px.scatter(\n",
    "    df_2d, x='x', y='y', color='class',\n",
    "    title=\"2D t-SNE of 5 Omniglot Classes (BYOL Embeddings)\",\n",
    "    labels={\"class\": \"Omniglot Class\"},\n",
    "    opacity=0.8\n",
    ")\n",
    "fig2d.update_traces(marker=dict(size=7))\n",
    "fig2d.show()"
   ]
  },
  {
   "cell_type": "code",
   "execution_count": null,
   "id": "ae863b42",
   "metadata": {},
   "outputs": [],
   "source": []
  }
 ],
 "metadata": {
  "kernelspec": {
   "display_name": "pytorch",
   "language": "python",
   "name": "python3"
  },
  "language_info": {
   "codemirror_mode": {
    "name": "ipython",
    "version": 3
   },
   "file_extension": ".py",
   "mimetype": "text/x-python",
   "name": "python",
   "nbconvert_exporter": "python",
   "pygments_lexer": "ipython3",
   "version": "3.12.8"
  }
 },
 "nbformat": 4,
 "nbformat_minor": 5
}
