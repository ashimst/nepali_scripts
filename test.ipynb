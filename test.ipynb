{
 "cells": [
  {
   "cell_type": "code",
   "execution_count": 50,
   "id": "e1d5ada7",
   "metadata": {},
   "outputs": [],
   "source": [
    "import torch \n",
    "from torch import nn \n",
    "import matplotlib.pyplot as plt\n",
    "import numpy as np\n",
    "from torch.nn import functional as F\n",
    "from tqdm import tqdm\n",
    "from torchvision.datasets import Omniglot\n",
    "from torchvision import transforms\n",
    "from torch.utils.data import DataLoader\n",
    "from collections import defaultdict\n",
    "import random\n",
    "from torch.utils.data import Subset\n",
    "from torchvision.models import resnet18"
   ]
  },
  {
   "cell_type": "code",
   "execution_count": 51,
   "id": "286b6321",
   "metadata": {},
   "outputs": [],
   "source": [
    "class Encoder(nn.Module):\n",
    "    def __init__(self, pretrained=True, out_dim=128):\n",
    "        super(Encoder, self).__init__()\n",
    "        base_model = resnet18(pretrained=pretrained)\n",
    "\n",
    "        # Modify first conv layer to accept 1-channel input instead of 3\n",
    "        original_conv1 = base_model.conv1\n",
    "        base_model.conv1 = nn.Conv2d(\n",
    "            in_channels=1,\n",
    "            out_channels=original_conv1.out_channels,\n",
    "            kernel_size=original_conv1.kernel_size,\n",
    "            stride=original_conv1.stride,\n",
    "            padding=original_conv1.padding,\n",
    "            bias=original_conv1.bias is not None\n",
    "        )\n",
    "\n",
    "        # Optional: initialize weights of new conv1\n",
    "        if pretrained:\n",
    "            with torch.no_grad():\n",
    "                # Copy weights from RGB to 1-channel (average over input channels)\n",
    "                base_model.conv1.weight = nn.Parameter(\n",
    "                    base_model.conv1.weight.mean(dim=1, keepdim=True)\n",
    "                )\n",
    "\n",
    "        self.features = nn.Sequential(*list(base_model.children())[:-1])  # up to avgpool\n",
    "        self.flatten = nn.Flatten()\n",
    "        self.projection = nn.Linear(512, out_dim)\n",
    "\n",
    "    def forward(self, x):\n",
    "        x = self.features(x)      # (B, 512, 1, 1)\n",
    "        x = self.flatten(x)       # (B, 512)\n",
    "        x = self.projection(x)    # (B, 128)\n",
    "        return x\n"
   ]
  },
  {
   "cell_type": "code",
   "execution_count": 52,
   "id": "36210309",
   "metadata": {},
   "outputs": [
    {
     "name": "stderr",
     "output_type": "stream",
     "text": [
      "c:\\Users\\ACER\\.conda\\envs\\pytorch\\Lib\\site-packages\\torchvision\\models\\_utils.py:208: UserWarning:\n",
      "\n",
      "The parameter 'pretrained' is deprecated since 0.13 and may be removed in the future, please use 'weights' instead.\n",
      "\n",
      "c:\\Users\\ACER\\.conda\\envs\\pytorch\\Lib\\site-packages\\torchvision\\models\\_utils.py:223: UserWarning:\n",
      "\n",
      "Arguments other than a weight enum or `None` for 'weights' are deprecated since 0.13 and may be removed in the future. The current behavior is equivalent to passing `weights=ResNet18_Weights.IMAGENET1K_V1`. You can also use `weights=ResNet18_Weights.DEFAULT` to get the most up-to-date weights.\n",
      "\n"
     ]
    }
   ],
   "source": [
    "encoder = Encoder()"
   ]
  },
  {
   "cell_type": "code",
   "execution_count": 53,
   "id": "3ba02aec",
   "metadata": {},
   "outputs": [
    {
     "data": {
      "text/plain": [
       "device(type='cuda')"
      ]
     },
     "execution_count": 53,
     "metadata": {},
     "output_type": "execute_result"
    }
   ],
   "source": [
    "device = torch.device(\"cuda\" if torch.cuda.is_available() else \"cpu\")\n",
    "device  "
   ]
  },
  {
   "cell_type": "code",
   "execution_count": 54,
   "id": "bcc78e6f",
   "metadata": {},
   "outputs": [
    {
     "name": "stderr",
     "output_type": "stream",
     "text": [
      "C:\\Users\\ACER\\AppData\\Local\\Temp\\ipykernel_18124\\797333286.py:1: FutureWarning:\n",
      "\n",
      "You are using `torch.load` with `weights_only=False` (the current default value), which uses the default pickle module implicitly. It is possible to construct malicious pickle data which will execute arbitrary code during unpickling (See https://github.com/pytorch/pytorch/blob/main/SECURITY.md#untrusted-models for more details). In a future release, the default value for `weights_only` will be flipped to `True`. This limits the functions that could be executed during unpickling. Arbitrary objects will no longer be allowed to be loaded via this mode unless they are explicitly allowlisted by the user via `torch.serialization.add_safe_globals`. We recommend you start setting `weights_only=True` for any use case where you don't have full control of the loaded file. Please open an issue on GitHub for any issues related to this experimental feature.\n",
      "\n"
     ]
    },
    {
     "data": {
      "text/plain": [
       "<All keys matched successfully>"
      ]
     },
     "execution_count": 54,
     "metadata": {},
     "output_type": "execute_result"
    }
   ],
   "source": [
    "encoder.load_state_dict(torch.load(\"best_model.pth\", map_location=device))"
   ]
  },
  {
   "cell_type": "code",
   "execution_count": 55,
   "id": "11ffa3cc",
   "metadata": {},
   "outputs": [
    {
     "data": {
      "text/plain": [
       "Encoder(\n",
       "  (features): Sequential(\n",
       "    (0): Conv2d(1, 64, kernel_size=(7, 7), stride=(2, 2), padding=(3, 3), bias=False)\n",
       "    (1): BatchNorm2d(64, eps=1e-05, momentum=0.1, affine=True, track_running_stats=True)\n",
       "    (2): ReLU(inplace=True)\n",
       "    (3): MaxPool2d(kernel_size=3, stride=2, padding=1, dilation=1, ceil_mode=False)\n",
       "    (4): Sequential(\n",
       "      (0): BasicBlock(\n",
       "        (conv1): Conv2d(64, 64, kernel_size=(3, 3), stride=(1, 1), padding=(1, 1), bias=False)\n",
       "        (bn1): BatchNorm2d(64, eps=1e-05, momentum=0.1, affine=True, track_running_stats=True)\n",
       "        (relu): ReLU(inplace=True)\n",
       "        (conv2): Conv2d(64, 64, kernel_size=(3, 3), stride=(1, 1), padding=(1, 1), bias=False)\n",
       "        (bn2): BatchNorm2d(64, eps=1e-05, momentum=0.1, affine=True, track_running_stats=True)\n",
       "      )\n",
       "      (1): BasicBlock(\n",
       "        (conv1): Conv2d(64, 64, kernel_size=(3, 3), stride=(1, 1), padding=(1, 1), bias=False)\n",
       "        (bn1): BatchNorm2d(64, eps=1e-05, momentum=0.1, affine=True, track_running_stats=True)\n",
       "        (relu): ReLU(inplace=True)\n",
       "        (conv2): Conv2d(64, 64, kernel_size=(3, 3), stride=(1, 1), padding=(1, 1), bias=False)\n",
       "        (bn2): BatchNorm2d(64, eps=1e-05, momentum=0.1, affine=True, track_running_stats=True)\n",
       "      )\n",
       "    )\n",
       "    (5): Sequential(\n",
       "      (0): BasicBlock(\n",
       "        (conv1): Conv2d(64, 128, kernel_size=(3, 3), stride=(2, 2), padding=(1, 1), bias=False)\n",
       "        (bn1): BatchNorm2d(128, eps=1e-05, momentum=0.1, affine=True, track_running_stats=True)\n",
       "        (relu): ReLU(inplace=True)\n",
       "        (conv2): Conv2d(128, 128, kernel_size=(3, 3), stride=(1, 1), padding=(1, 1), bias=False)\n",
       "        (bn2): BatchNorm2d(128, eps=1e-05, momentum=0.1, affine=True, track_running_stats=True)\n",
       "        (downsample): Sequential(\n",
       "          (0): Conv2d(64, 128, kernel_size=(1, 1), stride=(2, 2), bias=False)\n",
       "          (1): BatchNorm2d(128, eps=1e-05, momentum=0.1, affine=True, track_running_stats=True)\n",
       "        )\n",
       "      )\n",
       "      (1): BasicBlock(\n",
       "        (conv1): Conv2d(128, 128, kernel_size=(3, 3), stride=(1, 1), padding=(1, 1), bias=False)\n",
       "        (bn1): BatchNorm2d(128, eps=1e-05, momentum=0.1, affine=True, track_running_stats=True)\n",
       "        (relu): ReLU(inplace=True)\n",
       "        (conv2): Conv2d(128, 128, kernel_size=(3, 3), stride=(1, 1), padding=(1, 1), bias=False)\n",
       "        (bn2): BatchNorm2d(128, eps=1e-05, momentum=0.1, affine=True, track_running_stats=True)\n",
       "      )\n",
       "    )\n",
       "    (6): Sequential(\n",
       "      (0): BasicBlock(\n",
       "        (conv1): Conv2d(128, 256, kernel_size=(3, 3), stride=(2, 2), padding=(1, 1), bias=False)\n",
       "        (bn1): BatchNorm2d(256, eps=1e-05, momentum=0.1, affine=True, track_running_stats=True)\n",
       "        (relu): ReLU(inplace=True)\n",
       "        (conv2): Conv2d(256, 256, kernel_size=(3, 3), stride=(1, 1), padding=(1, 1), bias=False)\n",
       "        (bn2): BatchNorm2d(256, eps=1e-05, momentum=0.1, affine=True, track_running_stats=True)\n",
       "        (downsample): Sequential(\n",
       "          (0): Conv2d(128, 256, kernel_size=(1, 1), stride=(2, 2), bias=False)\n",
       "          (1): BatchNorm2d(256, eps=1e-05, momentum=0.1, affine=True, track_running_stats=True)\n",
       "        )\n",
       "      )\n",
       "      (1): BasicBlock(\n",
       "        (conv1): Conv2d(256, 256, kernel_size=(3, 3), stride=(1, 1), padding=(1, 1), bias=False)\n",
       "        (bn1): BatchNorm2d(256, eps=1e-05, momentum=0.1, affine=True, track_running_stats=True)\n",
       "        (relu): ReLU(inplace=True)\n",
       "        (conv2): Conv2d(256, 256, kernel_size=(3, 3), stride=(1, 1), padding=(1, 1), bias=False)\n",
       "        (bn2): BatchNorm2d(256, eps=1e-05, momentum=0.1, affine=True, track_running_stats=True)\n",
       "      )\n",
       "    )\n",
       "    (7): Sequential(\n",
       "      (0): BasicBlock(\n",
       "        (conv1): Conv2d(256, 512, kernel_size=(3, 3), stride=(2, 2), padding=(1, 1), bias=False)\n",
       "        (bn1): BatchNorm2d(512, eps=1e-05, momentum=0.1, affine=True, track_running_stats=True)\n",
       "        (relu): ReLU(inplace=True)\n",
       "        (conv2): Conv2d(512, 512, kernel_size=(3, 3), stride=(1, 1), padding=(1, 1), bias=False)\n",
       "        (bn2): BatchNorm2d(512, eps=1e-05, momentum=0.1, affine=True, track_running_stats=True)\n",
       "        (downsample): Sequential(\n",
       "          (0): Conv2d(256, 512, kernel_size=(1, 1), stride=(2, 2), bias=False)\n",
       "          (1): BatchNorm2d(512, eps=1e-05, momentum=0.1, affine=True, track_running_stats=True)\n",
       "        )\n",
       "      )\n",
       "      (1): BasicBlock(\n",
       "        (conv1): Conv2d(512, 512, kernel_size=(3, 3), stride=(1, 1), padding=(1, 1), bias=False)\n",
       "        (bn1): BatchNorm2d(512, eps=1e-05, momentum=0.1, affine=True, track_running_stats=True)\n",
       "        (relu): ReLU(inplace=True)\n",
       "        (conv2): Conv2d(512, 512, kernel_size=(3, 3), stride=(1, 1), padding=(1, 1), bias=False)\n",
       "        (bn2): BatchNorm2d(512, eps=1e-05, momentum=0.1, affine=True, track_running_stats=True)\n",
       "      )\n",
       "    )\n",
       "    (8): AdaptiveAvgPool2d(output_size=(1, 1))\n",
       "  )\n",
       "  (flatten): Flatten(start_dim=1, end_dim=-1)\n",
       "  (projection): Linear(in_features=512, out_features=128, bias=True)\n",
       ")"
      ]
     },
     "execution_count": 55,
     "metadata": {},
     "output_type": "execute_result"
    }
   ],
   "source": [
    "encoder.to(device)\n",
    "encoder.eval()"
   ]
  },
  {
   "cell_type": "code",
   "execution_count": 56,
   "id": "73296348",
   "metadata": {},
   "outputs": [],
   "source": [
    "from torchvision import datasets\n",
    "eval_transform = transforms.Compose([\n",
    "    transforms.Grayscale(),\n",
    "    transforms.Resize((105, 105)),\n",
    "    transforms.ToTensor(),\n",
    "    transforms.Normalize((0.5,), (0.5,))\n",
    "])\n",
    "dataset_path = \"./dataset\"\n",
    "eval_dataset = datasets.ImageFolder(root=dataset_path, transform=eval_transform)\n",
    "#eval_dataset = Omniglot(root='./data', background=True, download=True, transform=eval_transform)\n",
    "eval_loader = DataLoader(eval_dataset, batch_size=64, shuffle=False)"
   ]
  },
  {
   "cell_type": "code",
   "execution_count": 57,
   "id": "3f4d58ac",
   "metadata": {},
   "outputs": [],
   "source": [
    "\n",
    "\n",
    "# Build a map from class label → list of sample indices\n",
    "class_to_indices = defaultdict(list)\n",
    "for idx, (_, label) in enumerate(eval_dataset):\n",
    "    class_to_indices[label].append(idx)\n",
    "\n",
    "# Randomly choose 5 classes\n",
    "selected_classes = random.sample(list(class_to_indices.keys()), 5)\n",
    "\n",
    "# For each class, pick up to 20 samples\n",
    "selected_indices = []\n",
    "for cls in selected_classes:\n",
    "    selected_indices.extend(class_to_indices[cls][:20])  # pick 20 samples per class\n",
    "\n",
    "# Create subset of dataset\n",
    "subset = Subset(eval_dataset, selected_indices)\n",
    "subset_loader = DataLoader(subset, batch_size=64, shuffle=False)\n"
   ]
  },
  {
   "cell_type": "code",
   "execution_count": 58,
   "id": "c3637830",
   "metadata": {},
   "outputs": [],
   "source": [
    "all_embeddings = []\n",
    "all_labels = []\n",
    "\n",
    "with torch.no_grad():\n",
    "    for images, labels in subset_loader:\n",
    "        images = images.to(device)\n",
    "        embeddings = encoder(images)\n",
    "        all_embeddings.append(embeddings.cpu().numpy())\n",
    "        all_labels.append(labels.numpy())\n",
    "\n",
    "X = np.concatenate(all_embeddings, axis=0)\n",
    "y = np.concatenate(all_labels, axis=0)"
   ]
  },
  {
   "cell_type": "code",
   "execution_count": 59,
   "id": "c386f4c2",
   "metadata": {},
   "outputs": [],
   "source": [
    "from sklearn.manifold import TSNE\n",
    "\n",
    "tsne = TSNE(n_components=3, perplexity=30, init='pca', random_state=42)\n",
    "X_3d = tsne.fit_transform(X)  # shape: (num_samples, 3)\n"
   ]
  },
  {
   "cell_type": "code",
   "execution_count": 60,
   "id": "70f1479e",
   "metadata": {},
   "outputs": [
    {
     "data": {
      "application/vnd.plotly.v1+json": {
       "config": {
        "plotlyServerURL": "https://plot.ly"
       },
       "data": [
        {
         "hovertemplate": "Omniglot Class=Class 132<br>x=%{x}<br>y=%{y}<br>z=%{z}<extra></extra>",
         "legendgroup": "Class 132",
         "marker": {
          "color": "#636efa",
          "opacity": 0.8,
          "size": 5,
          "symbol": "circle"
         },
         "mode": "markers",
         "name": "Class 132",
         "scene": "scene",
         "showlegend": true,
         "type": "scatter3d",
         "x": [
          70.30476379394531,
          55.35445022583008,
          99.25349426269531,
          11.818366050720215,
          -101.25542449951172,
          34.050899505615234,
          17.862987518310547,
          86.86097717285156,
          33.82169723510742,
          77.02645111083984,
          52.91415786743164,
          65.07691955566406,
          108.39537811279297,
          39.25981140136719,
          50.63356399536133,
          30.53548240661621,
          81.86129760742188,
          46.50001525878906,
          87.57328796386719,
          68.63267517089844
         ],
         "y": [
          -42.82526779174805,
          26.33724594116211,
          50.284141540527344,
          57.695404052734375,
          55.90473937988281,
          -34.01976776123047,
          5.476541519165039,
          43.14986801147461,
          35.98354721069336,
          24.23464584350586,
          -6.282522201538086,
          -10.606355667114258,
          18.27887725830078,
          86.59973907470703,
          29.83810806274414,
          -32.42001724243164,
          -15.362807273864746,
          -1.0814452171325684,
          -13.934586524963379,
          66.60154724121094
         ],
         "z": [
          -36.70696258544922,
          -40.20502853393555,
          -10.665009498596191,
          -45.38282775878906,
          -2.464170455932617,
          -60.61404037475586,
          -88.00402069091797,
          -43.60005569458008,
          100.19414520263672,
          -12.138984680175781,
          -79.7441177368164,
          -50.21685791015625,
          -26.73093605041504,
          18.43954849243164,
          -80.84638214111328,
          -98.6559066772461,
          -101.9969253540039,
          -116.1092300415039,
          -16.548669815063477,
          33.137001037597656
         ]
        },
        {
         "hovertemplate": "Omniglot Class=Class 154<br>x=%{x}<br>y=%{y}<br>z=%{z}<extra></extra>",
         "legendgroup": "Class 154",
         "marker": {
          "color": "#EF553B",
          "opacity": 0.8,
          "size": 5,
          "symbol": "circle"
         },
         "mode": "markers",
         "name": "Class 154",
         "scene": "scene",
         "showlegend": true,
         "type": "scatter3d",
         "x": [
          -23.146350860595703,
          -26.380653381347656,
          -15.292436599731445,
          -37.84110641479492,
          -56.74409103393555,
          -49.69967269897461,
          -21.125904083251953,
          -65.36246490478516,
          -60.01204299926758,
          -66.43999481201172,
          -84.62834930419922,
          -88.16936492919922,
          -47.523590087890625,
          -74.87541961669922,
          -52.96565628051758,
          -27.721189498901367,
          -59.16080856323242,
          -74.47900390625,
          -50.04263687133789,
          -68.69465637207031
         ],
         "y": [
          30.750728607177734,
          -0.42120733857154846,
          32.589393615722656,
          -9.268577575683594,
          -6.516950607299805,
          26.303401947021484,
          10.319361686706543,
          -20.638750076293945,
          23.18966293334961,
          -45.82868957519531,
          -22.817520141601562,
          5.3092265129089355,
          46.29405975341797,
          60.629425048828125,
          80.44337463378906,
          -15.797954559326172,
          -8.35002326965332,
          17.795122146606445,
          12.402715682983398,
          43.301353454589844
         ],
         "z": [
          -15.15585994720459,
          45.26581954956055,
          48.64966583251953,
          -58.82268524169922,
          -19.002702713012695,
          9.271575927734375,
          14.921387672424316,
          -55.843849182128906,
          -37.306949615478516,
          17.419950485229492,
          -14.807365417480469,
          8.016253471374512,
          41.1796760559082,
          40.048545837402344,
          65.28450012207031,
          -26.264333724975586,
          24.240585327148438,
          48.62715530395508,
          66.52851104736328,
          80.62545776367188
         ]
        },
        {
         "hovertemplate": "Omniglot Class=Class 224<br>x=%{x}<br>y=%{y}<br>z=%{z}<extra></extra>",
         "legendgroup": "Class 224",
         "marker": {
          "color": "#00cc96",
          "opacity": 0.8,
          "size": 5,
          "symbol": "circle"
         },
         "mode": "markers",
         "name": "Class 224",
         "scene": "scene",
         "showlegend": true,
         "type": "scatter3d",
         "x": [
          85.4256820678711,
          68.11871337890625,
          9.595468521118164,
          44.44807052612305,
          -3.4709067344665527,
          -111.33988189697266,
          53.158573150634766,
          40.68988800048828,
          70.7388687133789,
          63.9942626953125,
          101.65435791015625,
          27.54193687438965,
          19.060691833496094,
          37.33592987060547,
          63.424190521240234,
          44.682987213134766,
          32.97072219848633,
          -23.2237548828125,
          -71.70965576171875,
          -69.30492401123047
         ],
         "y": [
          12.453168869018555,
          -42.38594436645508,
          92.96141052246094,
          45.72519302368164,
          -12.894673347473145,
          1.2231972217559814,
          -3.027144432067871,
          50.13751220703125,
          24.679121017456055,
          -52.38343811035156,
          -15.381746292114258,
          1.4658819437026978,
          72.0189208984375,
          -85.34579467773438,
          16.208932876586914,
          79.0899429321289,
          104.87152099609375,
          47.446571350097656,
          43.434974670410156,
          -87.39219665527344
         ],
         "z": [
          -71.73174285888672,
          -78.93510437011719,
          -35.441490173339844,
          49.72098159790039,
          109.96162414550781,
          82.72968292236328,
          -17.242700576782227,
          12.870817184448242,
          32.614383697509766,
          18.4522647857666,
          -50.291358947753906,
          -50.57134246826172,
          -8.564659118652344,
          -64.97029876708984,
          64.44158172607422,
          -31.902074813842773,
          -11.659507751464844,
          -80.3653564453125,
          -70.23037719726562,
          -26.817359924316406
         ]
        },
        {
         "hovertemplate": "Omniglot Class=Class 85<br>x=%{x}<br>y=%{y}<br>z=%{z}<extra></extra>",
         "legendgroup": "Class 85",
         "marker": {
          "color": "#ab63fa",
          "opacity": 0.8,
          "size": 5,
          "symbol": "circle"
         },
         "mode": "markers",
         "name": "Class 85",
         "scene": "scene",
         "showlegend": true,
         "type": "scatter3d",
         "x": [
          -49.07940673828125,
          13.239190101623535,
          51.24544906616211,
          11.750238418579102,
          -7.239990234375,
          79.52005767822266,
          23.679235458374023,
          -40.83055877685547,
          -18.898643493652344,
          -2.086915969848633,
          55.69340515136719,
          -2.1374828815460205,
          5.478536605834961,
          -41.92330551147461,
          -11.931883811950684,
          22.449613571166992,
          -5.9910736083984375,
          15.419861793518066,
          11.142938613891602,
          13.994197845458984
         ],
         "y": [
          89.82582092285156,
          -101.92436218261719,
          -30.069177627563477,
          3.799647331237793,
          82.80207061767578,
          -38.79375076293945,
          -70.79224395751953,
          73.33500671386719,
          64.65349578857422,
          75.48419189453125,
          -75.38236236572266,
          -72.23605346679688,
          -36.29674530029297,
          76.4130630493164,
          55.521751403808594,
          -38.358089447021484,
          -79.15061950683594,
          5.515040397644043,
          -66.7807846069336,
          -99.77132415771484
         ],
         "z": [
          18.512218475341797,
          34.28111267089844,
          79.58168029785156,
          -0.4086209237575531,
          -152.8239288330078,
          55.380165100097656,
          38.90734100341797,
          -23.42271614074707,
          14.444802284240723,
          51.144203186035156,
          68.75069427490234,
          15.91717529296875,
          33.09669494628906,
          -184.6675262451172,
          83.96118927001953,
          -4.555495738983154,
          53.29924392700195,
          36.90266799926758,
          -30.792600631713867,
          -9.42247200012207
         ]
        },
        {
         "hovertemplate": "Omniglot Class=Class 194<br>x=%{x}<br>y=%{y}<br>z=%{z}<extra></extra>",
         "legendgroup": "Class 194",
         "marker": {
          "color": "#FFA15A",
          "opacity": 0.8,
          "size": 5,
          "symbol": "circle"
         },
         "mode": "markers",
         "name": "Class 194",
         "scene": "scene",
         "showlegend": true,
         "type": "scatter3d",
         "x": [
          15.847293853759766,
          -79.63731384277344,
          -80.35505676269531,
          -46.881988525390625,
          -45.06218338012695,
          54.03367233276367,
          82.84351348876953,
          10.097412109375,
          -106.94330596923828,
          -20.72559356689453,
          -14.547165870666504,
          -93.44835662841797,
          -31.349477767944336,
          -51.57105255126953,
          -87.61277770996094,
          -83.31436157226562,
          -54.73032760620117,
          -32.5701904296875,
          109.62193298339844,
          -34.738677978515625
         ],
         "y": [
          10.972515106201172,
          14.378506660461426,
          -53.22212600708008,
          -74.5790023803711,
          -33.56329345703125,
          -3.716848134994507,
          43.402923583984375,
          -18.40557098388672,
          -1.4466360807418823,
          -54.62295150756836,
          -54.84974670410156,
          -64.09684753417969,
          -39.231101989746094,
          -48.922637939453125,
          -19.767192840576172,
          -61.466209411621094,
          -66.58116912841797,
          -78.52613067626953,
          -14.076149940490723,
          -20.233409881591797
         ],
         "z": [
          91.72412872314453,
          -85.76997375488281,
          -41.76287078857422,
          10.33590316772461,
          53.21929931640625,
          36.088623046875,
          59.154563903808594,
          78.66886138916016,
          -44.765045166015625,
          -62.929481506347656,
          93.84510803222656,
          -6.482503414154053,
          7.474534511566162,
          -18.380563735961914,
          44.93470001220703,
          59.695587158203125,
          -61.97053909301758,
          -22.930856704711914,
          27.625375747680664,
          -97.34403228759766
         ]
        }
       ],
       "layout": {
        "legend": {
         "title": {
          "text": "Omniglot Class"
         },
         "tracegroupgap": 0
        },
        "scene": {
         "domain": {
          "x": [
           0,
           1
          ],
          "y": [
           0,
           1
          ]
         },
         "xaxis": {
          "title": {
           "text": "x"
          }
         },
         "yaxis": {
          "title": {
           "text": "y"
          }
         },
         "zaxis": {
          "title": {
           "text": "z"
          }
         }
        },
        "template": {
         "data": {
          "bar": [
           {
            "error_x": {
             "color": "#2a3f5f"
            },
            "error_y": {
             "color": "#2a3f5f"
            },
            "marker": {
             "line": {
              "color": "#E5ECF6",
              "width": 0.5
             },
             "pattern": {
              "fillmode": "overlay",
              "size": 10,
              "solidity": 0.2
             }
            },
            "type": "bar"
           }
          ],
          "barpolar": [
           {
            "marker": {
             "line": {
              "color": "#E5ECF6",
              "width": 0.5
             },
             "pattern": {
              "fillmode": "overlay",
              "size": 10,
              "solidity": 0.2
             }
            },
            "type": "barpolar"
           }
          ],
          "carpet": [
           {
            "aaxis": {
             "endlinecolor": "#2a3f5f",
             "gridcolor": "white",
             "linecolor": "white",
             "minorgridcolor": "white",
             "startlinecolor": "#2a3f5f"
            },
            "baxis": {
             "endlinecolor": "#2a3f5f",
             "gridcolor": "white",
             "linecolor": "white",
             "minorgridcolor": "white",
             "startlinecolor": "#2a3f5f"
            },
            "type": "carpet"
           }
          ],
          "choropleth": [
           {
            "colorbar": {
             "outlinewidth": 0,
             "ticks": ""
            },
            "type": "choropleth"
           }
          ],
          "contour": [
           {
            "colorbar": {
             "outlinewidth": 0,
             "ticks": ""
            },
            "colorscale": [
             [
              0,
              "#0d0887"
             ],
             [
              0.1111111111111111,
              "#46039f"
             ],
             [
              0.2222222222222222,
              "#7201a8"
             ],
             [
              0.3333333333333333,
              "#9c179e"
             ],
             [
              0.4444444444444444,
              "#bd3786"
             ],
             [
              0.5555555555555556,
              "#d8576b"
             ],
             [
              0.6666666666666666,
              "#ed7953"
             ],
             [
              0.7777777777777778,
              "#fb9f3a"
             ],
             [
              0.8888888888888888,
              "#fdca26"
             ],
             [
              1,
              "#f0f921"
             ]
            ],
            "type": "contour"
           }
          ],
          "contourcarpet": [
           {
            "colorbar": {
             "outlinewidth": 0,
             "ticks": ""
            },
            "type": "contourcarpet"
           }
          ],
          "heatmap": [
           {
            "colorbar": {
             "outlinewidth": 0,
             "ticks": ""
            },
            "colorscale": [
             [
              0,
              "#0d0887"
             ],
             [
              0.1111111111111111,
              "#46039f"
             ],
             [
              0.2222222222222222,
              "#7201a8"
             ],
             [
              0.3333333333333333,
              "#9c179e"
             ],
             [
              0.4444444444444444,
              "#bd3786"
             ],
             [
              0.5555555555555556,
              "#d8576b"
             ],
             [
              0.6666666666666666,
              "#ed7953"
             ],
             [
              0.7777777777777778,
              "#fb9f3a"
             ],
             [
              0.8888888888888888,
              "#fdca26"
             ],
             [
              1,
              "#f0f921"
             ]
            ],
            "type": "heatmap"
           }
          ],
          "heatmapgl": [
           {
            "colorbar": {
             "outlinewidth": 0,
             "ticks": ""
            },
            "colorscale": [
             [
              0,
              "#0d0887"
             ],
             [
              0.1111111111111111,
              "#46039f"
             ],
             [
              0.2222222222222222,
              "#7201a8"
             ],
             [
              0.3333333333333333,
              "#9c179e"
             ],
             [
              0.4444444444444444,
              "#bd3786"
             ],
             [
              0.5555555555555556,
              "#d8576b"
             ],
             [
              0.6666666666666666,
              "#ed7953"
             ],
             [
              0.7777777777777778,
              "#fb9f3a"
             ],
             [
              0.8888888888888888,
              "#fdca26"
             ],
             [
              1,
              "#f0f921"
             ]
            ],
            "type": "heatmapgl"
           }
          ],
          "histogram": [
           {
            "marker": {
             "pattern": {
              "fillmode": "overlay",
              "size": 10,
              "solidity": 0.2
             }
            },
            "type": "histogram"
           }
          ],
          "histogram2d": [
           {
            "colorbar": {
             "outlinewidth": 0,
             "ticks": ""
            },
            "colorscale": [
             [
              0,
              "#0d0887"
             ],
             [
              0.1111111111111111,
              "#46039f"
             ],
             [
              0.2222222222222222,
              "#7201a8"
             ],
             [
              0.3333333333333333,
              "#9c179e"
             ],
             [
              0.4444444444444444,
              "#bd3786"
             ],
             [
              0.5555555555555556,
              "#d8576b"
             ],
             [
              0.6666666666666666,
              "#ed7953"
             ],
             [
              0.7777777777777778,
              "#fb9f3a"
             ],
             [
              0.8888888888888888,
              "#fdca26"
             ],
             [
              1,
              "#f0f921"
             ]
            ],
            "type": "histogram2d"
           }
          ],
          "histogram2dcontour": [
           {
            "colorbar": {
             "outlinewidth": 0,
             "ticks": ""
            },
            "colorscale": [
             [
              0,
              "#0d0887"
             ],
             [
              0.1111111111111111,
              "#46039f"
             ],
             [
              0.2222222222222222,
              "#7201a8"
             ],
             [
              0.3333333333333333,
              "#9c179e"
             ],
             [
              0.4444444444444444,
              "#bd3786"
             ],
             [
              0.5555555555555556,
              "#d8576b"
             ],
             [
              0.6666666666666666,
              "#ed7953"
             ],
             [
              0.7777777777777778,
              "#fb9f3a"
             ],
             [
              0.8888888888888888,
              "#fdca26"
             ],
             [
              1,
              "#f0f921"
             ]
            ],
            "type": "histogram2dcontour"
           }
          ],
          "mesh3d": [
           {
            "colorbar": {
             "outlinewidth": 0,
             "ticks": ""
            },
            "type": "mesh3d"
           }
          ],
          "parcoords": [
           {
            "line": {
             "colorbar": {
              "outlinewidth": 0,
              "ticks": ""
             }
            },
            "type": "parcoords"
           }
          ],
          "pie": [
           {
            "automargin": true,
            "type": "pie"
           }
          ],
          "scatter": [
           {
            "fillpattern": {
             "fillmode": "overlay",
             "size": 10,
             "solidity": 0.2
            },
            "type": "scatter"
           }
          ],
          "scatter3d": [
           {
            "line": {
             "colorbar": {
              "outlinewidth": 0,
              "ticks": ""
             }
            },
            "marker": {
             "colorbar": {
              "outlinewidth": 0,
              "ticks": ""
             }
            },
            "type": "scatter3d"
           }
          ],
          "scattercarpet": [
           {
            "marker": {
             "colorbar": {
              "outlinewidth": 0,
              "ticks": ""
             }
            },
            "type": "scattercarpet"
           }
          ],
          "scattergeo": [
           {
            "marker": {
             "colorbar": {
              "outlinewidth": 0,
              "ticks": ""
             }
            },
            "type": "scattergeo"
           }
          ],
          "scattergl": [
           {
            "marker": {
             "colorbar": {
              "outlinewidth": 0,
              "ticks": ""
             }
            },
            "type": "scattergl"
           }
          ],
          "scattermapbox": [
           {
            "marker": {
             "colorbar": {
              "outlinewidth": 0,
              "ticks": ""
             }
            },
            "type": "scattermapbox"
           }
          ],
          "scatterpolar": [
           {
            "marker": {
             "colorbar": {
              "outlinewidth": 0,
              "ticks": ""
             }
            },
            "type": "scatterpolar"
           }
          ],
          "scatterpolargl": [
           {
            "marker": {
             "colorbar": {
              "outlinewidth": 0,
              "ticks": ""
             }
            },
            "type": "scatterpolargl"
           }
          ],
          "scatterternary": [
           {
            "marker": {
             "colorbar": {
              "outlinewidth": 0,
              "ticks": ""
             }
            },
            "type": "scatterternary"
           }
          ],
          "surface": [
           {
            "colorbar": {
             "outlinewidth": 0,
             "ticks": ""
            },
            "colorscale": [
             [
              0,
              "#0d0887"
             ],
             [
              0.1111111111111111,
              "#46039f"
             ],
             [
              0.2222222222222222,
              "#7201a8"
             ],
             [
              0.3333333333333333,
              "#9c179e"
             ],
             [
              0.4444444444444444,
              "#bd3786"
             ],
             [
              0.5555555555555556,
              "#d8576b"
             ],
             [
              0.6666666666666666,
              "#ed7953"
             ],
             [
              0.7777777777777778,
              "#fb9f3a"
             ],
             [
              0.8888888888888888,
              "#fdca26"
             ],
             [
              1,
              "#f0f921"
             ]
            ],
            "type": "surface"
           }
          ],
          "table": [
           {
            "cells": {
             "fill": {
              "color": "#EBF0F8"
             },
             "line": {
              "color": "white"
             }
            },
            "header": {
             "fill": {
              "color": "#C8D4E3"
             },
             "line": {
              "color": "white"
             }
            },
            "type": "table"
           }
          ]
         },
         "layout": {
          "annotationdefaults": {
           "arrowcolor": "#2a3f5f",
           "arrowhead": 0,
           "arrowwidth": 1
          },
          "autotypenumbers": "strict",
          "coloraxis": {
           "colorbar": {
            "outlinewidth": 0,
            "ticks": ""
           }
          },
          "colorscale": {
           "diverging": [
            [
             0,
             "#8e0152"
            ],
            [
             0.1,
             "#c51b7d"
            ],
            [
             0.2,
             "#de77ae"
            ],
            [
             0.3,
             "#f1b6da"
            ],
            [
             0.4,
             "#fde0ef"
            ],
            [
             0.5,
             "#f7f7f7"
            ],
            [
             0.6,
             "#e6f5d0"
            ],
            [
             0.7,
             "#b8e186"
            ],
            [
             0.8,
             "#7fbc41"
            ],
            [
             0.9,
             "#4d9221"
            ],
            [
             1,
             "#276419"
            ]
           ],
           "sequential": [
            [
             0,
             "#0d0887"
            ],
            [
             0.1111111111111111,
             "#46039f"
            ],
            [
             0.2222222222222222,
             "#7201a8"
            ],
            [
             0.3333333333333333,
             "#9c179e"
            ],
            [
             0.4444444444444444,
             "#bd3786"
            ],
            [
             0.5555555555555556,
             "#d8576b"
            ],
            [
             0.6666666666666666,
             "#ed7953"
            ],
            [
             0.7777777777777778,
             "#fb9f3a"
            ],
            [
             0.8888888888888888,
             "#fdca26"
            ],
            [
             1,
             "#f0f921"
            ]
           ],
           "sequentialminus": [
            [
             0,
             "#0d0887"
            ],
            [
             0.1111111111111111,
             "#46039f"
            ],
            [
             0.2222222222222222,
             "#7201a8"
            ],
            [
             0.3333333333333333,
             "#9c179e"
            ],
            [
             0.4444444444444444,
             "#bd3786"
            ],
            [
             0.5555555555555556,
             "#d8576b"
            ],
            [
             0.6666666666666666,
             "#ed7953"
            ],
            [
             0.7777777777777778,
             "#fb9f3a"
            ],
            [
             0.8888888888888888,
             "#fdca26"
            ],
            [
             1,
             "#f0f921"
            ]
           ]
          },
          "colorway": [
           "#636efa",
           "#EF553B",
           "#00cc96",
           "#ab63fa",
           "#FFA15A",
           "#19d3f3",
           "#FF6692",
           "#B6E880",
           "#FF97FF",
           "#FECB52"
          ],
          "font": {
           "color": "#2a3f5f"
          },
          "geo": {
           "bgcolor": "white",
           "lakecolor": "white",
           "landcolor": "#E5ECF6",
           "showlakes": true,
           "showland": true,
           "subunitcolor": "white"
          },
          "hoverlabel": {
           "align": "left"
          },
          "hovermode": "closest",
          "mapbox": {
           "style": "light"
          },
          "paper_bgcolor": "white",
          "plot_bgcolor": "#E5ECF6",
          "polar": {
           "angularaxis": {
            "gridcolor": "white",
            "linecolor": "white",
            "ticks": ""
           },
           "bgcolor": "#E5ECF6",
           "radialaxis": {
            "gridcolor": "white",
            "linecolor": "white",
            "ticks": ""
           }
          },
          "scene": {
           "xaxis": {
            "backgroundcolor": "#E5ECF6",
            "gridcolor": "white",
            "gridwidth": 2,
            "linecolor": "white",
            "showbackground": true,
            "ticks": "",
            "zerolinecolor": "white"
           },
           "yaxis": {
            "backgroundcolor": "#E5ECF6",
            "gridcolor": "white",
            "gridwidth": 2,
            "linecolor": "white",
            "showbackground": true,
            "ticks": "",
            "zerolinecolor": "white"
           },
           "zaxis": {
            "backgroundcolor": "#E5ECF6",
            "gridcolor": "white",
            "gridwidth": 2,
            "linecolor": "white",
            "showbackground": true,
            "ticks": "",
            "zerolinecolor": "white"
           }
          },
          "shapedefaults": {
           "line": {
            "color": "#2a3f5f"
           }
          },
          "ternary": {
           "aaxis": {
            "gridcolor": "white",
            "linecolor": "white",
            "ticks": ""
           },
           "baxis": {
            "gridcolor": "white",
            "linecolor": "white",
            "ticks": ""
           },
           "bgcolor": "#E5ECF6",
           "caxis": {
            "gridcolor": "white",
            "linecolor": "white",
            "ticks": ""
           }
          },
          "title": {
           "x": 0.05
          },
          "xaxis": {
           "automargin": true,
           "gridcolor": "white",
           "linecolor": "white",
           "ticks": "",
           "title": {
            "standoff": 15
           },
           "zerolinecolor": "white",
           "zerolinewidth": 2
          },
          "yaxis": {
           "automargin": true,
           "gridcolor": "white",
           "linecolor": "white",
           "ticks": "",
           "title": {
            "standoff": 15
           },
           "zerolinecolor": "white",
           "zerolinewidth": 2
          }
         }
        },
        "title": {
         "text": "3D t-SNE of 5 Omniglot Classes (BYOL Embeddings)"
        }
       }
      }
     },
     "metadata": {},
     "output_type": "display_data"
    }
   ],
   "source": [
    "import plotly.express as px\n",
    "import pandas as pd\n",
    "\n",
    "# Create a dataframe for easier plotting\n",
    "df = pd.DataFrame({\n",
    "    'x': X_3d[:, 0],\n",
    "    'y': X_3d[:, 1],\n",
    "    'z': X_3d[:, 2],\n",
    "    'class': y\n",
    "})\n",
    "\n",
    "# Filter only selected class labels (5 classes)\n",
    "df = df[df['class'].isin(selected_classes)]\n",
    "\n",
    "# Map original class labels to consistent string labels\n",
    "label_map = {label: f\"Class {label}\" for label in selected_classes}\n",
    "df['class'] = df['class'].map(label_map)\n",
    "\n",
    "# Create interactive 3D scatter plot\n",
    "fig = px.scatter_3d(df, x='x', y='y', z='z',\n",
    "                    color='class',\n",
    "                    title=\"3D t-SNE of 5 Omniglot Classes (BYOL Embeddings)\",\n",
    "                    labels={\"class\": \"Omniglot Class\"},\n",
    "                    opacity=0.8)\n",
    "\n",
    "fig.update_traces(marker=dict(size=5))\n",
    "fig.show()\n"
   ]
  },
  {
   "cell_type": "code",
   "execution_count": 61,
   "id": "69d0acca",
   "metadata": {},
   "outputs": [],
   "source": [
    "from sklearn.model_selection import train_test_split\n",
    "\n",
    "X_train, X_test, y_train, y_test = train_test_split(\n",
    "    X, y, test_size=0.3, random_state=42, stratify=y \n",
    ")"
   ]
  },
  {
   "cell_type": "code",
   "execution_count": 62,
   "id": "6d19cfba",
   "metadata": {},
   "outputs": [
    {
     "name": "stdout",
     "output_type": "stream",
     "text": [
      "KNN Accuracy: 66.67%\n"
     ]
    }
   ],
   "source": [
    "from sklearn.neighbors import KNeighborsClassifier\n",
    "from sklearn.metrics import accuracy_score\n",
    "knn = KNeighborsClassifier(n_neighbors=5)\n",
    "knn.fit(X_train, y_train)\n",
    "y_pred = knn.predict(X_test)\n",
    "print(f\"KNN Accuracy: {accuracy_score(y_test, y_pred) * 100:.2f}%\")"
   ]
  },
  {
   "cell_type": "code",
   "execution_count": 63,
   "id": "acff2518",
   "metadata": {},
   "outputs": [
    {
     "name": "stdout",
     "output_type": "stream",
     "text": [
      "SVM Accuracy: 60.00%\n"
     ]
    }
   ],
   "source": [
    "from sklearn.svm import SVC\n",
    "from sklearn.metrics import accuracy_score\n",
    "svc= SVC(kernel='rbf', random_state=42)\n",
    "svc.fit(X_train, y_train)\n",
    "y_pred = svc.predict(X_test)\n",
    "print(f\"SVM Accuracy: {accuracy_score(y_test, y_pred) * 100:.2f}%\")\n"
   ]
  },
  {
   "cell_type": "code",
   "execution_count": 64,
   "id": "d3aafb67",
   "metadata": {},
   "outputs": [
    {
     "name": "stdout",
     "output_type": "stream",
     "text": [
      "Random Forest Accuracy: 90.00%\n"
     ]
    }
   ],
   "source": [
    "from sklearn.ensemble import RandomForestClassifier\n",
    "from sklearn.metrics import accuracy_score\n",
    "\n",
    "rf = RandomForestClassifier(n_estimators=1000, random_state=42)\n",
    "rf.fit(X_train, y_train)\n",
    "y_pred = rf.predict(X_test)\n",
    "print(f\"Random Forest Accuracy: {accuracy_score(y_test, y_pred) * 100:.2f}%\") "
   ]
  },
  {
   "cell_type": "code",
   "execution_count": 65,
   "id": "8c64f482",
   "metadata": {},
   "outputs": [
    {
     "data": {
      "application/vnd.plotly.v1+json": {
       "config": {
        "plotlyServerURL": "https://plot.ly"
       },
       "data": [
        {
         "hovertemplate": "Script Class=Class 132<br>x=%{x}<br>y=%{y}<extra></extra>",
         "legendgroup": "Class 132",
         "marker": {
          "color": "#636efa",
          "opacity": 0.8,
          "size": 7,
          "symbol": "circle"
         },
         "mode": "markers",
         "name": "Class 132",
         "orientation": "v",
         "showlegend": true,
         "type": "scatter",
         "x": [
          5.678727149963379,
          4.902787685394287,
          4.092808723449707,
          0.20585598051548004,
          -4.544125556945801,
          6.739978313446045,
          6.951357364654541,
          4.356675624847412,
          -5.146300792694092,
          4.203127861022949,
          6.160519123077393,
          6.099393367767334,
          4.222199440002441,
          -1.256059169769287,
          6.356773853302002,
          7.191537380218506,
          7.207052707672119,
          7.306302070617676,
          5.20947265625,
          -2.260939836502075
         ],
         "xaxis": "x",
         "y": [
          5.321667671203613,
          5.796745300292969,
          5.54707145690918,
          5.28952169418335,
          3.7143731117248535,
          6.056160926818848,
          5.282566070556641,
          5.604366302490234,
          3.2560479640960693,
          5.556931495666504,
          5.211310863494873,
          5.19390869140625,
          5.522673606872559,
          5.359707355499268,
          5.7955193519592285,
          5.810466766357422,
          5.746700763702393,
          5.333724021911621,
          5.945990085601807,
          5.162336349487305
         ],
         "yaxis": "y"
        },
        {
         "hovertemplate": "Script Class=Class 154<br>x=%{x}<br>y=%{y}<extra></extra>",
         "legendgroup": "Class 154",
         "marker": {
          "color": "#EF553B",
          "opacity": 0.8,
          "size": 7,
          "symbol": "circle"
         },
         "mode": "markers",
         "name": "Class 154",
         "orientation": "v",
         "showlegend": true,
         "type": "scatter",
         "x": [
          -3.4293100833892822,
          -3.039113759994507,
          -2.292978048324585,
          -5.085368633270264,
          -4.573957443237305,
          -3.2083098888397217,
          -2.6489548683166504,
          -5.236190319061279,
          -4.216261863708496,
          -5.10301399230957,
          -4.638126850128174,
          -4.54226541519165,
          -2.298999547958374,
          -1.800175666809082,
          -1.3217049837112427,
          -4.751065254211426,
          -3.7560927867889404,
          -2.7349696159362793,
          -2.618746757507324,
          -1.3365846872329712
         ],
         "xaxis": "x",
         "y": [
          0.0515814833343029,
          -0.20692461729049683,
          -0.30855944752693176,
          -3.6174678802490234,
          -3.009969472885132,
          0.0026352463755756617,
          0.5736930966377258,
          -3.589731454849243,
          -2.297607183456421,
          -1.29026460647583,
          -2.7742326259613037,
          -1.310631513595581,
          -0.7391312122344971,
          -0.6115143895149231,
          -0.006837374530732632,
          -3.0008914470672607,
          -1.3405824899673462,
          -1.27336847782135,
          -1.2139949798583984,
          -0.5200894474983215
         ],
         "yaxis": "y"
        },
        {
         "hovertemplate": "Script Class=Class 224<br>x=%{x}<br>y=%{y}<extra></extra>",
         "legendgroup": "Class 224",
         "marker": {
          "color": "#00cc96",
          "opacity": 0.8,
          "size": 7,
          "symbol": "circle"
         },
         "mode": "markers",
         "name": "Class 224",
         "orientation": "v",
         "showlegend": true,
         "type": "scatter",
         "x": [
          5.979257106781006,
          6.775055408477783,
          -0.41975757479667664,
          -2.465355157852173,
          -5.8553032875061035,
          3.8026628494262695,
          4.934485912322998,
          -1.7710280418395996,
          -3.0007407665252686,
          -4.947381973266602,
          5.288101673126221,
          6.070310592651367,
          -0.727156937122345,
          -2.3946216106414795,
          -2.9657082557678223,
          -0.6457136869430542,
          -0.7186645269393921,
          -5.929834365844727,
          -6.406219005584717,
          -6.217538833618164
         ],
         "xaxis": "x",
         "y": [
          5.948531627655029,
          5.122375011444092,
          5.358777046203613,
          5.058393955230713,
          2.4056544303894043,
          5.50093412399292,
          5.366761207580566,
          5.280979156494141,
          4.822403907775879,
          3.4187047481536865,
          5.576771259307861,
          6.0206193923950195,
          5.394626617431641,
          5.087532043457031,
          4.8453779220581055,
          5.382612705230713,
          5.392927169799805,
          2.12261700630188,
          0.30326130986213684,
          -1.5195207595825195
         ],
         "yaxis": "y"
        },
        {
         "hovertemplate": "Script Class=Class 85<br>x=%{x}<br>y=%{y}<extra></extra>",
         "legendgroup": "Class 85",
         "marker": {
          "color": "#ab63fa",
          "opacity": 0.8,
          "size": 7,
          "symbol": "circle"
         },
         "mode": "markers",
         "name": "Class 85",
         "orientation": "v",
         "showlegend": true,
         "type": "scatter",
         "x": [
          -0.43066877126693726,
          -3.1559853553771973,
          -1.3442161083221436,
          -1.5888245105743408,
          -1.2898443937301636,
          -2.3885622024536133,
          -3.250640392303467,
          -0.3670145571231842,
          -0.9485945105552673,
          -1.0066030025482178,
          -0.6129008531570435,
          -3.3414409160614014,
          -2.3201804161071777,
          -1.9772199392318726,
          -1.5486809015274048,
          -1.6385458707809448,
          -3.2643518447875977,
          -0.6115697026252747,
          -1.5215612649917603,
          -1.6522605419158936
         ],
         "xaxis": "x",
         "y": [
          -1.154192328453064,
          -4.653565883636475,
          -2.218355417251587,
          -2.008626937866211,
          -2.826157331466675,
          -2.859963893890381,
          -4.78215217590332,
          -2.4624481201171875,
          -2.2984912395477295,
          -3.442319869995117,
          -3.861666679382324,
          -4.421675205230713,
          -3.405410051345825,
          -3.3186192512512207,
          -3.511960744857788,
          -3.8342788219451904,
          -4.853639602661133,
          -2.2080044746398926,
          -4.31952428817749,
          -2.6452181339263916
         ],
         "yaxis": "y"
        },
        {
         "hovertemplate": "Script Class=Class 194<br>x=%{x}<br>y=%{y}<extra></extra>",
         "legendgroup": "Class 194",
         "marker": {
          "color": "#FFA15A",
          "opacity": 0.8,
          "size": 7,
          "symbol": "circle"
         },
         "mode": "markers",
         "name": "Class 194",
         "orientation": "v",
         "showlegend": true,
         "type": "scatter",
         "x": [
          -5.4648966789245605,
          -6.5708746910095215,
          -6.002797603607178,
          -5.3365960121154785,
          -3.690082311630249,
          -3.366316080093384,
          -2.8593411445617676,
          -5.746917247772217,
          -7.051394939422607,
          -7.120549201965332,
          -5.989243507385254,
          -6.211528301239014,
          -5.235473155975342,
          -5.564851760864258,
          -3.932114839553833,
          -5.126889705657959,
          -6.717559814453125,
          -5.487215518951416,
          -5.705506324768066,
          -4.235287189483643
         ],
         "xaxis": "x",
         "y": [
          2.939544200897217,
          0.36403149366378784,
          -2.407132387161255,
          -1.7695361375808716,
          -1.4354159832000732,
          4.604172229766846,
          4.895111083984375,
          2.640819549560547,
          -1.5712913274765015,
          -2.9621527194976807,
          1.3896453380584717,
          -2.015957832336426,
          -1.6935819387435913,
          -2.180299997329712,
          -0.6085744500160217,
          0.18392997980117798,
          -2.4443156719207764,
          -1.4003853797912598,
          -1.7247856855392456,
          -1.1547635793685913
         ],
         "yaxis": "y"
        }
       ],
       "layout": {
        "legend": {
         "title": {
          "text": "Script Class"
         },
         "tracegroupgap": 0
        },
        "template": {
         "data": {
          "bar": [
           {
            "error_x": {
             "color": "#2a3f5f"
            },
            "error_y": {
             "color": "#2a3f5f"
            },
            "marker": {
             "line": {
              "color": "#E5ECF6",
              "width": 0.5
             },
             "pattern": {
              "fillmode": "overlay",
              "size": 10,
              "solidity": 0.2
             }
            },
            "type": "bar"
           }
          ],
          "barpolar": [
           {
            "marker": {
             "line": {
              "color": "#E5ECF6",
              "width": 0.5
             },
             "pattern": {
              "fillmode": "overlay",
              "size": 10,
              "solidity": 0.2
             }
            },
            "type": "barpolar"
           }
          ],
          "carpet": [
           {
            "aaxis": {
             "endlinecolor": "#2a3f5f",
             "gridcolor": "white",
             "linecolor": "white",
             "minorgridcolor": "white",
             "startlinecolor": "#2a3f5f"
            },
            "baxis": {
             "endlinecolor": "#2a3f5f",
             "gridcolor": "white",
             "linecolor": "white",
             "minorgridcolor": "white",
             "startlinecolor": "#2a3f5f"
            },
            "type": "carpet"
           }
          ],
          "choropleth": [
           {
            "colorbar": {
             "outlinewidth": 0,
             "ticks": ""
            },
            "type": "choropleth"
           }
          ],
          "contour": [
           {
            "colorbar": {
             "outlinewidth": 0,
             "ticks": ""
            },
            "colorscale": [
             [
              0,
              "#0d0887"
             ],
             [
              0.1111111111111111,
              "#46039f"
             ],
             [
              0.2222222222222222,
              "#7201a8"
             ],
             [
              0.3333333333333333,
              "#9c179e"
             ],
             [
              0.4444444444444444,
              "#bd3786"
             ],
             [
              0.5555555555555556,
              "#d8576b"
             ],
             [
              0.6666666666666666,
              "#ed7953"
             ],
             [
              0.7777777777777778,
              "#fb9f3a"
             ],
             [
              0.8888888888888888,
              "#fdca26"
             ],
             [
              1,
              "#f0f921"
             ]
            ],
            "type": "contour"
           }
          ],
          "contourcarpet": [
           {
            "colorbar": {
             "outlinewidth": 0,
             "ticks": ""
            },
            "type": "contourcarpet"
           }
          ],
          "heatmap": [
           {
            "colorbar": {
             "outlinewidth": 0,
             "ticks": ""
            },
            "colorscale": [
             [
              0,
              "#0d0887"
             ],
             [
              0.1111111111111111,
              "#46039f"
             ],
             [
              0.2222222222222222,
              "#7201a8"
             ],
             [
              0.3333333333333333,
              "#9c179e"
             ],
             [
              0.4444444444444444,
              "#bd3786"
             ],
             [
              0.5555555555555556,
              "#d8576b"
             ],
             [
              0.6666666666666666,
              "#ed7953"
             ],
             [
              0.7777777777777778,
              "#fb9f3a"
             ],
             [
              0.8888888888888888,
              "#fdca26"
             ],
             [
              1,
              "#f0f921"
             ]
            ],
            "type": "heatmap"
           }
          ],
          "heatmapgl": [
           {
            "colorbar": {
             "outlinewidth": 0,
             "ticks": ""
            },
            "colorscale": [
             [
              0,
              "#0d0887"
             ],
             [
              0.1111111111111111,
              "#46039f"
             ],
             [
              0.2222222222222222,
              "#7201a8"
             ],
             [
              0.3333333333333333,
              "#9c179e"
             ],
             [
              0.4444444444444444,
              "#bd3786"
             ],
             [
              0.5555555555555556,
              "#d8576b"
             ],
             [
              0.6666666666666666,
              "#ed7953"
             ],
             [
              0.7777777777777778,
              "#fb9f3a"
             ],
             [
              0.8888888888888888,
              "#fdca26"
             ],
             [
              1,
              "#f0f921"
             ]
            ],
            "type": "heatmapgl"
           }
          ],
          "histogram": [
           {
            "marker": {
             "pattern": {
              "fillmode": "overlay",
              "size": 10,
              "solidity": 0.2
             }
            },
            "type": "histogram"
           }
          ],
          "histogram2d": [
           {
            "colorbar": {
             "outlinewidth": 0,
             "ticks": ""
            },
            "colorscale": [
             [
              0,
              "#0d0887"
             ],
             [
              0.1111111111111111,
              "#46039f"
             ],
             [
              0.2222222222222222,
              "#7201a8"
             ],
             [
              0.3333333333333333,
              "#9c179e"
             ],
             [
              0.4444444444444444,
              "#bd3786"
             ],
             [
              0.5555555555555556,
              "#d8576b"
             ],
             [
              0.6666666666666666,
              "#ed7953"
             ],
             [
              0.7777777777777778,
              "#fb9f3a"
             ],
             [
              0.8888888888888888,
              "#fdca26"
             ],
             [
              1,
              "#f0f921"
             ]
            ],
            "type": "histogram2d"
           }
          ],
          "histogram2dcontour": [
           {
            "colorbar": {
             "outlinewidth": 0,
             "ticks": ""
            },
            "colorscale": [
             [
              0,
              "#0d0887"
             ],
             [
              0.1111111111111111,
              "#46039f"
             ],
             [
              0.2222222222222222,
              "#7201a8"
             ],
             [
              0.3333333333333333,
              "#9c179e"
             ],
             [
              0.4444444444444444,
              "#bd3786"
             ],
             [
              0.5555555555555556,
              "#d8576b"
             ],
             [
              0.6666666666666666,
              "#ed7953"
             ],
             [
              0.7777777777777778,
              "#fb9f3a"
             ],
             [
              0.8888888888888888,
              "#fdca26"
             ],
             [
              1,
              "#f0f921"
             ]
            ],
            "type": "histogram2dcontour"
           }
          ],
          "mesh3d": [
           {
            "colorbar": {
             "outlinewidth": 0,
             "ticks": ""
            },
            "type": "mesh3d"
           }
          ],
          "parcoords": [
           {
            "line": {
             "colorbar": {
              "outlinewidth": 0,
              "ticks": ""
             }
            },
            "type": "parcoords"
           }
          ],
          "pie": [
           {
            "automargin": true,
            "type": "pie"
           }
          ],
          "scatter": [
           {
            "fillpattern": {
             "fillmode": "overlay",
             "size": 10,
             "solidity": 0.2
            },
            "type": "scatter"
           }
          ],
          "scatter3d": [
           {
            "line": {
             "colorbar": {
              "outlinewidth": 0,
              "ticks": ""
             }
            },
            "marker": {
             "colorbar": {
              "outlinewidth": 0,
              "ticks": ""
             }
            },
            "type": "scatter3d"
           }
          ],
          "scattercarpet": [
           {
            "marker": {
             "colorbar": {
              "outlinewidth": 0,
              "ticks": ""
             }
            },
            "type": "scattercarpet"
           }
          ],
          "scattergeo": [
           {
            "marker": {
             "colorbar": {
              "outlinewidth": 0,
              "ticks": ""
             }
            },
            "type": "scattergeo"
           }
          ],
          "scattergl": [
           {
            "marker": {
             "colorbar": {
              "outlinewidth": 0,
              "ticks": ""
             }
            },
            "type": "scattergl"
           }
          ],
          "scattermapbox": [
           {
            "marker": {
             "colorbar": {
              "outlinewidth": 0,
              "ticks": ""
             }
            },
            "type": "scattermapbox"
           }
          ],
          "scatterpolar": [
           {
            "marker": {
             "colorbar": {
              "outlinewidth": 0,
              "ticks": ""
             }
            },
            "type": "scatterpolar"
           }
          ],
          "scatterpolargl": [
           {
            "marker": {
             "colorbar": {
              "outlinewidth": 0,
              "ticks": ""
             }
            },
            "type": "scatterpolargl"
           }
          ],
          "scatterternary": [
           {
            "marker": {
             "colorbar": {
              "outlinewidth": 0,
              "ticks": ""
             }
            },
            "type": "scatterternary"
           }
          ],
          "surface": [
           {
            "colorbar": {
             "outlinewidth": 0,
             "ticks": ""
            },
            "colorscale": [
             [
              0,
              "#0d0887"
             ],
             [
              0.1111111111111111,
              "#46039f"
             ],
             [
              0.2222222222222222,
              "#7201a8"
             ],
             [
              0.3333333333333333,
              "#9c179e"
             ],
             [
              0.4444444444444444,
              "#bd3786"
             ],
             [
              0.5555555555555556,
              "#d8576b"
             ],
             [
              0.6666666666666666,
              "#ed7953"
             ],
             [
              0.7777777777777778,
              "#fb9f3a"
             ],
             [
              0.8888888888888888,
              "#fdca26"
             ],
             [
              1,
              "#f0f921"
             ]
            ],
            "type": "surface"
           }
          ],
          "table": [
           {
            "cells": {
             "fill": {
              "color": "#EBF0F8"
             },
             "line": {
              "color": "white"
             }
            },
            "header": {
             "fill": {
              "color": "#C8D4E3"
             },
             "line": {
              "color": "white"
             }
            },
            "type": "table"
           }
          ]
         },
         "layout": {
          "annotationdefaults": {
           "arrowcolor": "#2a3f5f",
           "arrowhead": 0,
           "arrowwidth": 1
          },
          "autotypenumbers": "strict",
          "coloraxis": {
           "colorbar": {
            "outlinewidth": 0,
            "ticks": ""
           }
          },
          "colorscale": {
           "diverging": [
            [
             0,
             "#8e0152"
            ],
            [
             0.1,
             "#c51b7d"
            ],
            [
             0.2,
             "#de77ae"
            ],
            [
             0.3,
             "#f1b6da"
            ],
            [
             0.4,
             "#fde0ef"
            ],
            [
             0.5,
             "#f7f7f7"
            ],
            [
             0.6,
             "#e6f5d0"
            ],
            [
             0.7,
             "#b8e186"
            ],
            [
             0.8,
             "#7fbc41"
            ],
            [
             0.9,
             "#4d9221"
            ],
            [
             1,
             "#276419"
            ]
           ],
           "sequential": [
            [
             0,
             "#0d0887"
            ],
            [
             0.1111111111111111,
             "#46039f"
            ],
            [
             0.2222222222222222,
             "#7201a8"
            ],
            [
             0.3333333333333333,
             "#9c179e"
            ],
            [
             0.4444444444444444,
             "#bd3786"
            ],
            [
             0.5555555555555556,
             "#d8576b"
            ],
            [
             0.6666666666666666,
             "#ed7953"
            ],
            [
             0.7777777777777778,
             "#fb9f3a"
            ],
            [
             0.8888888888888888,
             "#fdca26"
            ],
            [
             1,
             "#f0f921"
            ]
           ],
           "sequentialminus": [
            [
             0,
             "#0d0887"
            ],
            [
             0.1111111111111111,
             "#46039f"
            ],
            [
             0.2222222222222222,
             "#7201a8"
            ],
            [
             0.3333333333333333,
             "#9c179e"
            ],
            [
             0.4444444444444444,
             "#bd3786"
            ],
            [
             0.5555555555555556,
             "#d8576b"
            ],
            [
             0.6666666666666666,
             "#ed7953"
            ],
            [
             0.7777777777777778,
             "#fb9f3a"
            ],
            [
             0.8888888888888888,
             "#fdca26"
            ],
            [
             1,
             "#f0f921"
            ]
           ]
          },
          "colorway": [
           "#636efa",
           "#EF553B",
           "#00cc96",
           "#ab63fa",
           "#FFA15A",
           "#19d3f3",
           "#FF6692",
           "#B6E880",
           "#FF97FF",
           "#FECB52"
          ],
          "font": {
           "color": "#2a3f5f"
          },
          "geo": {
           "bgcolor": "white",
           "lakecolor": "white",
           "landcolor": "#E5ECF6",
           "showlakes": true,
           "showland": true,
           "subunitcolor": "white"
          },
          "hoverlabel": {
           "align": "left"
          },
          "hovermode": "closest",
          "mapbox": {
           "style": "light"
          },
          "paper_bgcolor": "white",
          "plot_bgcolor": "#E5ECF6",
          "polar": {
           "angularaxis": {
            "gridcolor": "white",
            "linecolor": "white",
            "ticks": ""
           },
           "bgcolor": "#E5ECF6",
           "radialaxis": {
            "gridcolor": "white",
            "linecolor": "white",
            "ticks": ""
           }
          },
          "scene": {
           "xaxis": {
            "backgroundcolor": "#E5ECF6",
            "gridcolor": "white",
            "gridwidth": 2,
            "linecolor": "white",
            "showbackground": true,
            "ticks": "",
            "zerolinecolor": "white"
           },
           "yaxis": {
            "backgroundcolor": "#E5ECF6",
            "gridcolor": "white",
            "gridwidth": 2,
            "linecolor": "white",
            "showbackground": true,
            "ticks": "",
            "zerolinecolor": "white"
           },
           "zaxis": {
            "backgroundcolor": "#E5ECF6",
            "gridcolor": "white",
            "gridwidth": 2,
            "linecolor": "white",
            "showbackground": true,
            "ticks": "",
            "zerolinecolor": "white"
           }
          },
          "shapedefaults": {
           "line": {
            "color": "#2a3f5f"
           }
          },
          "ternary": {
           "aaxis": {
            "gridcolor": "white",
            "linecolor": "white",
            "ticks": ""
           },
           "baxis": {
            "gridcolor": "white",
            "linecolor": "white",
            "ticks": ""
           },
           "bgcolor": "#E5ECF6",
           "caxis": {
            "gridcolor": "white",
            "linecolor": "white",
            "ticks": ""
           }
          },
          "title": {
           "x": 0.05
          },
          "xaxis": {
           "automargin": true,
           "gridcolor": "white",
           "linecolor": "white",
           "ticks": "",
           "title": {
            "standoff": 15
           },
           "zerolinecolor": "white",
           "zerolinewidth": 2
          },
          "yaxis": {
           "automargin": true,
           "gridcolor": "white",
           "linecolor": "white",
           "ticks": "",
           "title": {
            "standoff": 15
           },
           "zerolinecolor": "white",
           "zerolinewidth": 2
          }
         }
        },
        "title": {
         "text": "2D t-SNE of 5 Classes (BYOL Embeddings)"
        },
        "xaxis": {
         "anchor": "y",
         "domain": [
          0,
          1
         ],
         "title": {
          "text": "x"
         }
        },
        "yaxis": {
         "anchor": "x",
         "domain": [
          0,
          1
         ],
         "title": {
          "text": "y"
         }
        }
       }
      }
     },
     "metadata": {},
     "output_type": "display_data"
    }
   ],
   "source": [
    "from sklearn.manifold import TSNE\n",
    "\n",
    "# Compute 2D t-SNE\n",
    "tsne_2d = TSNE(n_components=2, perplexity=30, init='pca', random_state=42)\n",
    "X_2d = tsne_2d.fit_transform(X)\n",
    "\n",
    "# Prepare DataFrame for plotting\n",
    "df_2d = pd.DataFrame({\n",
    "    'x': X_2d[:, 0],\n",
    "    'y': X_2d[:, 1],\n",
    "    'class': y\n",
    "})\n",
    "df_2d = df_2d[df_2d['class'].isin(selected_classes)]\n",
    "df_2d['class'] = df_2d['class'].map(label_map)\n",
    "\n",
    "import plotly.express as px\n",
    "\n",
    "fig2d = px.scatter(\n",
    "    df_2d, x='x', y='y', color='class',\n",
    "    title=\"2D t-SNE of 5 Classes (BYOL Embeddings)\",\n",
    "    labels={\"class\": \"Script Class\"},\n",
    "    opacity=0.8\n",
    ")\n",
    "fig2d.update_traces(marker=dict(size=7))\n",
    "fig2d.show()"
   ]
  },
  {
   "cell_type": "code",
   "execution_count": null,
   "id": "0926ff10",
   "metadata": {},
   "outputs": [],
   "source": []
  }
 ],
 "metadata": {
  "kernelspec": {
   "display_name": "pytorch",
   "language": "python",
   "name": "python3"
  },
  "language_info": {
   "codemirror_mode": {
    "name": "ipython",
    "version": 3
   },
   "file_extension": ".py",
   "mimetype": "text/x-python",
   "name": "python",
   "nbconvert_exporter": "python",
   "pygments_lexer": "ipython3",
   "version": "3.12.8"
  }
 },
 "nbformat": 4,
 "nbformat_minor": 5
}
