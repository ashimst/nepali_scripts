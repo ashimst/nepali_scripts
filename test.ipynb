{
 "cells": [
  {
   "cell_type": "code",
   "execution_count": 306,
   "id": "e1d5ada7",
   "metadata": {},
   "outputs": [],
   "source": [
    "import torch \n",
    "from torch import nn \n",
    "import matplotlib.pyplot as plt\n",
    "import numpy as np\n",
    "from torch.nn import functional as F\n",
    "from tqdm import tqdm\n",
    "from torchvision.datasets import Omniglot\n",
    "from torchvision import transforms\n",
    "from torch.utils.data import DataLoader\n",
    "from collections import defaultdict\n",
    "import random\n",
    "from torch.utils.data import Subset"
   ]
  },
  {
   "cell_type": "code",
   "execution_count": 307,
   "id": "286b6321",
   "metadata": {},
   "outputs": [],
   "source": [
    "class Encoder(nn.Module):\n",
    "    def __init__(self, hidden_dim=64, out_dim=64):\n",
    "        super().__init__()\n",
    "        self.encoder = nn.Sequential(\n",
    "            nn.Conv2d(1, hidden_dim, kernel_size=3, padding=1),  # 28x28\n",
    "            nn.BatchNorm2d(hidden_dim),\n",
    "            nn.ReLU(),\n",
    "            nn.MaxPool2d(2),  # -> 14x14\n",
    "\n",
    "            nn.Conv2d(hidden_dim, hidden_dim, kernel_size=3, padding=1),\n",
    "            nn.BatchNorm2d(hidden_dim),\n",
    "            nn.ReLU(),\n",
    "            nn.MaxPool2d(2),  # -> 7x7\n",
    "\n",
    "            nn.Conv2d(hidden_dim, hidden_dim, kernel_size=3, padding=1),\n",
    "            nn.BatchNorm2d(hidden_dim),\n",
    "            nn.ReLU(),\n",
    "            nn.MaxPool2d(2),  # -> 3x3\n",
    "\n",
    "            nn.Conv2d(hidden_dim, hidden_dim, kernel_size=3, padding=1),\n",
    "            nn.BatchNorm2d(hidden_dim),\n",
    "            nn.ReLU(),\n",
    "            nn.AdaptiveAvgPool2d((1, 1))  # -> 1x1\n",
    "        )\n",
    "        self.fc = nn.Linear(hidden_dim, out_dim)\n",
    "\n",
    "    def forward(self, x):\n",
    "        x = self.encoder(x)          # Shape: (B, hidden_dim, 1, 1)\n",
    "        x = x.view(x.size(0), -1)    # Flatten to (B, hidden_dim)\n",
    "        return self.fc(x)           "
   ]
  },
  {
   "cell_type": "code",
   "execution_count": 308,
   "id": "36210309",
   "metadata": {},
   "outputs": [],
   "source": [
    "encoder = Encoder()"
   ]
  },
  {
   "cell_type": "code",
   "execution_count": 309,
   "id": "3ba02aec",
   "metadata": {},
   "outputs": [
    {
     "data": {
      "text/plain": [
       "device(type='cuda')"
      ]
     },
     "execution_count": 309,
     "metadata": {},
     "output_type": "execute_result"
    }
   ],
   "source": [
    "device = torch.device(\"cuda\" if torch.cuda.is_available() else \"cpu\")\n",
    "device  "
   ]
  },
  {
   "cell_type": "code",
   "execution_count": 310,
   "id": "bcc78e6f",
   "metadata": {},
   "outputs": [
    {
     "name": "stderr",
     "output_type": "stream",
     "text": [
      "C:\\Users\\ACER\\AppData\\Local\\Temp\\ipykernel_22816\\797333286.py:1: FutureWarning:\n",
      "\n",
      "You are using `torch.load` with `weights_only=False` (the current default value), which uses the default pickle module implicitly. It is possible to construct malicious pickle data which will execute arbitrary code during unpickling (See https://github.com/pytorch/pytorch/blob/main/SECURITY.md#untrusted-models for more details). In a future release, the default value for `weights_only` will be flipped to `True`. This limits the functions that could be executed during unpickling. Arbitrary objects will no longer be allowed to be loaded via this mode unless they are explicitly allowlisted by the user via `torch.serialization.add_safe_globals`. We recommend you start setting `weights_only=True` for any use case where you don't have full control of the loaded file. Please open an issue on GitHub for any issues related to this experimental feature.\n",
      "\n"
     ]
    },
    {
     "data": {
      "text/plain": [
       "<All keys matched successfully>"
      ]
     },
     "execution_count": 310,
     "metadata": {},
     "output_type": "execute_result"
    }
   ],
   "source": [
    "encoder.load_state_dict(torch.load(\"best_model.pth\", map_location=device))"
   ]
  },
  {
   "cell_type": "code",
   "execution_count": 311,
   "id": "11ffa3cc",
   "metadata": {},
   "outputs": [
    {
     "data": {
      "text/plain": [
       "Encoder(\n",
       "  (encoder): Sequential(\n",
       "    (0): Conv2d(1, 64, kernel_size=(3, 3), stride=(1, 1), padding=(1, 1))\n",
       "    (1): BatchNorm2d(64, eps=1e-05, momentum=0.1, affine=True, track_running_stats=True)\n",
       "    (2): ReLU()\n",
       "    (3): MaxPool2d(kernel_size=2, stride=2, padding=0, dilation=1, ceil_mode=False)\n",
       "    (4): Conv2d(64, 64, kernel_size=(3, 3), stride=(1, 1), padding=(1, 1))\n",
       "    (5): BatchNorm2d(64, eps=1e-05, momentum=0.1, affine=True, track_running_stats=True)\n",
       "    (6): ReLU()\n",
       "    (7): MaxPool2d(kernel_size=2, stride=2, padding=0, dilation=1, ceil_mode=False)\n",
       "    (8): Conv2d(64, 64, kernel_size=(3, 3), stride=(1, 1), padding=(1, 1))\n",
       "    (9): BatchNorm2d(64, eps=1e-05, momentum=0.1, affine=True, track_running_stats=True)\n",
       "    (10): ReLU()\n",
       "    (11): MaxPool2d(kernel_size=2, stride=2, padding=0, dilation=1, ceil_mode=False)\n",
       "    (12): Conv2d(64, 64, kernel_size=(3, 3), stride=(1, 1), padding=(1, 1))\n",
       "    (13): BatchNorm2d(64, eps=1e-05, momentum=0.1, affine=True, track_running_stats=True)\n",
       "    (14): ReLU()\n",
       "    (15): AdaptiveAvgPool2d(output_size=(1, 1))\n",
       "  )\n",
       "  (fc): Linear(in_features=64, out_features=64, bias=True)\n",
       ")"
      ]
     },
     "execution_count": 311,
     "metadata": {},
     "output_type": "execute_result"
    }
   ],
   "source": [
    "encoder.to(device)\n",
    "encoder.eval()"
   ]
  },
  {
   "cell_type": "code",
   "execution_count": 312,
   "id": "73296348",
   "metadata": {},
   "outputs": [],
   "source": [
    "from torchvision import datasets\n",
    "eval_transform = transforms.Compose([\n",
    "    transforms.Grayscale(),\n",
    "    transforms.Resize((28, 28)),\n",
    "    transforms.ToTensor(),\n",
    "    transforms.Normalize((0.5,), (0.5,))\n",
    "])\n",
    "dataset_path = \"./dataset\"\n",
    "eval_dataset = datasets.ImageFolder(root=dataset_path, transform=eval_transform)\n",
    "#eval_dataset = Omniglot(root='./data', background=True, download=True, transform=eval_transform)\n",
    "eval_loader = DataLoader(eval_dataset, batch_size=64, shuffle=False)"
   ]
  },
  {
   "cell_type": "code",
   "execution_count": 313,
   "id": "3f4d58ac",
   "metadata": {},
   "outputs": [],
   "source": [
    "\n",
    "\n",
    "# Build a map from class label → list of sample indices\n",
    "class_to_indices = defaultdict(list)\n",
    "for idx, (_, label) in enumerate(eval_dataset):\n",
    "    class_to_indices[label].append(idx)\n",
    "\n",
    "# Randomly choose 5 classes\n",
    "selected_classes = random.sample(list(class_to_indices.keys()), 5)\n",
    "\n",
    "# For each class, pick up to 20 samples\n",
    "selected_indices = []\n",
    "for cls in selected_classes:\n",
    "    selected_indices.extend(class_to_indices[cls][:20])  # pick 20 samples per class\n",
    "\n",
    "# Create subset of dataset\n",
    "subset = Subset(eval_dataset, selected_indices)\n",
    "subset_loader = DataLoader(subset, batch_size=64, shuffle=False)\n"
   ]
  },
  {
   "cell_type": "code",
   "execution_count": 314,
   "id": "c3637830",
   "metadata": {},
   "outputs": [],
   "source": [
    "all_embeddings = []\n",
    "all_labels = []\n",
    "\n",
    "with torch.no_grad():\n",
    "    for images, labels in subset_loader:\n",
    "        images = images.to(device)\n",
    "        embeddings = encoder(images)\n",
    "        all_embeddings.append(embeddings.cpu().numpy())\n",
    "        all_labels.append(labels.numpy())\n",
    "\n",
    "X = np.concatenate(all_embeddings, axis=0)\n",
    "y = np.concatenate(all_labels, axis=0)"
   ]
  },
  {
   "cell_type": "code",
   "execution_count": 315,
   "id": "c386f4c2",
   "metadata": {},
   "outputs": [],
   "source": [
    "from sklearn.manifold import TSNE\n",
    "\n",
    "tsne = TSNE(n_components=3, perplexity=30, init='pca', random_state=42)\n",
    "X_3d = tsne.fit_transform(X)  # shape: (num_samples, 3)\n"
   ]
  },
  {
   "cell_type": "code",
   "execution_count": 316,
   "id": "70f1479e",
   "metadata": {},
   "outputs": [
    {
     "data": {
      "application/vnd.plotly.v1+json": {
       "config": {
        "plotlyServerURL": "https://plot.ly"
       },
       "data": [
        {
         "hovertemplate": "Omniglot Class=Class 45<br>x=%{x}<br>y=%{y}<br>z=%{z}<extra></extra>",
         "legendgroup": "Class 45",
         "marker": {
          "color": "#636efa",
          "opacity": 0.8,
          "size": 5,
          "symbol": "circle"
         },
         "mode": "markers",
         "name": "Class 45",
         "scene": "scene",
         "showlegend": true,
         "type": "scatter3d",
         "x": [
          53.884674072265625,
          20.190614700317383,
          86.39895629882812,
          32.86128234863281,
          30.626480102539062,
          -9.936261177062988,
          -10.704211235046387,
          31.845130920410156,
          84.44780731201172,
          16.425067901611328,
          40.60365295410156,
          -96.31956481933594,
          26.024869918823242,
          45.05207443237305,
          35.52778625488281,
          -101.90001678466797,
          72.39579772949219,
          55.41202163696289,
          69.42732238769531,
          71.34859466552734
         ],
         "y": [
          -36.91650390625,
          -79.83341979980469,
          49.256622314453125,
          72.4551010131836,
          13.369219779968262,
          -66.21055603027344,
          -85.5191421508789,
          34.485504150390625,
          22.203689575195312,
          38.208335876464844,
          -32.54069137573242,
          71.22212219238281,
          -0.5303217172622681,
          20.014842987060547,
          49.18771743774414,
          31.68934440612793,
          30.58829689025879,
          46.122249603271484,
          50.291072845458984,
          9.638774871826172
         ],
         "z": [
          59.653411865234375,
          -2.0060694217681885,
          -21.791259765625,
          -65.24618530273438,
          -114.13935852050781,
          -34.59730529785156,
          66.09825897216797,
          13.250596046447754,
          -59.08076095581055,
          -67.43739318847656,
          29.620817184448242,
          62.89738464355469,
          -47.72358322143555,
          -78.2627182006836,
          -100.93801879882812,
          78.19609069824219,
          11.452486991882324,
          -53.89934539794922,
          -88.22895050048828,
          -104.85757446289062
         ]
        },
        {
         "hovertemplate": "Omniglot Class=Class 256<br>x=%{x}<br>y=%{y}<br>z=%{z}<extra></extra>",
         "legendgroup": "Class 256",
         "marker": {
          "color": "#EF553B",
          "opacity": 0.8,
          "size": 5,
          "symbol": "circle"
         },
         "mode": "markers",
         "name": "Class 256",
         "scene": "scene",
         "showlegend": true,
         "type": "scatter3d",
         "x": [
          -86.93391418457031,
          -53.70468521118164,
          2.959117889404297,
          -43.90510940551758,
          -100.1081771850586,
          -94.55573272705078,
          -115.21202087402344,
          -37.80800247192383,
          -60.6263427734375,
          -54.8121337890625,
          -100.70636749267578,
          -64.47520446777344,
          -90.04473114013672,
          -90.62112426757812,
          -30.141855239868164,
          -67.40058135986328,
          -85.80429077148438,
          -40.70857238769531,
          -73.25924682617188,
          -77.5100326538086
         ],
         "y": [
          67.94459533691406,
          41.49291229248047,
          78.64972686767578,
          -17.619375228881836,
          -35.311798095703125,
          -5.034867763519287,
          9.888345718383789,
          -26.79069709777832,
          26.49688148498535,
          -9.4094820022583,
          30.631074905395508,
          -42.274131774902344,
          38.35359191894531,
          27.99241065979004,
          17.139982223510742,
          52.41394805908203,
          0.07369319349527359,
          5.822287559509277,
          -41.94148254394531,
          -11.287275314331055
         ],
         "z": [
          5.960593223571777,
          68.18378448486328,
          49.61921691894531,
          44.02745056152344,
          13.449615478515625,
          33.71023178100586,
          -22.907068252563477,
          -77.26040649414062,
          9.44658374786377,
          12.009812355041504,
          21.260520935058594,
          0.29609936475753784,
          -15.211763381958008,
          -51.62824249267578,
          35.42490768432617,
          33.602256774902344,
          -3.5580828189849854,
          74.73396301269531,
          42.248016357421875,
          68.16664123535156
         ]
        },
        {
         "hovertemplate": "Omniglot Class=Class 142<br>x=%{x}<br>y=%{y}<br>z=%{z}<extra></extra>",
         "legendgroup": "Class 142",
         "marker": {
          "color": "#00cc96",
          "opacity": 0.8,
          "size": 5,
          "symbol": "circle"
         },
         "mode": "markers",
         "name": "Class 142",
         "scene": "scene",
         "showlegend": true,
         "type": "scatter3d",
         "x": [
          37.28781509399414,
          1.572953224182129,
          53.98092269897461,
          17.130924224853516,
          20.628143310546875,
          72.70474243164062,
          2.5762200355529785,
          33.28450012207031,
          56.916419982910156,
          49.78318405151367,
          20.160999298095703,
          69.02391052246094,
          63.3986930847168,
          11.58968734741211,
          -1.392170786857605,
          37.59354782104492,
          24.216285705566406,
          84.0926742553711,
          -140.5364990234375,
          53.47037124633789
         ],
         "y": [
          -47.43232727050781,
          34.86783218383789,
          22.400373458862305,
          -3.592343807220459,
          -41.421085357666016,
          -70.39836883544922,
          -33.393043518066406,
          -74.1280746459961,
          -75.49940490722656,
          57.076969146728516,
          -1.0424002408981323,
          -19.19175910949707,
          -6.981385231018066,
          -1.0162354707717896,
          33.95718002319336,
          18.395219802856445,
          36.81403350830078,
          11.52631664276123,
          -2.2149229049682617,
          -64.45226287841797
         ],
         "z": [
          -32.226261138916016,
          89.45687103271484,
          -22.73056411743164,
          53.99459457397461,
          3.590712308883667,
          -32.86213684082031,
          45.6689338684082,
          73.00740051269531,
          41.98660659790039,
          -12.090219497680664,
          16.832809448242188,
          17.56874656677246,
          -56.24906539916992,
          -81.23583221435547,
          -97.82879638671875,
          81.4645004272461,
          58.35174560546875,
          -19.007925033569336,
          17.351625442504883,
          9.412130355834961
         ]
        },
        {
         "hovertemplate": "Omniglot Class=Class 292<br>x=%{x}<br>y=%{y}<br>z=%{z}<extra></extra>",
         "legendgroup": "Class 292",
         "marker": {
          "color": "#ab63fa",
          "opacity": 0.8,
          "size": 5,
          "symbol": "circle"
         },
         "mode": "markers",
         "name": "Class 292",
         "scene": "scene",
         "showlegend": true,
         "type": "scatter3d",
         "x": [
          -20.245756149291992,
          -4.5006103515625,
          -66.60655212402344,
          -46.54130172729492,
          -13.019340515136719,
          114.24646759033203,
          111.66781616210938,
          -53.09421157836914,
          -65.79584503173828,
          -19.88088035583496,
          -36.181114196777344,
          93.9220199584961,
          -19.05934715270996,
          -87.61034393310547,
          -28.8682861328125,
          -42.510440826416016,
          -49.47108459472656,
          119.22679901123047,
          -45.09914016723633,
          -29.98247528076172
         ],
         "y": [
          3.659320592880249,
          78.31510162353516,
          14.707985877990723,
          82.13094329833984,
          70.01441192626953,
          -14.075577735900879,
          -42.66902160644531,
          14.948959350585938,
          -9.017916679382324,
          32.446632385253906,
          -21.633487701416016,
          66.80516815185547,
          42.38179016113281,
          -30.9468994140625,
          59.223384857177734,
          84.554443359375,
          53.18303680419922,
          -35.222782135009766,
          44.3828010559082,
          8.637436866760254
         ],
         "z": [
          -7.372458457946777,
          9.211840629577637,
          42.51197814941406,
          -44.156917572021484,
          -26.879934310913086,
          36.66831588745117,
          19.623363494873047,
          -27.085777282714844,
          -56.68431854248047,
          -30.035863876342773,
          -31.84824562072754,
          26.41380500793457,
          3.990386724472046,
          -33.59780502319336,
          36.464603424072266,
          0.8217081427574158,
          -20.143491744995117,
          -7.492732524871826,
          -59.17485809326172,
          -56.44338607788086
         ]
        },
        {
         "hovertemplate": "Omniglot Class=Class 177<br>x=%{x}<br>y=%{y}<br>z=%{z}<extra></extra>",
         "legendgroup": "Class 177",
         "marker": {
          "color": "#FFA15A",
          "opacity": 0.8,
          "size": 5,
          "symbol": "circle"
         },
         "mode": "markers",
         "name": "Class 177",
         "scene": "scene",
         "showlegend": true,
         "type": "scatter3d",
         "x": [
          24.214618682861328,
          180.43589782714844,
          32.52737808227539,
          -0.14653512835502625,
          8.178827285766602,
          46.27690887451172,
          79.26882934570312,
          -12.749963760375977,
          -22.429927825927734,
          51.809814453125,
          -11.489368438720703,
          39.76621627807617,
          33.716087341308594,
          74.7788314819336,
          -37.15214538574219,
          -12.453608512878418,
          15.108661651611328,
          43.883853912353516,
          72.15669250488281,
          23.252099990844727
         ],
         "y": [
          -98.8502197265625,
          218.2555389404297,
          -36.39668273925781,
          -44.9610595703125,
          -10.897271156311035,
          -15.927778244018555,
          0.18280670046806335,
          -102.23822021484375,
          -64.93892669677734,
          8.41357421875,
          -57.37916564941406,
          -9.216404914855957,
          -46.57192611694336,
          39.25071334838867,
          -84.81562042236328,
          -99.84465026855469,
          -67.96430206298828,
          -99.8349838256836,
          -23.01093864440918,
          35.33523941040039
         ],
         "z": [
          44.13551330566406,
          51.92524719238281,
          99.704345703125,
          89.74452209472656,
          108.22771453857422,
          -94.3862075805664,
          63.7244987487793,
          -13.795541763305664,
          37.530086517333984,
          33.35121536254883,
          5.67624044418335,
          -7.689959526062012,
          -75.1726303100586,
          69.81510162353516,
          5.753366470336914,
          25.82999038696289,
          33.092647552490234,
          13.968659400939941,
          -19.299070358276367,
          -31.324970245361328
         ]
        }
       ],
       "layout": {
        "legend": {
         "title": {
          "text": "Omniglot Class"
         },
         "tracegroupgap": 0
        },
        "scene": {
         "domain": {
          "x": [
           0,
           1
          ],
          "y": [
           0,
           1
          ]
         },
         "xaxis": {
          "title": {
           "text": "x"
          }
         },
         "yaxis": {
          "title": {
           "text": "y"
          }
         },
         "zaxis": {
          "title": {
           "text": "z"
          }
         }
        },
        "template": {
         "data": {
          "bar": [
           {
            "error_x": {
             "color": "#2a3f5f"
            },
            "error_y": {
             "color": "#2a3f5f"
            },
            "marker": {
             "line": {
              "color": "#E5ECF6",
              "width": 0.5
             },
             "pattern": {
              "fillmode": "overlay",
              "size": 10,
              "solidity": 0.2
             }
            },
            "type": "bar"
           }
          ],
          "barpolar": [
           {
            "marker": {
             "line": {
              "color": "#E5ECF6",
              "width": 0.5
             },
             "pattern": {
              "fillmode": "overlay",
              "size": 10,
              "solidity": 0.2
             }
            },
            "type": "barpolar"
           }
          ],
          "carpet": [
           {
            "aaxis": {
             "endlinecolor": "#2a3f5f",
             "gridcolor": "white",
             "linecolor": "white",
             "minorgridcolor": "white",
             "startlinecolor": "#2a3f5f"
            },
            "baxis": {
             "endlinecolor": "#2a3f5f",
             "gridcolor": "white",
             "linecolor": "white",
             "minorgridcolor": "white",
             "startlinecolor": "#2a3f5f"
            },
            "type": "carpet"
           }
          ],
          "choropleth": [
           {
            "colorbar": {
             "outlinewidth": 0,
             "ticks": ""
            },
            "type": "choropleth"
           }
          ],
          "contour": [
           {
            "colorbar": {
             "outlinewidth": 0,
             "ticks": ""
            },
            "colorscale": [
             [
              0,
              "#0d0887"
             ],
             [
              0.1111111111111111,
              "#46039f"
             ],
             [
              0.2222222222222222,
              "#7201a8"
             ],
             [
              0.3333333333333333,
              "#9c179e"
             ],
             [
              0.4444444444444444,
              "#bd3786"
             ],
             [
              0.5555555555555556,
              "#d8576b"
             ],
             [
              0.6666666666666666,
              "#ed7953"
             ],
             [
              0.7777777777777778,
              "#fb9f3a"
             ],
             [
              0.8888888888888888,
              "#fdca26"
             ],
             [
              1,
              "#f0f921"
             ]
            ],
            "type": "contour"
           }
          ],
          "contourcarpet": [
           {
            "colorbar": {
             "outlinewidth": 0,
             "ticks": ""
            },
            "type": "contourcarpet"
           }
          ],
          "heatmap": [
           {
            "colorbar": {
             "outlinewidth": 0,
             "ticks": ""
            },
            "colorscale": [
             [
              0,
              "#0d0887"
             ],
             [
              0.1111111111111111,
              "#46039f"
             ],
             [
              0.2222222222222222,
              "#7201a8"
             ],
             [
              0.3333333333333333,
              "#9c179e"
             ],
             [
              0.4444444444444444,
              "#bd3786"
             ],
             [
              0.5555555555555556,
              "#d8576b"
             ],
             [
              0.6666666666666666,
              "#ed7953"
             ],
             [
              0.7777777777777778,
              "#fb9f3a"
             ],
             [
              0.8888888888888888,
              "#fdca26"
             ],
             [
              1,
              "#f0f921"
             ]
            ],
            "type": "heatmap"
           }
          ],
          "heatmapgl": [
           {
            "colorbar": {
             "outlinewidth": 0,
             "ticks": ""
            },
            "colorscale": [
             [
              0,
              "#0d0887"
             ],
             [
              0.1111111111111111,
              "#46039f"
             ],
             [
              0.2222222222222222,
              "#7201a8"
             ],
             [
              0.3333333333333333,
              "#9c179e"
             ],
             [
              0.4444444444444444,
              "#bd3786"
             ],
             [
              0.5555555555555556,
              "#d8576b"
             ],
             [
              0.6666666666666666,
              "#ed7953"
             ],
             [
              0.7777777777777778,
              "#fb9f3a"
             ],
             [
              0.8888888888888888,
              "#fdca26"
             ],
             [
              1,
              "#f0f921"
             ]
            ],
            "type": "heatmapgl"
           }
          ],
          "histogram": [
           {
            "marker": {
             "pattern": {
              "fillmode": "overlay",
              "size": 10,
              "solidity": 0.2
             }
            },
            "type": "histogram"
           }
          ],
          "histogram2d": [
           {
            "colorbar": {
             "outlinewidth": 0,
             "ticks": ""
            },
            "colorscale": [
             [
              0,
              "#0d0887"
             ],
             [
              0.1111111111111111,
              "#46039f"
             ],
             [
              0.2222222222222222,
              "#7201a8"
             ],
             [
              0.3333333333333333,
              "#9c179e"
             ],
             [
              0.4444444444444444,
              "#bd3786"
             ],
             [
              0.5555555555555556,
              "#d8576b"
             ],
             [
              0.6666666666666666,
              "#ed7953"
             ],
             [
              0.7777777777777778,
              "#fb9f3a"
             ],
             [
              0.8888888888888888,
              "#fdca26"
             ],
             [
              1,
              "#f0f921"
             ]
            ],
            "type": "histogram2d"
           }
          ],
          "histogram2dcontour": [
           {
            "colorbar": {
             "outlinewidth": 0,
             "ticks": ""
            },
            "colorscale": [
             [
              0,
              "#0d0887"
             ],
             [
              0.1111111111111111,
              "#46039f"
             ],
             [
              0.2222222222222222,
              "#7201a8"
             ],
             [
              0.3333333333333333,
              "#9c179e"
             ],
             [
              0.4444444444444444,
              "#bd3786"
             ],
             [
              0.5555555555555556,
              "#d8576b"
             ],
             [
              0.6666666666666666,
              "#ed7953"
             ],
             [
              0.7777777777777778,
              "#fb9f3a"
             ],
             [
              0.8888888888888888,
              "#fdca26"
             ],
             [
              1,
              "#f0f921"
             ]
            ],
            "type": "histogram2dcontour"
           }
          ],
          "mesh3d": [
           {
            "colorbar": {
             "outlinewidth": 0,
             "ticks": ""
            },
            "type": "mesh3d"
           }
          ],
          "parcoords": [
           {
            "line": {
             "colorbar": {
              "outlinewidth": 0,
              "ticks": ""
             }
            },
            "type": "parcoords"
           }
          ],
          "pie": [
           {
            "automargin": true,
            "type": "pie"
           }
          ],
          "scatter": [
           {
            "fillpattern": {
             "fillmode": "overlay",
             "size": 10,
             "solidity": 0.2
            },
            "type": "scatter"
           }
          ],
          "scatter3d": [
           {
            "line": {
             "colorbar": {
              "outlinewidth": 0,
              "ticks": ""
             }
            },
            "marker": {
             "colorbar": {
              "outlinewidth": 0,
              "ticks": ""
             }
            },
            "type": "scatter3d"
           }
          ],
          "scattercarpet": [
           {
            "marker": {
             "colorbar": {
              "outlinewidth": 0,
              "ticks": ""
             }
            },
            "type": "scattercarpet"
           }
          ],
          "scattergeo": [
           {
            "marker": {
             "colorbar": {
              "outlinewidth": 0,
              "ticks": ""
             }
            },
            "type": "scattergeo"
           }
          ],
          "scattergl": [
           {
            "marker": {
             "colorbar": {
              "outlinewidth": 0,
              "ticks": ""
             }
            },
            "type": "scattergl"
           }
          ],
          "scattermapbox": [
           {
            "marker": {
             "colorbar": {
              "outlinewidth": 0,
              "ticks": ""
             }
            },
            "type": "scattermapbox"
           }
          ],
          "scatterpolar": [
           {
            "marker": {
             "colorbar": {
              "outlinewidth": 0,
              "ticks": ""
             }
            },
            "type": "scatterpolar"
           }
          ],
          "scatterpolargl": [
           {
            "marker": {
             "colorbar": {
              "outlinewidth": 0,
              "ticks": ""
             }
            },
            "type": "scatterpolargl"
           }
          ],
          "scatterternary": [
           {
            "marker": {
             "colorbar": {
              "outlinewidth": 0,
              "ticks": ""
             }
            },
            "type": "scatterternary"
           }
          ],
          "surface": [
           {
            "colorbar": {
             "outlinewidth": 0,
             "ticks": ""
            },
            "colorscale": [
             [
              0,
              "#0d0887"
             ],
             [
              0.1111111111111111,
              "#46039f"
             ],
             [
              0.2222222222222222,
              "#7201a8"
             ],
             [
              0.3333333333333333,
              "#9c179e"
             ],
             [
              0.4444444444444444,
              "#bd3786"
             ],
             [
              0.5555555555555556,
              "#d8576b"
             ],
             [
              0.6666666666666666,
              "#ed7953"
             ],
             [
              0.7777777777777778,
              "#fb9f3a"
             ],
             [
              0.8888888888888888,
              "#fdca26"
             ],
             [
              1,
              "#f0f921"
             ]
            ],
            "type": "surface"
           }
          ],
          "table": [
           {
            "cells": {
             "fill": {
              "color": "#EBF0F8"
             },
             "line": {
              "color": "white"
             }
            },
            "header": {
             "fill": {
              "color": "#C8D4E3"
             },
             "line": {
              "color": "white"
             }
            },
            "type": "table"
           }
          ]
         },
         "layout": {
          "annotationdefaults": {
           "arrowcolor": "#2a3f5f",
           "arrowhead": 0,
           "arrowwidth": 1
          },
          "autotypenumbers": "strict",
          "coloraxis": {
           "colorbar": {
            "outlinewidth": 0,
            "ticks": ""
           }
          },
          "colorscale": {
           "diverging": [
            [
             0,
             "#8e0152"
            ],
            [
             0.1,
             "#c51b7d"
            ],
            [
             0.2,
             "#de77ae"
            ],
            [
             0.3,
             "#f1b6da"
            ],
            [
             0.4,
             "#fde0ef"
            ],
            [
             0.5,
             "#f7f7f7"
            ],
            [
             0.6,
             "#e6f5d0"
            ],
            [
             0.7,
             "#b8e186"
            ],
            [
             0.8,
             "#7fbc41"
            ],
            [
             0.9,
             "#4d9221"
            ],
            [
             1,
             "#276419"
            ]
           ],
           "sequential": [
            [
             0,
             "#0d0887"
            ],
            [
             0.1111111111111111,
             "#46039f"
            ],
            [
             0.2222222222222222,
             "#7201a8"
            ],
            [
             0.3333333333333333,
             "#9c179e"
            ],
            [
             0.4444444444444444,
             "#bd3786"
            ],
            [
             0.5555555555555556,
             "#d8576b"
            ],
            [
             0.6666666666666666,
             "#ed7953"
            ],
            [
             0.7777777777777778,
             "#fb9f3a"
            ],
            [
             0.8888888888888888,
             "#fdca26"
            ],
            [
             1,
             "#f0f921"
            ]
           ],
           "sequentialminus": [
            [
             0,
             "#0d0887"
            ],
            [
             0.1111111111111111,
             "#46039f"
            ],
            [
             0.2222222222222222,
             "#7201a8"
            ],
            [
             0.3333333333333333,
             "#9c179e"
            ],
            [
             0.4444444444444444,
             "#bd3786"
            ],
            [
             0.5555555555555556,
             "#d8576b"
            ],
            [
             0.6666666666666666,
             "#ed7953"
            ],
            [
             0.7777777777777778,
             "#fb9f3a"
            ],
            [
             0.8888888888888888,
             "#fdca26"
            ],
            [
             1,
             "#f0f921"
            ]
           ]
          },
          "colorway": [
           "#636efa",
           "#EF553B",
           "#00cc96",
           "#ab63fa",
           "#FFA15A",
           "#19d3f3",
           "#FF6692",
           "#B6E880",
           "#FF97FF",
           "#FECB52"
          ],
          "font": {
           "color": "#2a3f5f"
          },
          "geo": {
           "bgcolor": "white",
           "lakecolor": "white",
           "landcolor": "#E5ECF6",
           "showlakes": true,
           "showland": true,
           "subunitcolor": "white"
          },
          "hoverlabel": {
           "align": "left"
          },
          "hovermode": "closest",
          "mapbox": {
           "style": "light"
          },
          "paper_bgcolor": "white",
          "plot_bgcolor": "#E5ECF6",
          "polar": {
           "angularaxis": {
            "gridcolor": "white",
            "linecolor": "white",
            "ticks": ""
           },
           "bgcolor": "#E5ECF6",
           "radialaxis": {
            "gridcolor": "white",
            "linecolor": "white",
            "ticks": ""
           }
          },
          "scene": {
           "xaxis": {
            "backgroundcolor": "#E5ECF6",
            "gridcolor": "white",
            "gridwidth": 2,
            "linecolor": "white",
            "showbackground": true,
            "ticks": "",
            "zerolinecolor": "white"
           },
           "yaxis": {
            "backgroundcolor": "#E5ECF6",
            "gridcolor": "white",
            "gridwidth": 2,
            "linecolor": "white",
            "showbackground": true,
            "ticks": "",
            "zerolinecolor": "white"
           },
           "zaxis": {
            "backgroundcolor": "#E5ECF6",
            "gridcolor": "white",
            "gridwidth": 2,
            "linecolor": "white",
            "showbackground": true,
            "ticks": "",
            "zerolinecolor": "white"
           }
          },
          "shapedefaults": {
           "line": {
            "color": "#2a3f5f"
           }
          },
          "ternary": {
           "aaxis": {
            "gridcolor": "white",
            "linecolor": "white",
            "ticks": ""
           },
           "baxis": {
            "gridcolor": "white",
            "linecolor": "white",
            "ticks": ""
           },
           "bgcolor": "#E5ECF6",
           "caxis": {
            "gridcolor": "white",
            "linecolor": "white",
            "ticks": ""
           }
          },
          "title": {
           "x": 0.05
          },
          "xaxis": {
           "automargin": true,
           "gridcolor": "white",
           "linecolor": "white",
           "ticks": "",
           "title": {
            "standoff": 15
           },
           "zerolinecolor": "white",
           "zerolinewidth": 2
          },
          "yaxis": {
           "automargin": true,
           "gridcolor": "white",
           "linecolor": "white",
           "ticks": "",
           "title": {
            "standoff": 15
           },
           "zerolinecolor": "white",
           "zerolinewidth": 2
          }
         }
        },
        "title": {
         "text": "3D t-SNE of 5 Omniglot Classes (BYOL Embeddings)"
        }
       }
      }
     },
     "metadata": {},
     "output_type": "display_data"
    }
   ],
   "source": [
    "import plotly.express as px\n",
    "import pandas as pd\n",
    "\n",
    "# Create a dataframe for easier plotting\n",
    "df = pd.DataFrame({\n",
    "    'x': X_3d[:, 0],\n",
    "    'y': X_3d[:, 1],\n",
    "    'z': X_3d[:, 2],\n",
    "    'class': y\n",
    "})\n",
    "\n",
    "# Filter only selected class labels (5 classes)\n",
    "df = df[df['class'].isin(selected_classes)]\n",
    "\n",
    "# Map original class labels to consistent string labels\n",
    "label_map = {label: f\"Class {label}\" for label in selected_classes}\n",
    "df['class'] = df['class'].map(label_map)\n",
    "\n",
    "# Create interactive 3D scatter plot\n",
    "fig = px.scatter_3d(df, x='x', y='y', z='z',\n",
    "                    color='class',\n",
    "                    title=\"3D t-SNE of 5 Omniglot Classes (BYOL Embeddings)\",\n",
    "                    labels={\"class\": \"Omniglot Class\"},\n",
    "                    opacity=0.8)\n",
    "\n",
    "fig.update_traces(marker=dict(size=5))\n",
    "fig.show()\n"
   ]
  },
  {
   "cell_type": "code",
   "execution_count": 317,
   "id": "69d0acca",
   "metadata": {},
   "outputs": [],
   "source": [
    "from sklearn.model_selection import train_test_split\n",
    "\n",
    "X_train, X_test, y_train, y_test = train_test_split(\n",
    "    X, y, test_size=0.3, random_state=42, stratify=y \n",
    ")"
   ]
  },
  {
   "cell_type": "code",
   "execution_count": 318,
   "id": "6d19cfba",
   "metadata": {},
   "outputs": [
    {
     "name": "stdout",
     "output_type": "stream",
     "text": [
      "KNN Accuracy: 90.00%\n"
     ]
    }
   ],
   "source": [
    "from sklearn.neighbors import KNeighborsClassifier\n",
    "from sklearn.metrics import accuracy_score\n",
    "knn = KNeighborsClassifier(n_neighbors=5)\n",
    "knn.fit(X_train, y_train)\n",
    "y_pred = knn.predict(X_test)\n",
    "print(f\"KNN Accuracy: {accuracy_score(y_test, y_pred) * 100:.2f}%\")"
   ]
  },
  {
   "cell_type": "code",
   "execution_count": 319,
   "id": "acff2518",
   "metadata": {},
   "outputs": [
    {
     "name": "stdout",
     "output_type": "stream",
     "text": [
      "SVM Accuracy: 76.67%\n"
     ]
    }
   ],
   "source": [
    "from sklearn.svm import SVC\n",
    "from sklearn.metrics import accuracy_score\n",
    "svc= SVC(kernel='rbf', random_state=42)\n",
    "svc.fit(X_train, y_train)\n",
    "y_pred = svc.predict(X_test)\n",
    "print(f\"SVM Accuracy: {accuracy_score(y_test, y_pred) * 100:.2f}%\")\n"
   ]
  },
  {
   "cell_type": "code",
   "execution_count": 320,
   "id": "d3aafb67",
   "metadata": {},
   "outputs": [
    {
     "name": "stdout",
     "output_type": "stream",
     "text": [
      "Random Forest Accuracy: 86.67%\n"
     ]
    }
   ],
   "source": [
    "from sklearn.ensemble import RandomForestClassifier\n",
    "from sklearn.metrics import accuracy_score\n",
    "\n",
    "rf = RandomForestClassifier(n_estimators=1000, random_state=42)\n",
    "rf.fit(X_train, y_train)\n",
    "y_pred = rf.predict(X_test)\n",
    "print(f\"Random Forest Accuracy: {accuracy_score(y_test, y_pred) * 100:.2f}%\") "
   ]
  },
  {
   "cell_type": "code",
   "execution_count": 321,
   "id": "8c64f482",
   "metadata": {},
   "outputs": [
    {
     "data": {
      "application/vnd.plotly.v1+json": {
       "config": {
        "plotlyServerURL": "https://plot.ly"
       },
       "data": [
        {
         "hovertemplate": "Script Class=Class 45<br>x=%{x}<br>y=%{y}<extra></extra>",
         "legendgroup": "Class 45",
         "marker": {
          "color": "#636efa",
          "opacity": 0.8,
          "size": 7,
          "symbol": "circle"
         },
         "mode": "markers",
         "name": "Class 45",
         "orientation": "v",
         "showlegend": true,
         "type": "scatter",
         "x": [
          7.419475555419922,
          7.931398868560791,
          5.088741779327393,
          3.8691601753234863,
          3.0763118267059326,
          9.113128662109375,
          8.860969543457031,
          5.597543239593506,
          4.256639003753662,
          3.618030548095703,
          6.920556545257568,
          5.2052178382873535,
          4.09071159362793,
          3.37436580657959,
          3.2252867221832275,
          5.6892924308776855,
          5.130417346954346,
          3.7683277130126953,
          3.2512404918670654,
          3.019779682159424
         ],
         "xaxis": "x",
         "y": [
          1.5361031293869019,
          1.9681695699691772,
          1.9800431728363037,
          2.6038894653320312,
          2.556659460067749,
          1.304990291595459,
          1.4172883033752441,
          1.6949048042297363,
          2.3337063789367676,
          2.800402879714966,
          1.5946204662322998,
          1.7207809686660767,
          1.85581636428833,
          2.5786635875701904,
          2.5732381343841553,
          1.8791800737380981,
          1.8068103790283203,
          2.0920486450195312,
          2.3666493892669678,
          3.030979633331299
         ],
         "yaxis": "y"
        },
        {
         "hovertemplate": "Script Class=Class 256<br>x=%{x}<br>y=%{y}<extra></extra>",
         "legendgroup": "Class 256",
         "marker": {
          "color": "#EF553B",
          "opacity": 0.8,
          "size": 7,
          "symbol": "circle"
         },
         "mode": "markers",
         "name": "Class 256",
         "orientation": "v",
         "showlegend": true,
         "type": "scatter",
         "x": [
          -21.382856369018555,
          -21.62513542175293,
          -21.283754348754883,
          -20.984006881713867,
          -20.677406311035156,
          -21.32467269897461,
          -21.845386505126953,
          -18.565406799316406,
          -21.35370635986328,
          -21.430694580078125,
          -21.813373565673828,
          -22.05459213256836,
          -21.796710968017578,
          -22.127838134765625,
          -21.5491943359375,
          -21.65929412841797,
          -22.110218048095703,
          -21.83633041381836,
          -21.908126831054688,
          -21.28091812133789
         ],
         "xaxis": "x",
         "y": [
          -3.7975916862487793,
          -3.8971424102783203,
          -3.2458884716033936,
          -3.4971344470977783,
          -3.5234615802764893,
          -3.112856388092041,
          -3.802030324935913,
          -3.521047830581665,
          -3.8222219944000244,
          -3.1296095848083496,
          -3.0839672088623047,
          -3.2864830493927,
          -3.8362042903900146,
          -3.4931955337524414,
          -3.048604965209961,
          -3.032810926437378,
          -3.511683225631714,
          -3.8037216663360596,
          -3.165734052658081,
          -3.7913107872009277
         ],
         "yaxis": "y"
        },
        {
         "hovertemplate": "Script Class=Class 142<br>x=%{x}<br>y=%{y}<extra></extra>",
         "legendgroup": "Class 142",
         "marker": {
          "color": "#00cc96",
          "opacity": 0.8,
          "size": 7,
          "symbol": "circle"
         },
         "mode": "markers",
         "name": "Class 142",
         "orientation": "v",
         "showlegend": true,
         "type": "scatter",
         "x": [
          6.951272010803223,
          7.079509735107422,
          5.026019096374512,
          7.261597633361816,
          7.404046058654785,
          6.808169841766357,
          7.87884521484375,
          8.460469245910645,
          8.031144142150879,
          5.19720458984375,
          6.219758987426758,
          6.5889363288879395,
          4.307181358337402,
          3.6626529693603516,
          3.659510612487793,
          6.6108784675598145,
          6.510295867919922,
          5.129384517669678,
          7.77555513381958,
          8.08419418334961
         ],
         "xaxis": "x",
         "y": [
          3.633286714553833,
          3.9884488582611084,
          2.780597686767578,
          2.9980595111846924,
          2.0032846927642822,
          4.034292697906494,
          2.8085389137268066,
          2.826345443725586,
          2.534372568130493,
          2.7295732498168945,
          2.3855388164520264,
          1.675295352935791,
          2.0804214477539062,
          2.1150989532470703,
          2.3016812801361084,
          3.9127581119537354,
          4.00353479385376,
          2.7028679847717285,
          2.7624595165252686,
          2.3447296619415283
         ],
         "yaxis": "y"
        },
        {
         "hovertemplate": "Script Class=Class 292<br>x=%{x}<br>y=%{y}<extra></extra>",
         "legendgroup": "Class 292",
         "marker": {
          "color": "#ab63fa",
          "opacity": 0.8,
          "size": 7,
          "symbol": "circle"
         },
         "mode": "markers",
         "name": "Class 292",
         "orientation": "v",
         "showlegend": true,
         "type": "scatter",
         "x": [
          -19.569101333618164,
          -19.829103469848633,
          -20.7528133392334,
          -18.95977783203125,
          -19.612871170043945,
          10.299500465393066,
          10.447381019592285,
          -19.86212730407715,
          -19.083717346191406,
          -19.814712524414062,
          -19.335702896118164,
          -19.742380142211914,
          -19.392436981201172,
          -19.886220932006836,
          -20.088600158691406,
          -19.25275993347168,
          -19.190397262573242,
          10.484246253967285,
          -19.094745635986328,
          -19.346338272094727
         ],
         "xaxis": "x",
         "y": [
          -3.7895431518554688,
          -3.199106216430664,
          -3.5117554664611816,
          -3.393674612045288,
          -3.751948595046997,
          2.6803441047668457,
          3.2660818099975586,
          -3.7116525173187256,
          -3.3707334995269775,
          -3.714148998260498,
          -3.106451988220215,
          -3.2082126140594482,
          -3.1562347412109375,
          -3.21689772605896,
          -3.5531694889068604,
          -3.1689577102661133,
          -3.8211445808410645,
          3.4259214401245117,
          -3.7325892448425293,
          -3.775414228439331
         ],
         "yaxis": "y"
        },
        {
         "hovertemplate": "Script Class=Class 177<br>x=%{x}<br>y=%{y}<extra></extra>",
         "legendgroup": "Class 177",
         "marker": {
          "color": "#FFA15A",
          "opacity": 0.8,
          "size": 7,
          "symbol": "circle"
         },
         "mode": "markers",
         "name": "Class 177",
         "orientation": "v",
         "showlegend": true,
         "type": "scatter",
         "x": [
          8.1425199508667,
          5.992268085479736,
          9.893150329589844,
          10.041708946228027,
          9.764829635620117,
          3.0411250591278076,
          7.073007583618164,
          7.8983154296875,
          8.144959449768066,
          6.232049942016602,
          7.988678455352783,
          6.2739458084106445,
          4.143604278564453,
          9.450528144836426,
          8.460861206054688,
          8.71247673034668,
          8.36476993560791,
          7.838526725769043,
          5.8079047203063965,
          4.45947265625
         ],
         "xaxis": "x",
         "y": [
          2.1171085834503174,
          2.1430165767669678,
          1.71341073513031,
          2.0706751346588135,
          1.3788349628448486,
          2.762476682662964,
          0.6585874557495117,
          0.8438022136688232,
          1.4250245094299316,
          1.928349256515503,
          1.3572231531143188,
          2.2271742820739746,
          2.8418333530426025,
          1.1671785116195679,
          1.0590766668319702,
          1.225285291671753,
          1.7265108823776245,
          1.9436858892440796,
          2.2600860595703125,
          2.7700881958007812
         ],
         "yaxis": "y"
        }
       ],
       "layout": {
        "legend": {
         "title": {
          "text": "Script Class"
         },
         "tracegroupgap": 0
        },
        "template": {
         "data": {
          "bar": [
           {
            "error_x": {
             "color": "#2a3f5f"
            },
            "error_y": {
             "color": "#2a3f5f"
            },
            "marker": {
             "line": {
              "color": "#E5ECF6",
              "width": 0.5
             },
             "pattern": {
              "fillmode": "overlay",
              "size": 10,
              "solidity": 0.2
             }
            },
            "type": "bar"
           }
          ],
          "barpolar": [
           {
            "marker": {
             "line": {
              "color": "#E5ECF6",
              "width": 0.5
             },
             "pattern": {
              "fillmode": "overlay",
              "size": 10,
              "solidity": 0.2
             }
            },
            "type": "barpolar"
           }
          ],
          "carpet": [
           {
            "aaxis": {
             "endlinecolor": "#2a3f5f",
             "gridcolor": "white",
             "linecolor": "white",
             "minorgridcolor": "white",
             "startlinecolor": "#2a3f5f"
            },
            "baxis": {
             "endlinecolor": "#2a3f5f",
             "gridcolor": "white",
             "linecolor": "white",
             "minorgridcolor": "white",
             "startlinecolor": "#2a3f5f"
            },
            "type": "carpet"
           }
          ],
          "choropleth": [
           {
            "colorbar": {
             "outlinewidth": 0,
             "ticks": ""
            },
            "type": "choropleth"
           }
          ],
          "contour": [
           {
            "colorbar": {
             "outlinewidth": 0,
             "ticks": ""
            },
            "colorscale": [
             [
              0,
              "#0d0887"
             ],
             [
              0.1111111111111111,
              "#46039f"
             ],
             [
              0.2222222222222222,
              "#7201a8"
             ],
             [
              0.3333333333333333,
              "#9c179e"
             ],
             [
              0.4444444444444444,
              "#bd3786"
             ],
             [
              0.5555555555555556,
              "#d8576b"
             ],
             [
              0.6666666666666666,
              "#ed7953"
             ],
             [
              0.7777777777777778,
              "#fb9f3a"
             ],
             [
              0.8888888888888888,
              "#fdca26"
             ],
             [
              1,
              "#f0f921"
             ]
            ],
            "type": "contour"
           }
          ],
          "contourcarpet": [
           {
            "colorbar": {
             "outlinewidth": 0,
             "ticks": ""
            },
            "type": "contourcarpet"
           }
          ],
          "heatmap": [
           {
            "colorbar": {
             "outlinewidth": 0,
             "ticks": ""
            },
            "colorscale": [
             [
              0,
              "#0d0887"
             ],
             [
              0.1111111111111111,
              "#46039f"
             ],
             [
              0.2222222222222222,
              "#7201a8"
             ],
             [
              0.3333333333333333,
              "#9c179e"
             ],
             [
              0.4444444444444444,
              "#bd3786"
             ],
             [
              0.5555555555555556,
              "#d8576b"
             ],
             [
              0.6666666666666666,
              "#ed7953"
             ],
             [
              0.7777777777777778,
              "#fb9f3a"
             ],
             [
              0.8888888888888888,
              "#fdca26"
             ],
             [
              1,
              "#f0f921"
             ]
            ],
            "type": "heatmap"
           }
          ],
          "heatmapgl": [
           {
            "colorbar": {
             "outlinewidth": 0,
             "ticks": ""
            },
            "colorscale": [
             [
              0,
              "#0d0887"
             ],
             [
              0.1111111111111111,
              "#46039f"
             ],
             [
              0.2222222222222222,
              "#7201a8"
             ],
             [
              0.3333333333333333,
              "#9c179e"
             ],
             [
              0.4444444444444444,
              "#bd3786"
             ],
             [
              0.5555555555555556,
              "#d8576b"
             ],
             [
              0.6666666666666666,
              "#ed7953"
             ],
             [
              0.7777777777777778,
              "#fb9f3a"
             ],
             [
              0.8888888888888888,
              "#fdca26"
             ],
             [
              1,
              "#f0f921"
             ]
            ],
            "type": "heatmapgl"
           }
          ],
          "histogram": [
           {
            "marker": {
             "pattern": {
              "fillmode": "overlay",
              "size": 10,
              "solidity": 0.2
             }
            },
            "type": "histogram"
           }
          ],
          "histogram2d": [
           {
            "colorbar": {
             "outlinewidth": 0,
             "ticks": ""
            },
            "colorscale": [
             [
              0,
              "#0d0887"
             ],
             [
              0.1111111111111111,
              "#46039f"
             ],
             [
              0.2222222222222222,
              "#7201a8"
             ],
             [
              0.3333333333333333,
              "#9c179e"
             ],
             [
              0.4444444444444444,
              "#bd3786"
             ],
             [
              0.5555555555555556,
              "#d8576b"
             ],
             [
              0.6666666666666666,
              "#ed7953"
             ],
             [
              0.7777777777777778,
              "#fb9f3a"
             ],
             [
              0.8888888888888888,
              "#fdca26"
             ],
             [
              1,
              "#f0f921"
             ]
            ],
            "type": "histogram2d"
           }
          ],
          "histogram2dcontour": [
           {
            "colorbar": {
             "outlinewidth": 0,
             "ticks": ""
            },
            "colorscale": [
             [
              0,
              "#0d0887"
             ],
             [
              0.1111111111111111,
              "#46039f"
             ],
             [
              0.2222222222222222,
              "#7201a8"
             ],
             [
              0.3333333333333333,
              "#9c179e"
             ],
             [
              0.4444444444444444,
              "#bd3786"
             ],
             [
              0.5555555555555556,
              "#d8576b"
             ],
             [
              0.6666666666666666,
              "#ed7953"
             ],
             [
              0.7777777777777778,
              "#fb9f3a"
             ],
             [
              0.8888888888888888,
              "#fdca26"
             ],
             [
              1,
              "#f0f921"
             ]
            ],
            "type": "histogram2dcontour"
           }
          ],
          "mesh3d": [
           {
            "colorbar": {
             "outlinewidth": 0,
             "ticks": ""
            },
            "type": "mesh3d"
           }
          ],
          "parcoords": [
           {
            "line": {
             "colorbar": {
              "outlinewidth": 0,
              "ticks": ""
             }
            },
            "type": "parcoords"
           }
          ],
          "pie": [
           {
            "automargin": true,
            "type": "pie"
           }
          ],
          "scatter": [
           {
            "fillpattern": {
             "fillmode": "overlay",
             "size": 10,
             "solidity": 0.2
            },
            "type": "scatter"
           }
          ],
          "scatter3d": [
           {
            "line": {
             "colorbar": {
              "outlinewidth": 0,
              "ticks": ""
             }
            },
            "marker": {
             "colorbar": {
              "outlinewidth": 0,
              "ticks": ""
             }
            },
            "type": "scatter3d"
           }
          ],
          "scattercarpet": [
           {
            "marker": {
             "colorbar": {
              "outlinewidth": 0,
              "ticks": ""
             }
            },
            "type": "scattercarpet"
           }
          ],
          "scattergeo": [
           {
            "marker": {
             "colorbar": {
              "outlinewidth": 0,
              "ticks": ""
             }
            },
            "type": "scattergeo"
           }
          ],
          "scattergl": [
           {
            "marker": {
             "colorbar": {
              "outlinewidth": 0,
              "ticks": ""
             }
            },
            "type": "scattergl"
           }
          ],
          "scattermapbox": [
           {
            "marker": {
             "colorbar": {
              "outlinewidth": 0,
              "ticks": ""
             }
            },
            "type": "scattermapbox"
           }
          ],
          "scatterpolar": [
           {
            "marker": {
             "colorbar": {
              "outlinewidth": 0,
              "ticks": ""
             }
            },
            "type": "scatterpolar"
           }
          ],
          "scatterpolargl": [
           {
            "marker": {
             "colorbar": {
              "outlinewidth": 0,
              "ticks": ""
             }
            },
            "type": "scatterpolargl"
           }
          ],
          "scatterternary": [
           {
            "marker": {
             "colorbar": {
              "outlinewidth": 0,
              "ticks": ""
             }
            },
            "type": "scatterternary"
           }
          ],
          "surface": [
           {
            "colorbar": {
             "outlinewidth": 0,
             "ticks": ""
            },
            "colorscale": [
             [
              0,
              "#0d0887"
             ],
             [
              0.1111111111111111,
              "#46039f"
             ],
             [
              0.2222222222222222,
              "#7201a8"
             ],
             [
              0.3333333333333333,
              "#9c179e"
             ],
             [
              0.4444444444444444,
              "#bd3786"
             ],
             [
              0.5555555555555556,
              "#d8576b"
             ],
             [
              0.6666666666666666,
              "#ed7953"
             ],
             [
              0.7777777777777778,
              "#fb9f3a"
             ],
             [
              0.8888888888888888,
              "#fdca26"
             ],
             [
              1,
              "#f0f921"
             ]
            ],
            "type": "surface"
           }
          ],
          "table": [
           {
            "cells": {
             "fill": {
              "color": "#EBF0F8"
             },
             "line": {
              "color": "white"
             }
            },
            "header": {
             "fill": {
              "color": "#C8D4E3"
             },
             "line": {
              "color": "white"
             }
            },
            "type": "table"
           }
          ]
         },
         "layout": {
          "annotationdefaults": {
           "arrowcolor": "#2a3f5f",
           "arrowhead": 0,
           "arrowwidth": 1
          },
          "autotypenumbers": "strict",
          "coloraxis": {
           "colorbar": {
            "outlinewidth": 0,
            "ticks": ""
           }
          },
          "colorscale": {
           "diverging": [
            [
             0,
             "#8e0152"
            ],
            [
             0.1,
             "#c51b7d"
            ],
            [
             0.2,
             "#de77ae"
            ],
            [
             0.3,
             "#f1b6da"
            ],
            [
             0.4,
             "#fde0ef"
            ],
            [
             0.5,
             "#f7f7f7"
            ],
            [
             0.6,
             "#e6f5d0"
            ],
            [
             0.7,
             "#b8e186"
            ],
            [
             0.8,
             "#7fbc41"
            ],
            [
             0.9,
             "#4d9221"
            ],
            [
             1,
             "#276419"
            ]
           ],
           "sequential": [
            [
             0,
             "#0d0887"
            ],
            [
             0.1111111111111111,
             "#46039f"
            ],
            [
             0.2222222222222222,
             "#7201a8"
            ],
            [
             0.3333333333333333,
             "#9c179e"
            ],
            [
             0.4444444444444444,
             "#bd3786"
            ],
            [
             0.5555555555555556,
             "#d8576b"
            ],
            [
             0.6666666666666666,
             "#ed7953"
            ],
            [
             0.7777777777777778,
             "#fb9f3a"
            ],
            [
             0.8888888888888888,
             "#fdca26"
            ],
            [
             1,
             "#f0f921"
            ]
           ],
           "sequentialminus": [
            [
             0,
             "#0d0887"
            ],
            [
             0.1111111111111111,
             "#46039f"
            ],
            [
             0.2222222222222222,
             "#7201a8"
            ],
            [
             0.3333333333333333,
             "#9c179e"
            ],
            [
             0.4444444444444444,
             "#bd3786"
            ],
            [
             0.5555555555555556,
             "#d8576b"
            ],
            [
             0.6666666666666666,
             "#ed7953"
            ],
            [
             0.7777777777777778,
             "#fb9f3a"
            ],
            [
             0.8888888888888888,
             "#fdca26"
            ],
            [
             1,
             "#f0f921"
            ]
           ]
          },
          "colorway": [
           "#636efa",
           "#EF553B",
           "#00cc96",
           "#ab63fa",
           "#FFA15A",
           "#19d3f3",
           "#FF6692",
           "#B6E880",
           "#FF97FF",
           "#FECB52"
          ],
          "font": {
           "color": "#2a3f5f"
          },
          "geo": {
           "bgcolor": "white",
           "lakecolor": "white",
           "landcolor": "#E5ECF6",
           "showlakes": true,
           "showland": true,
           "subunitcolor": "white"
          },
          "hoverlabel": {
           "align": "left"
          },
          "hovermode": "closest",
          "mapbox": {
           "style": "light"
          },
          "paper_bgcolor": "white",
          "plot_bgcolor": "#E5ECF6",
          "polar": {
           "angularaxis": {
            "gridcolor": "white",
            "linecolor": "white",
            "ticks": ""
           },
           "bgcolor": "#E5ECF6",
           "radialaxis": {
            "gridcolor": "white",
            "linecolor": "white",
            "ticks": ""
           }
          },
          "scene": {
           "xaxis": {
            "backgroundcolor": "#E5ECF6",
            "gridcolor": "white",
            "gridwidth": 2,
            "linecolor": "white",
            "showbackground": true,
            "ticks": "",
            "zerolinecolor": "white"
           },
           "yaxis": {
            "backgroundcolor": "#E5ECF6",
            "gridcolor": "white",
            "gridwidth": 2,
            "linecolor": "white",
            "showbackground": true,
            "ticks": "",
            "zerolinecolor": "white"
           },
           "zaxis": {
            "backgroundcolor": "#E5ECF6",
            "gridcolor": "white",
            "gridwidth": 2,
            "linecolor": "white",
            "showbackground": true,
            "ticks": "",
            "zerolinecolor": "white"
           }
          },
          "shapedefaults": {
           "line": {
            "color": "#2a3f5f"
           }
          },
          "ternary": {
           "aaxis": {
            "gridcolor": "white",
            "linecolor": "white",
            "ticks": ""
           },
           "baxis": {
            "gridcolor": "white",
            "linecolor": "white",
            "ticks": ""
           },
           "bgcolor": "#E5ECF6",
           "caxis": {
            "gridcolor": "white",
            "linecolor": "white",
            "ticks": ""
           }
          },
          "title": {
           "x": 0.05
          },
          "xaxis": {
           "automargin": true,
           "gridcolor": "white",
           "linecolor": "white",
           "ticks": "",
           "title": {
            "standoff": 15
           },
           "zerolinecolor": "white",
           "zerolinewidth": 2
          },
          "yaxis": {
           "automargin": true,
           "gridcolor": "white",
           "linecolor": "white",
           "ticks": "",
           "title": {
            "standoff": 15
           },
           "zerolinecolor": "white",
           "zerolinewidth": 2
          }
         }
        },
        "title": {
         "text": "2D t-SNE of 5 Classes (BYOL Embeddings)"
        },
        "xaxis": {
         "anchor": "y",
         "domain": [
          0,
          1
         ],
         "title": {
          "text": "x"
         }
        },
        "yaxis": {
         "anchor": "x",
         "domain": [
          0,
          1
         ],
         "title": {
          "text": "y"
         }
        }
       }
      }
     },
     "metadata": {},
     "output_type": "display_data"
    }
   ],
   "source": [
    "from sklearn.manifold import TSNE\n",
    "\n",
    "# Compute 2D t-SNE\n",
    "tsne_2d = TSNE(n_components=2, perplexity=30, init='pca', random_state=42)\n",
    "X_2d = tsne_2d.fit_transform(X)\n",
    "\n",
    "# Prepare DataFrame for plotting\n",
    "df_2d = pd.DataFrame({\n",
    "    'x': X_2d[:, 0],\n",
    "    'y': X_2d[:, 1],\n",
    "    'class': y\n",
    "})\n",
    "df_2d = df_2d[df_2d['class'].isin(selected_classes)]\n",
    "df_2d['class'] = df_2d['class'].map(label_map)\n",
    "\n",
    "import plotly.express as px\n",
    "\n",
    "fig2d = px.scatter(\n",
    "    df_2d, x='x', y='y', color='class',\n",
    "    title=\"2D t-SNE of 5 Classes (BYOL Embeddings)\",\n",
    "    labels={\"class\": \"Script Class\"},\n",
    "    opacity=0.8\n",
    ")\n",
    "fig2d.update_traces(marker=dict(size=7))\n",
    "fig2d.show()"
   ]
  },
  {
   "cell_type": "code",
   "execution_count": null,
   "id": "9f96827d",
   "metadata": {},
   "outputs": [],
   "source": []
  }
 ],
 "metadata": {
  "kernelspec": {
   "display_name": "pytorch",
   "language": "python",
   "name": "python3"
  },
  "language_info": {
   "codemirror_mode": {
    "name": "ipython",
    "version": 3
   },
   "file_extension": ".py",
   "mimetype": "text/x-python",
   "name": "python",
   "nbconvert_exporter": "python",
   "pygments_lexer": "ipython3",
   "version": "3.12.8"
  }
 },
 "nbformat": 4,
 "nbformat_minor": 5
}
