{
 "cells": [
  {
   "cell_type": "code",
   "execution_count": 306,
   "id": "e1d5ada7",
   "metadata": {},
   "outputs": [],
   "source": [
    "import torch \n",
    "from torch import nn \n",
    "import matplotlib.pyplot as plt\n",
    "import numpy as np\n",
    "from torch.nn import functional as F\n",
    "from tqdm import tqdm\n",
    "from torchvision.datasets import Omniglot\n",
    "from torchvision import transforms\n",
    "from torch.utils.data import DataLoader\n",
    "from collections import defaultdict\n",
    "import random\n",
    "from torch.utils.data import Subset"
   ]
  },
  {
   "cell_type": "code",
   "execution_count": 307,
   "id": "286b6321",
   "metadata": {},
   "outputs": [],
   "source": [
    "class Encoder(nn.Module):\n",
    "    def __init__(self, hidden_dim=64, out_dim=64):\n",
    "        super().__init__()\n",
    "        self.encoder = nn.Sequential(\n",
    "            nn.Conv2d(1, hidden_dim, kernel_size=3, padding=1),  # 28x28\n",
    "            nn.BatchNorm2d(hidden_dim),\n",
    "            nn.ReLU(),\n",
    "            nn.MaxPool2d(2),  # -> 14x14\n",
    "\n",
    "            nn.Conv2d(hidden_dim, hidden_dim, kernel_size=3, padding=1),\n",
    "            nn.BatchNorm2d(hidden_dim),\n",
    "            nn.ReLU(),\n",
    "            nn.MaxPool2d(2),  # -> 7x7\n",
    "\n",
    "            nn.Conv2d(hidden_dim, hidden_dim, kernel_size=3, padding=1),\n",
    "            nn.BatchNorm2d(hidden_dim),\n",
    "            nn.ReLU(),\n",
    "            nn.MaxPool2d(2),  # -> 3x3\n",
    "\n",
    "            nn.Conv2d(hidden_dim, hidden_dim, kernel_size=3, padding=1),\n",
    "            nn.BatchNorm2d(hidden_dim),\n",
    "            nn.ReLU(),\n",
    "            nn.AdaptiveAvgPool2d((1, 1))  # -> 1x1\n",
    "        )\n",
    "        self.fc = nn.Linear(hidden_dim, out_dim)\n",
    "\n",
    "    def forward(self, x):\n",
    "        x = self.encoder(x)          # Shape: (B, hidden_dim, 1, 1)\n",
    "        x = x.view(x.size(0), -1)    # Flatten to (B, hidden_dim)\n",
    "        return self.fc(x)           "
   ]
  },
  {
   "cell_type": "code",
   "execution_count": 308,
   "id": "36210309",
   "metadata": {},
   "outputs": [],
   "source": [
    "encoder = Encoder()"
   ]
  },
  {
   "cell_type": "code",
   "execution_count": 309,
   "id": "3ba02aec",
   "metadata": {},
   "outputs": [
    {
     "data": {
      "text/plain": [
       "device(type='cuda')"
      ]
     },
     "execution_count": 309,
     "metadata": {},
     "output_type": "execute_result"
    }
   ],
   "source": [
    "device = torch.device(\"cuda\" if torch.cuda.is_available() else \"cpu\")\n",
    "device  "
   ]
  },
  {
   "cell_type": "code",
   "execution_count": 310,
   "id": "bcc78e6f",
   "metadata": {},
   "outputs": [
    {
     "name": "stderr",
     "output_type": "stream",
     "text": [
      "C:\\Users\\ACER\\AppData\\Local\\Temp\\ipykernel_1816\\797333286.py:1: FutureWarning:\n",
      "\n",
      "You are using `torch.load` with `weights_only=False` (the current default value), which uses the default pickle module implicitly. It is possible to construct malicious pickle data which will execute arbitrary code during unpickling (See https://github.com/pytorch/pytorch/blob/main/SECURITY.md#untrusted-models for more details). In a future release, the default value for `weights_only` will be flipped to `True`. This limits the functions that could be executed during unpickling. Arbitrary objects will no longer be allowed to be loaded via this mode unless they are explicitly allowlisted by the user via `torch.serialization.add_safe_globals`. We recommend you start setting `weights_only=True` for any use case where you don't have full control of the loaded file. Please open an issue on GitHub for any issues related to this experimental feature.\n",
      "\n"
     ]
    },
    {
     "data": {
      "text/plain": [
       "<All keys matched successfully>"
      ]
     },
     "execution_count": 310,
     "metadata": {},
     "output_type": "execute_result"
    }
   ],
   "source": [
    "encoder.load_state_dict(torch.load(\"best_model.pth\", map_location=device))"
   ]
  },
  {
   "cell_type": "code",
   "execution_count": 311,
   "id": "11ffa3cc",
   "metadata": {},
   "outputs": [
    {
     "data": {
      "text/plain": [
       "Encoder(\n",
       "  (encoder): Sequential(\n",
       "    (0): Conv2d(1, 64, kernel_size=(3, 3), stride=(1, 1), padding=(1, 1))\n",
       "    (1): BatchNorm2d(64, eps=1e-05, momentum=0.1, affine=True, track_running_stats=True)\n",
       "    (2): ReLU()\n",
       "    (3): MaxPool2d(kernel_size=2, stride=2, padding=0, dilation=1, ceil_mode=False)\n",
       "    (4): Conv2d(64, 64, kernel_size=(3, 3), stride=(1, 1), padding=(1, 1))\n",
       "    (5): BatchNorm2d(64, eps=1e-05, momentum=0.1, affine=True, track_running_stats=True)\n",
       "    (6): ReLU()\n",
       "    (7): MaxPool2d(kernel_size=2, stride=2, padding=0, dilation=1, ceil_mode=False)\n",
       "    (8): Conv2d(64, 64, kernel_size=(3, 3), stride=(1, 1), padding=(1, 1))\n",
       "    (9): BatchNorm2d(64, eps=1e-05, momentum=0.1, affine=True, track_running_stats=True)\n",
       "    (10): ReLU()\n",
       "    (11): MaxPool2d(kernel_size=2, stride=2, padding=0, dilation=1, ceil_mode=False)\n",
       "    (12): Conv2d(64, 64, kernel_size=(3, 3), stride=(1, 1), padding=(1, 1))\n",
       "    (13): BatchNorm2d(64, eps=1e-05, momentum=0.1, affine=True, track_running_stats=True)\n",
       "    (14): ReLU()\n",
       "    (15): AdaptiveAvgPool2d(output_size=(1, 1))\n",
       "  )\n",
       "  (fc): Linear(in_features=64, out_features=64, bias=True)\n",
       ")"
      ]
     },
     "execution_count": 311,
     "metadata": {},
     "output_type": "execute_result"
    }
   ],
   "source": [
    "encoder.to(device)\n",
    "encoder.eval()"
   ]
  },
  {
   "cell_type": "code",
   "execution_count": 312,
   "id": "73296348",
   "metadata": {},
   "outputs": [
    {
     "name": "stdout",
     "output_type": "stream",
     "text": [
      "Files already downloaded and verified\n"
     ]
    }
   ],
   "source": [
    "eval_transform = transforms.Compose([\n",
    "    transforms.Resize((28, 28)),\n",
    "    transforms.ToTensor(),\n",
    "    transforms.Normalize((0.5,), (0.5,))\n",
    "])\n",
    "\n",
    "eval_dataset = Omniglot(root='./data', background=True, download=True, transform=eval_transform)\n",
    "eval_loader = DataLoader(eval_dataset, batch_size=64, shuffle=False)"
   ]
  },
  {
   "cell_type": "code",
   "execution_count": 313,
   "id": "3f4d58ac",
   "metadata": {},
   "outputs": [],
   "source": [
    "\n",
    "\n",
    "# Build a map from class label → list of sample indices\n",
    "class_to_indices = defaultdict(list)\n",
    "for idx, (_, label) in enumerate(eval_dataset):\n",
    "    class_to_indices[label].append(idx)\n",
    "\n",
    "# Randomly choose 5 classes\n",
    "selected_classes = random.sample(list(class_to_indices.keys()), 5)\n",
    "\n",
    "# For each class, pick up to 20 samples\n",
    "selected_indices = []\n",
    "for cls in selected_classes:\n",
    "    selected_indices.extend(class_to_indices[cls][:20])  # pick 20 samples per class\n",
    "\n",
    "# Create subset of dataset\n",
    "subset = Subset(eval_dataset, selected_indices)\n",
    "subset_loader = DataLoader(subset, batch_size=64, shuffle=False)\n"
   ]
  },
  {
   "cell_type": "code",
   "execution_count": 314,
   "id": "c3637830",
   "metadata": {},
   "outputs": [],
   "source": [
    "all_embeddings = []\n",
    "all_labels = []\n",
    "\n",
    "with torch.no_grad():\n",
    "    for images, labels in subset_loader:\n",
    "        images = images.to(device)\n",
    "        embeddings = encoder(images)\n",
    "        all_embeddings.append(embeddings.cpu().numpy())\n",
    "        all_labels.append(labels.numpy())\n",
    "\n",
    "X = np.concatenate(all_embeddings, axis=0)\n",
    "y = np.concatenate(all_labels, axis=0)"
   ]
  },
  {
   "cell_type": "code",
   "execution_count": 315,
   "id": "c386f4c2",
   "metadata": {},
   "outputs": [],
   "source": [
    "from sklearn.manifold import TSNE\n",
    "\n",
    "tsne = TSNE(n_components=3, perplexity=30, init='pca', random_state=42)\n",
    "X_3d = tsne.fit_transform(X)  # shape: (num_samples, 3)\n"
   ]
  },
  {
   "cell_type": "code",
   "execution_count": 316,
   "id": "70f1479e",
   "metadata": {},
   "outputs": [
    {
     "data": {
      "application/vnd.plotly.v1+json": {
       "config": {
        "plotlyServerURL": "https://plot.ly"
       },
       "data": [
        {
         "hovertemplate": "Omniglot Class=Class 263<br>x=%{x}<br>y=%{y}<br>z=%{z}<extra></extra>",
         "legendgroup": "Class 263",
         "marker": {
          "color": "#636efa",
          "opacity": 0.8,
          "size": 5,
          "symbol": "circle"
         },
         "mode": "markers",
         "name": "Class 263",
         "scene": "scene",
         "showlegend": true,
         "type": "scatter3d",
         "x": [
          -78.8471908569336,
          -19.706850051879883,
          47.33656692504883,
          -67.05339050292969,
          78.51943969726562,
          62.72941970825195,
          58.978309631347656,
          32.41349411010742,
          86.4217300415039,
          23.070926666259766,
          -78.27867889404297,
          47.77053451538086,
          -84.46882629394531,
          54.30958557128906,
          26.85782814025879,
          43.949256896972656,
          -48.29933166503906,
          -38.59310531616211,
          -92.86257934570312,
          76.01124572753906
         ],
         "y": [
          57.3133659362793,
          -19.665149688720703,
          -30.634798049926758,
          -20.255104064941406,
          -42.335079193115234,
          -5.11971378326416,
          -68.9302978515625,
          -26.091259002685547,
          -12.329903602600098,
          -54.321285247802734,
          -49.4286003112793,
          -57.19447708129883,
          63.43586349487305,
          -0.3260895013809204,
          21.832088470458984,
          -49.525169372558594,
          70.95054626464844,
          -51.367156982421875,
          -17.659921646118164,
          -42.01435089111328
         ],
         "z": [
          62.31787109375,
          103.5918197631836,
          68.76124572753906,
          100.50061798095703,
          51.0919303894043,
          52.075870513916016,
          66.5797348022461,
          98.69132232666016,
          74.14476776123047,
          72.01998138427734,
          69.95204162597656,
          98.08926391601562,
          22.201032638549805,
          86.06161499023438,
          55.95445251464844,
          41.94631576538086,
          36.68635940551758,
          88.1014175415039,
          -32.33559036254883,
          87.55284881591797
         ]
        },
        {
         "hovertemplate": "Omniglot Class=Class 120<br>x=%{x}<br>y=%{y}<br>z=%{z}<extra></extra>",
         "legendgroup": "Class 120",
         "marker": {
          "color": "#EF553B",
          "opacity": 0.8,
          "size": 5,
          "symbol": "circle"
         },
         "mode": "markers",
         "name": "Class 120",
         "scene": "scene",
         "showlegend": true,
         "type": "scatter3d",
         "x": [
          -24.267295837402344,
          -52.59687805175781,
          -65.98432159423828,
          79.51343536376953,
          -38.78911209106445,
          105.46121978759766,
          -87.42334747314453,
          -84.1618881225586,
          -19.74576759338379,
          45.93353271484375,
          -43.64393997192383,
          -18.89777183532715,
          -95.10714721679688,
          -54.597843170166016,
          0.8367745280265808,
          -78.70907592773438,
          -43.45834732055664,
          -97.91407775878906,
          89.84774017333984,
          -54.23779296875
         ],
         "y": [
          -58.50089645385742,
          -46.55629348754883,
          10.830487251281738,
          -66.11551666259766,
          -6.654423236846924,
          2.6523025035858154,
          29.34100914001465,
          -11.97091007232666,
          5.765561580657959,
          -93.81390380859375,
          34.16170883178711,
          -31.962358474731445,
          -11.235944747924805,
          -16.37309455871582,
          -109.9603042602539,
          21.561492919921875,
          10.8594388961792,
          24.81792640686035,
          -50.263694763183594,
          34.25346755981445
         ],
         "z": [
          -137.65432739257812,
          40.053348541259766,
          45.175270080566406,
          -38.57919692993164,
          31.846221923828125,
          0.8167539238929749,
          -1.7158751487731934,
          22.538923263549805,
          59.317527770996094,
          -25.949604034423828,
          59.76618194580078,
          57.08872604370117,
          63.644344329833984,
          64.8210220336914,
          -44.64521408081055,
          79.41851043701172,
          90.67561340332031,
          37.83961868286133,
          -1.1934101581573486,
          20.70479393005371
         ]
        },
        {
         "hovertemplate": "Omniglot Class=Class 459<br>x=%{x}<br>y=%{y}<br>z=%{z}<extra></extra>",
         "legendgroup": "Class 459",
         "marker": {
          "color": "#00cc96",
          "opacity": 0.8,
          "size": 5,
          "symbol": "circle"
         },
         "mode": "markers",
         "name": "Class 459",
         "scene": "scene",
         "showlegend": true,
         "type": "scatter3d",
         "x": [
          -15.367982864379883,
          -38.028297424316406,
          38.508949279785156,
          14.292856216430664,
          -6.423019886016846,
          23.414817810058594,
          -54.63510513305664,
          -18.67071533203125,
          -7.967441558837891,
          26.110048294067383,
          7.712157726287842,
          -29.354576110839844,
          -41.98484802246094,
          -2.538771152496338,
          -40.336238861083984,
          16.51019859313965,
          -40.73366165161133,
          -21.465124130249023,
          -12.96843147277832,
          -56.60090637207031
         ],
         "y": [
          47.93292999267578,
          -36.28753662109375,
          -8.503311157226562,
          17.901573181152344,
          -51.770015716552734,
          -40.10585021972656,
          15.170910835266113,
          2.318131446838379,
          16.258726119995117,
          -47.988346099853516,
          -17.702190399169922,
          -26.455224990844727,
          34.530147552490234,
          -16.693849563598633,
          -19.362016677856445,
          12.76618766784668,
          -61.037559509277344,
          16.622722625732422,
          -46.797523498535156,
          -1.722908854484558
         ],
         "z": [
          -107.57456970214844,
          -39.0836067199707,
          -97.72767639160156,
          -89.80530548095703,
          -59.71380615234375,
          -107.12647247314453,
          -113.52812957763672,
          -91.49258422851562,
          -60.10700225830078,
          -68.08348846435547,
          -80.33547973632812,
          -72.67675018310547,
          -85.02012634277344,
          -117.89884948730469,
          -111.2646255493164,
          -126.75041198730469,
          -67.30024719238281,
          -127.83021545410156,
          -96.643798828125,
          -78.0549545288086
         ]
        },
        {
         "hovertemplate": "Omniglot Class=Class 447<br>x=%{x}<br>y=%{y}<br>z=%{z}<extra></extra>",
         "legendgroup": "Class 447",
         "marker": {
          "color": "#ab63fa",
          "opacity": 0.8,
          "size": 5,
          "symbol": "circle"
         },
         "mode": "markers",
         "name": "Class 447",
         "scene": "scene",
         "showlegend": true,
         "type": "scatter3d",
         "x": [
          3.353072166442871,
          -22.20819854736328,
          -9.824058532714844,
          15.250679016113281,
          42.25719451904297,
          27.513174057006836,
          -54.49197006225586,
          15.538653373718262,
          12.698311805725098,
          11.431544303894043,
          4.9201812744140625,
          -23.526208877563477,
          45.64631271362305,
          19.429777145385742,
          30.91002655029297,
          -12.248946189880371,
          -58.90207290649414,
          56.11439895629883,
          30.412538528442383,
          23.588102340698242
         ],
         "y": [
          48.690269470214844,
          61.21940231323242,
          77.15930938720703,
          81.74938201904297,
          84.61080932617188,
          50.521263122558594,
          3.916452646255493,
          48.43672561645508,
          17.91149139404297,
          31.188209533691406,
          78.36978912353516,
          67.81289672851562,
          53.9599609375,
          -86.67642974853516,
          81.23905181884766,
          46.57200622558594,
          -32.69413375854492,
          28.461776733398438,
          7.324663162231445,
          -18.495389938354492
         ],
         "z": [
          46.06096649169922,
          -46.83255386352539,
          -11.245887756347656,
          56.551536560058594,
          28.958297729492188,
          18.484891891479492,
          -1.4339874982833862,
          78.29965209960938,
          25.345867156982422,
          -10.749618530273438,
          23.6035099029541,
          86.31892395019531,
          51.02940368652344,
          -86.8248062133789,
          -5.474424839019775,
          18.00345230102539,
          -0.4796808063983917,
          23.78208351135254,
          -46.51124954223633,
          -28.280136108398438
         ]
        },
        {
         "hovertemplate": "Omniglot Class=Class 269<br>x=%{x}<br>y=%{y}<br>z=%{z}<extra></extra>",
         "legendgroup": "Class 269",
         "marker": {
          "color": "#FFA15A",
          "opacity": 0.8,
          "size": 5,
          "symbol": "circle"
         },
         "mode": "markers",
         "name": "Class 269",
         "scene": "scene",
         "showlegend": true,
         "type": "scatter3d",
         "x": [
          61.80698013305664,
          40.03038787841797,
          75.73139953613281,
          57.478485107421875,
          43.34482192993164,
          -21.811527252197266,
          67.79627227783203,
          65.44422912597656,
          36.91184997558594,
          13.000311851501465,
          61.273807525634766,
          -1.5565431118011475,
          -13.12287425994873,
          12.157919883728027,
          0.03873121738433838,
          22.442262649536133,
          -7.062096118927002,
          50.214569091796875,
          -11.420119285583496,
          38.85799026489258
         ],
         "y": [
          18.62252426147461,
          -47.4726448059082,
          37.6287727355957,
          -15.519699096679688,
          47.114925384521484,
          34.4317626953125,
          1.1711931228637695,
          61.65115737915039,
          46.93327331542969,
          -60.89795684814453,
          54.384159088134766,
          -39.07084274291992,
          -34.17375564575195,
          57.88442611694336,
          -71.1495361328125,
          -21.549407958984375,
          3.5428380966186523,
          -26.877267837524414,
          -13.39011001586914,
          15.2850341796875
         ],
         "z": [
          -62.8021240234375,
          -14.732094764709473,
          -30.347843170166016,
          -0.5954198241233826,
          -18.044532775878906,
          -19.72799301147461,
          -29.83050537109375,
          11.52687931060791,
          -58.439064025878906,
          9.066540718078613,
          95.64985656738281,
          -25.207155227661133,
          9.295742988586426,
          -30.741479873657227,
          -29.030248641967773,
          8.696978569030762,
          -3.2426369190216064,
          -49.34367752075195,
          -45.572349548339844,
          -4.163825035095215
         ]
        }
       ],
       "layout": {
        "legend": {
         "title": {
          "text": "Omniglot Class"
         },
         "tracegroupgap": 0
        },
        "scene": {
         "domain": {
          "x": [
           0,
           1
          ],
          "y": [
           0,
           1
          ]
         },
         "xaxis": {
          "title": {
           "text": "x"
          }
         },
         "yaxis": {
          "title": {
           "text": "y"
          }
         },
         "zaxis": {
          "title": {
           "text": "z"
          }
         }
        },
        "template": {
         "data": {
          "bar": [
           {
            "error_x": {
             "color": "#2a3f5f"
            },
            "error_y": {
             "color": "#2a3f5f"
            },
            "marker": {
             "line": {
              "color": "#E5ECF6",
              "width": 0.5
             },
             "pattern": {
              "fillmode": "overlay",
              "size": 10,
              "solidity": 0.2
             }
            },
            "type": "bar"
           }
          ],
          "barpolar": [
           {
            "marker": {
             "line": {
              "color": "#E5ECF6",
              "width": 0.5
             },
             "pattern": {
              "fillmode": "overlay",
              "size": 10,
              "solidity": 0.2
             }
            },
            "type": "barpolar"
           }
          ],
          "carpet": [
           {
            "aaxis": {
             "endlinecolor": "#2a3f5f",
             "gridcolor": "white",
             "linecolor": "white",
             "minorgridcolor": "white",
             "startlinecolor": "#2a3f5f"
            },
            "baxis": {
             "endlinecolor": "#2a3f5f",
             "gridcolor": "white",
             "linecolor": "white",
             "minorgridcolor": "white",
             "startlinecolor": "#2a3f5f"
            },
            "type": "carpet"
           }
          ],
          "choropleth": [
           {
            "colorbar": {
             "outlinewidth": 0,
             "ticks": ""
            },
            "type": "choropleth"
           }
          ],
          "contour": [
           {
            "colorbar": {
             "outlinewidth": 0,
             "ticks": ""
            },
            "colorscale": [
             [
              0,
              "#0d0887"
             ],
             [
              0.1111111111111111,
              "#46039f"
             ],
             [
              0.2222222222222222,
              "#7201a8"
             ],
             [
              0.3333333333333333,
              "#9c179e"
             ],
             [
              0.4444444444444444,
              "#bd3786"
             ],
             [
              0.5555555555555556,
              "#d8576b"
             ],
             [
              0.6666666666666666,
              "#ed7953"
             ],
             [
              0.7777777777777778,
              "#fb9f3a"
             ],
             [
              0.8888888888888888,
              "#fdca26"
             ],
             [
              1,
              "#f0f921"
             ]
            ],
            "type": "contour"
           }
          ],
          "contourcarpet": [
           {
            "colorbar": {
             "outlinewidth": 0,
             "ticks": ""
            },
            "type": "contourcarpet"
           }
          ],
          "heatmap": [
           {
            "colorbar": {
             "outlinewidth": 0,
             "ticks": ""
            },
            "colorscale": [
             [
              0,
              "#0d0887"
             ],
             [
              0.1111111111111111,
              "#46039f"
             ],
             [
              0.2222222222222222,
              "#7201a8"
             ],
             [
              0.3333333333333333,
              "#9c179e"
             ],
             [
              0.4444444444444444,
              "#bd3786"
             ],
             [
              0.5555555555555556,
              "#d8576b"
             ],
             [
              0.6666666666666666,
              "#ed7953"
             ],
             [
              0.7777777777777778,
              "#fb9f3a"
             ],
             [
              0.8888888888888888,
              "#fdca26"
             ],
             [
              1,
              "#f0f921"
             ]
            ],
            "type": "heatmap"
           }
          ],
          "heatmapgl": [
           {
            "colorbar": {
             "outlinewidth": 0,
             "ticks": ""
            },
            "colorscale": [
             [
              0,
              "#0d0887"
             ],
             [
              0.1111111111111111,
              "#46039f"
             ],
             [
              0.2222222222222222,
              "#7201a8"
             ],
             [
              0.3333333333333333,
              "#9c179e"
             ],
             [
              0.4444444444444444,
              "#bd3786"
             ],
             [
              0.5555555555555556,
              "#d8576b"
             ],
             [
              0.6666666666666666,
              "#ed7953"
             ],
             [
              0.7777777777777778,
              "#fb9f3a"
             ],
             [
              0.8888888888888888,
              "#fdca26"
             ],
             [
              1,
              "#f0f921"
             ]
            ],
            "type": "heatmapgl"
           }
          ],
          "histogram": [
           {
            "marker": {
             "pattern": {
              "fillmode": "overlay",
              "size": 10,
              "solidity": 0.2
             }
            },
            "type": "histogram"
           }
          ],
          "histogram2d": [
           {
            "colorbar": {
             "outlinewidth": 0,
             "ticks": ""
            },
            "colorscale": [
             [
              0,
              "#0d0887"
             ],
             [
              0.1111111111111111,
              "#46039f"
             ],
             [
              0.2222222222222222,
              "#7201a8"
             ],
             [
              0.3333333333333333,
              "#9c179e"
             ],
             [
              0.4444444444444444,
              "#bd3786"
             ],
             [
              0.5555555555555556,
              "#d8576b"
             ],
             [
              0.6666666666666666,
              "#ed7953"
             ],
             [
              0.7777777777777778,
              "#fb9f3a"
             ],
             [
              0.8888888888888888,
              "#fdca26"
             ],
             [
              1,
              "#f0f921"
             ]
            ],
            "type": "histogram2d"
           }
          ],
          "histogram2dcontour": [
           {
            "colorbar": {
             "outlinewidth": 0,
             "ticks": ""
            },
            "colorscale": [
             [
              0,
              "#0d0887"
             ],
             [
              0.1111111111111111,
              "#46039f"
             ],
             [
              0.2222222222222222,
              "#7201a8"
             ],
             [
              0.3333333333333333,
              "#9c179e"
             ],
             [
              0.4444444444444444,
              "#bd3786"
             ],
             [
              0.5555555555555556,
              "#d8576b"
             ],
             [
              0.6666666666666666,
              "#ed7953"
             ],
             [
              0.7777777777777778,
              "#fb9f3a"
             ],
             [
              0.8888888888888888,
              "#fdca26"
             ],
             [
              1,
              "#f0f921"
             ]
            ],
            "type": "histogram2dcontour"
           }
          ],
          "mesh3d": [
           {
            "colorbar": {
             "outlinewidth": 0,
             "ticks": ""
            },
            "type": "mesh3d"
           }
          ],
          "parcoords": [
           {
            "line": {
             "colorbar": {
              "outlinewidth": 0,
              "ticks": ""
             }
            },
            "type": "parcoords"
           }
          ],
          "pie": [
           {
            "automargin": true,
            "type": "pie"
           }
          ],
          "scatter": [
           {
            "fillpattern": {
             "fillmode": "overlay",
             "size": 10,
             "solidity": 0.2
            },
            "type": "scatter"
           }
          ],
          "scatter3d": [
           {
            "line": {
             "colorbar": {
              "outlinewidth": 0,
              "ticks": ""
             }
            },
            "marker": {
             "colorbar": {
              "outlinewidth": 0,
              "ticks": ""
             }
            },
            "type": "scatter3d"
           }
          ],
          "scattercarpet": [
           {
            "marker": {
             "colorbar": {
              "outlinewidth": 0,
              "ticks": ""
             }
            },
            "type": "scattercarpet"
           }
          ],
          "scattergeo": [
           {
            "marker": {
             "colorbar": {
              "outlinewidth": 0,
              "ticks": ""
             }
            },
            "type": "scattergeo"
           }
          ],
          "scattergl": [
           {
            "marker": {
             "colorbar": {
              "outlinewidth": 0,
              "ticks": ""
             }
            },
            "type": "scattergl"
           }
          ],
          "scattermapbox": [
           {
            "marker": {
             "colorbar": {
              "outlinewidth": 0,
              "ticks": ""
             }
            },
            "type": "scattermapbox"
           }
          ],
          "scatterpolar": [
           {
            "marker": {
             "colorbar": {
              "outlinewidth": 0,
              "ticks": ""
             }
            },
            "type": "scatterpolar"
           }
          ],
          "scatterpolargl": [
           {
            "marker": {
             "colorbar": {
              "outlinewidth": 0,
              "ticks": ""
             }
            },
            "type": "scatterpolargl"
           }
          ],
          "scatterternary": [
           {
            "marker": {
             "colorbar": {
              "outlinewidth": 0,
              "ticks": ""
             }
            },
            "type": "scatterternary"
           }
          ],
          "surface": [
           {
            "colorbar": {
             "outlinewidth": 0,
             "ticks": ""
            },
            "colorscale": [
             [
              0,
              "#0d0887"
             ],
             [
              0.1111111111111111,
              "#46039f"
             ],
             [
              0.2222222222222222,
              "#7201a8"
             ],
             [
              0.3333333333333333,
              "#9c179e"
             ],
             [
              0.4444444444444444,
              "#bd3786"
             ],
             [
              0.5555555555555556,
              "#d8576b"
             ],
             [
              0.6666666666666666,
              "#ed7953"
             ],
             [
              0.7777777777777778,
              "#fb9f3a"
             ],
             [
              0.8888888888888888,
              "#fdca26"
             ],
             [
              1,
              "#f0f921"
             ]
            ],
            "type": "surface"
           }
          ],
          "table": [
           {
            "cells": {
             "fill": {
              "color": "#EBF0F8"
             },
             "line": {
              "color": "white"
             }
            },
            "header": {
             "fill": {
              "color": "#C8D4E3"
             },
             "line": {
              "color": "white"
             }
            },
            "type": "table"
           }
          ]
         },
         "layout": {
          "annotationdefaults": {
           "arrowcolor": "#2a3f5f",
           "arrowhead": 0,
           "arrowwidth": 1
          },
          "autotypenumbers": "strict",
          "coloraxis": {
           "colorbar": {
            "outlinewidth": 0,
            "ticks": ""
           }
          },
          "colorscale": {
           "diverging": [
            [
             0,
             "#8e0152"
            ],
            [
             0.1,
             "#c51b7d"
            ],
            [
             0.2,
             "#de77ae"
            ],
            [
             0.3,
             "#f1b6da"
            ],
            [
             0.4,
             "#fde0ef"
            ],
            [
             0.5,
             "#f7f7f7"
            ],
            [
             0.6,
             "#e6f5d0"
            ],
            [
             0.7,
             "#b8e186"
            ],
            [
             0.8,
             "#7fbc41"
            ],
            [
             0.9,
             "#4d9221"
            ],
            [
             1,
             "#276419"
            ]
           ],
           "sequential": [
            [
             0,
             "#0d0887"
            ],
            [
             0.1111111111111111,
             "#46039f"
            ],
            [
             0.2222222222222222,
             "#7201a8"
            ],
            [
             0.3333333333333333,
             "#9c179e"
            ],
            [
             0.4444444444444444,
             "#bd3786"
            ],
            [
             0.5555555555555556,
             "#d8576b"
            ],
            [
             0.6666666666666666,
             "#ed7953"
            ],
            [
             0.7777777777777778,
             "#fb9f3a"
            ],
            [
             0.8888888888888888,
             "#fdca26"
            ],
            [
             1,
             "#f0f921"
            ]
           ],
           "sequentialminus": [
            [
             0,
             "#0d0887"
            ],
            [
             0.1111111111111111,
             "#46039f"
            ],
            [
             0.2222222222222222,
             "#7201a8"
            ],
            [
             0.3333333333333333,
             "#9c179e"
            ],
            [
             0.4444444444444444,
             "#bd3786"
            ],
            [
             0.5555555555555556,
             "#d8576b"
            ],
            [
             0.6666666666666666,
             "#ed7953"
            ],
            [
             0.7777777777777778,
             "#fb9f3a"
            ],
            [
             0.8888888888888888,
             "#fdca26"
            ],
            [
             1,
             "#f0f921"
            ]
           ]
          },
          "colorway": [
           "#636efa",
           "#EF553B",
           "#00cc96",
           "#ab63fa",
           "#FFA15A",
           "#19d3f3",
           "#FF6692",
           "#B6E880",
           "#FF97FF",
           "#FECB52"
          ],
          "font": {
           "color": "#2a3f5f"
          },
          "geo": {
           "bgcolor": "white",
           "lakecolor": "white",
           "landcolor": "#E5ECF6",
           "showlakes": true,
           "showland": true,
           "subunitcolor": "white"
          },
          "hoverlabel": {
           "align": "left"
          },
          "hovermode": "closest",
          "mapbox": {
           "style": "light"
          },
          "paper_bgcolor": "white",
          "plot_bgcolor": "#E5ECF6",
          "polar": {
           "angularaxis": {
            "gridcolor": "white",
            "linecolor": "white",
            "ticks": ""
           },
           "bgcolor": "#E5ECF6",
           "radialaxis": {
            "gridcolor": "white",
            "linecolor": "white",
            "ticks": ""
           }
          },
          "scene": {
           "xaxis": {
            "backgroundcolor": "#E5ECF6",
            "gridcolor": "white",
            "gridwidth": 2,
            "linecolor": "white",
            "showbackground": true,
            "ticks": "",
            "zerolinecolor": "white"
           },
           "yaxis": {
            "backgroundcolor": "#E5ECF6",
            "gridcolor": "white",
            "gridwidth": 2,
            "linecolor": "white",
            "showbackground": true,
            "ticks": "",
            "zerolinecolor": "white"
           },
           "zaxis": {
            "backgroundcolor": "#E5ECF6",
            "gridcolor": "white",
            "gridwidth": 2,
            "linecolor": "white",
            "showbackground": true,
            "ticks": "",
            "zerolinecolor": "white"
           }
          },
          "shapedefaults": {
           "line": {
            "color": "#2a3f5f"
           }
          },
          "ternary": {
           "aaxis": {
            "gridcolor": "white",
            "linecolor": "white",
            "ticks": ""
           },
           "baxis": {
            "gridcolor": "white",
            "linecolor": "white",
            "ticks": ""
           },
           "bgcolor": "#E5ECF6",
           "caxis": {
            "gridcolor": "white",
            "linecolor": "white",
            "ticks": ""
           }
          },
          "title": {
           "x": 0.05
          },
          "xaxis": {
           "automargin": true,
           "gridcolor": "white",
           "linecolor": "white",
           "ticks": "",
           "title": {
            "standoff": 15
           },
           "zerolinecolor": "white",
           "zerolinewidth": 2
          },
          "yaxis": {
           "automargin": true,
           "gridcolor": "white",
           "linecolor": "white",
           "ticks": "",
           "title": {
            "standoff": 15
           },
           "zerolinecolor": "white",
           "zerolinewidth": 2
          }
         }
        },
        "title": {
         "text": "3D t-SNE of 5 Omniglot Classes (BYOL Embeddings)"
        }
       }
      }
     },
     "metadata": {},
     "output_type": "display_data"
    }
   ],
   "source": [
    "import plotly.express as px\n",
    "import pandas as pd\n",
    "\n",
    "# Create a dataframe for easier plotting\n",
    "df = pd.DataFrame({\n",
    "    'x': X_3d[:, 0],\n",
    "    'y': X_3d[:, 1],\n",
    "    'z': X_3d[:, 2],\n",
    "    'class': y\n",
    "})\n",
    "\n",
    "# Filter only selected class labels (5 classes)\n",
    "df = df[df['class'].isin(selected_classes)]\n",
    "\n",
    "# Map original class labels to consistent string labels\n",
    "label_map = {label: f\"Class {label}\" for label in selected_classes}\n",
    "df['class'] = df['class'].map(label_map)\n",
    "\n",
    "# Create interactive 3D scatter plot\n",
    "fig = px.scatter_3d(df, x='x', y='y', z='z',\n",
    "                    color='class',\n",
    "                    title=\"3D t-SNE of 5 Omniglot Classes (BYOL Embeddings)\",\n",
    "                    labels={\"class\": \"Omniglot Class\"},\n",
    "                    opacity=0.8)\n",
    "\n",
    "fig.update_traces(marker=dict(size=5))\n",
    "fig.show()\n"
   ]
  },
  {
   "cell_type": "code",
   "execution_count": 317,
   "id": "69d0acca",
   "metadata": {},
   "outputs": [],
   "source": [
    "from sklearn.model_selection import train_test_split\n",
    "\n",
    "X_train, X_test, y_train, y_test = train_test_split(\n",
    "    X, y, test_size=0.3, random_state=42, stratify=y \n",
    ")"
   ]
  },
  {
   "cell_type": "code",
   "execution_count": 318,
   "id": "6d19cfba",
   "metadata": {},
   "outputs": [
    {
     "name": "stdout",
     "output_type": "stream",
     "text": [
      "KNN Accuracy: 83.33%\n"
     ]
    }
   ],
   "source": [
    "from sklearn.neighbors import KNeighborsClassifier\n",
    "from sklearn.metrics import accuracy_score\n",
    "knn = KNeighborsClassifier(n_neighbors=5)\n",
    "knn.fit(X_train, y_train)\n",
    "y_pred = knn.predict(X_test)\n",
    "print(f\"KNN Accuracy: {accuracy_score(y_test, y_pred) * 100:.2f}%\")"
   ]
  },
  {
   "cell_type": "code",
   "execution_count": 319,
   "id": "acff2518",
   "metadata": {},
   "outputs": [
    {
     "name": "stdout",
     "output_type": "stream",
     "text": [
      "SVM Accuracy: 80.00%\n"
     ]
    }
   ],
   "source": [
    "from sklearn.svm import SVC\n",
    "from sklearn.metrics import accuracy_score\n",
    "svc= SVC(kernel='rbf', random_state=42)\n",
    "svc.fit(X_train, y_train)\n",
    "y_pred = svc.predict(X_test)\n",
    "print(f\"SVM Accuracy: {accuracy_score(y_test, y_pred) * 100:.2f}%\")\n"
   ]
  },
  {
   "cell_type": "code",
   "execution_count": 320,
   "id": "d3aafb67",
   "metadata": {},
   "outputs": [
    {
     "name": "stdout",
     "output_type": "stream",
     "text": [
      "Random Forest Accuracy: 90.00%\n"
     ]
    }
   ],
   "source": [
    "from sklearn.ensemble import RandomForestClassifier\n",
    "from sklearn.metrics import accuracy_score\n",
    "\n",
    "rf = RandomForestClassifier(n_estimators=1000, random_state=42)\n",
    "rf.fit(X_train, y_train)\n",
    "y_pred = rf.predict(X_test)\n",
    "print(f\"Random Forest Accuracy: {accuracy_score(y_test, y_pred) * 100:.2f}%\") "
   ]
  },
  {
   "cell_type": "code",
   "execution_count": 321,
   "id": "8c64f482",
   "metadata": {},
   "outputs": [
    {
     "data": {
      "application/vnd.plotly.v1+json": {
       "config": {
        "plotlyServerURL": "https://plot.ly"
       },
       "data": [
        {
         "hovertemplate": "Omniglot Class=Class 263<br>x=%{x}<br>y=%{y}<extra></extra>",
         "legendgroup": "Class 263",
         "marker": {
          "color": "#636efa",
          "opacity": 0.8,
          "size": 7,
          "symbol": "circle"
         },
         "mode": "markers",
         "name": "Class 263",
         "orientation": "v",
         "showlegend": true,
         "type": "scatter",
         "x": [
          5.202298164367676,
          5.955758571624756,
          4.717827796936035,
          5.507750511169434,
          4.677403450012207,
          4.900237083435059,
          4.734564781188965,
          4.710896968841553,
          4.778086185455322,
          4.7258148193359375,
          5.396722316741943,
          4.719182968139648,
          4.756672382354736,
          4.884406566619873,
          0.8902972936630249,
          4.674506187438965,
          3.9827628135681152,
          5.834322929382324,
          4.747950553894043,
          4.680138111114502
         ],
         "xaxis": "x",
         "y": [
          1.2857052087783813,
          2.4814209938049316,
          -3.3313868045806885,
          1.887312412261963,
          -3.402026891708374,
          -2.9803659915924072,
          -3.301743984222412,
          -3.3436007499694824,
          -3.222949743270874,
          -3.3173067569732666,
          1.5490531921386719,
          -3.32924222946167,
          1.2054988145828247,
          -3.015376567840576,
          1.1817623376846313,
          -3.4071476459503174,
          1.3376555442810059,
          2.2146224975585938,
          -3.277669668197632,
          -3.397258996963501
         ],
         "yaxis": "y"
        },
        {
         "hovertemplate": "Omniglot Class=Class 120<br>x=%{x}<br>y=%{y}<extra></extra>",
         "legendgroup": "Class 120",
         "marker": {
          "color": "#EF553B",
          "opacity": 0.8,
          "size": 7,
          "symbol": "circle"
         },
         "mode": "markers",
         "name": "Class 120",
         "orientation": "v",
         "showlegend": true,
         "type": "scatter",
         "x": [
          4.509570598602295,
          4.903347015380859,
          4.221946716308594,
          4.3989787101745605,
          4.3028950691223145,
          3.5965254306793213,
          4.817572116851807,
          3.657470941543579,
          4.131781578063965,
          4.595941066741943,
          4.618293285369873,
          4.637295722961426,
          4.947397232055664,
          4.873178005218506,
          5.1227569580078125,
          4.8063530921936035,
          5.098590850830078,
          4.371632099151611,
          4.621067523956299,
          3.96569561958313
         ],
         "xaxis": "x",
         "y": [
          1.7064034938812256,
          1.9407877922058105,
          2.4031596183776855,
          2.3288533687591553,
          1.7639423608779907,
          1.725332498550415,
          2.3876421451568604,
          1.8305339813232422,
          2.268343448638916,
          1.8375664949417114,
          1.8863756656646729,
          2.533311128616333,
          2.7666263580322266,
          2.436462879180908,
          2.0775885581970215,
          1.7232352495193481,
          2.2609126567840576,
          1.796905517578125,
          2.2342376708984375,
          1.9964540004730225
         ],
         "yaxis": "y"
        },
        {
         "hovertemplate": "Omniglot Class=Class 459<br>x=%{x}<br>y=%{y}<extra></extra>",
         "legendgroup": "Class 459",
         "marker": {
          "color": "#00cc96",
          "opacity": 0.8,
          "size": 7,
          "symbol": "circle"
         },
         "mode": "markers",
         "name": "Class 459",
         "orientation": "v",
         "showlegend": true,
         "type": "scatter",
         "x": [
          -7.834531307220459,
          -5.451976299285889,
          -6.5298285484313965,
          -6.309716701507568,
          -5.390305519104004,
          -6.4916887283325195,
          -7.453828811645508,
          -6.521245002746582,
          -5.638609886169434,
          -5.621152400970459,
          -6.469210624694824,
          -5.904613971710205,
          -7.528913974761963,
          -6.8747334480285645,
          -6.984953880310059,
          -7.187585353851318,
          -5.795812606811523,
          -7.496257305145264,
          -6.362462997436523,
          -7.081737041473389
         ],
         "xaxis": "x",
         "y": [
          -1.015196681022644,
          -0.48935163021087646,
          -0.6322311758995056,
          -0.9069143533706665,
          -0.466122567653656,
          -0.9076690673828125,
          -0.959306538105011,
          -0.9125794172286987,
          -0.5612972974777222,
          -0.5581372976303101,
          -0.648531973361969,
          -0.6535929441452026,
          -0.9598199129104614,
          -0.6907572150230408,
          -0.997692346572876,
          -0.9590502977371216,
          -0.6402433514595032,
          -0.9723350405693054,
          -0.5191368460655212,
          -0.7329072952270508
         ],
         "yaxis": "y"
        },
        {
         "hovertemplate": "Omniglot Class=Class 447<br>x=%{x}<br>y=%{y}<extra></extra>",
         "legendgroup": "Class 447",
         "marker": {
          "color": "#ab63fa",
          "opacity": 0.8,
          "size": 7,
          "symbol": "circle"
         },
         "mode": "markers",
         "name": "Class 447",
         "orientation": "v",
         "showlegend": true,
         "type": "scatter",
         "x": [
          0.7022464275360107,
          -2.2588248252868652,
          -1.18219792842865,
          0.6871776580810547,
          -0.18843761086463928,
          -0.02433931641280651,
          2.3830275535583496,
          -0.7193881273269653,
          -0.1479049026966095,
          -1.3461048603057861,
          0.323587030172348,
          -2.701556921005249,
          0.8641343116760254,
          -2.072723627090454,
          -0.30966684222221375,
          0.5252786874771118,
          1.2296353578567505,
          -0.3783408999443054,
          -3.5571670532226562,
          -3.6757214069366455
         ],
         "xaxis": "x",
         "y": [
          1.1158456802368164,
          0.09871077537536621,
          0.5206164717674255,
          1.1394782066345215,
          0.9396110773086548,
          0.9093440771102905,
          1.5210860967636108,
          0.8306530117988586,
          0.8966307044029236,
          0.732356071472168,
          1.0277072191238403,
          0.0496768057346344,
          1.130698800086975,
          0.293944388628006,
          0.723048985004425,
          1.079270601272583,
          1.2396727800369263,
          0.6910686492919922,
          0.008424283936619759,
          -0.025556620210409164
         ],
         "yaxis": "y"
        },
        {
         "hovertemplate": "Omniglot Class=Class 269<br>x=%{x}<br>y=%{y}<extra></extra>",
         "legendgroup": "Class 269",
         "marker": {
          "color": "#FFA15A",
          "opacity": 0.8,
          "size": 7,
          "symbol": "circle"
         },
         "mode": "markers",
         "name": "Class 269",
         "orientation": "v",
         "showlegend": true,
         "type": "scatter",
         "x": [
          -3.0485074520111084,
          -2.9480369091033936,
          -2.433316469192505,
          -2.261139392852783,
          -1.4744799137115479,
          -1.7259154319763184,
          -2.485344886779785,
          -0.35777655243873596,
          -2.986041784286499,
          -2.9520909786224365,
          -5.625884532928467,
          -4.0788397789001465,
          -2.287679433822632,
          -1.2813349962234497,
          -4.5007853507995605,
          -2.789198637008667,
          -1.4639159440994263,
          -3.922346830368042,
          -5.142416000366211,
          -1.299404501914978
         ],
         "xaxis": "x",
         "y": [
          0.13584628701210022,
          0.2985042929649353,
          0.6601682305335999,
          0.17290912568569183,
          0.6398032903671265,
          0.6634652018547058,
          0.5258016586303711,
          1.0889899730682373,
          0.3563688099384308,
          0.3261297643184662,
          -0.5163574814796448,
          -0.11284399032592773,
          0.5814787745475769,
          0.5816818475723267,
          -0.2348726987838745,
          -0.011606961488723755,
          0.4040203094482422,
          -0.0745919719338417,
          -0.40563708543777466,
          0.6063268780708313
         ],
         "yaxis": "y"
        }
       ],
       "layout": {
        "legend": {
         "title": {
          "text": "Omniglot Class"
         },
         "tracegroupgap": 0
        },
        "template": {
         "data": {
          "bar": [
           {
            "error_x": {
             "color": "#2a3f5f"
            },
            "error_y": {
             "color": "#2a3f5f"
            },
            "marker": {
             "line": {
              "color": "#E5ECF6",
              "width": 0.5
             },
             "pattern": {
              "fillmode": "overlay",
              "size": 10,
              "solidity": 0.2
             }
            },
            "type": "bar"
           }
          ],
          "barpolar": [
           {
            "marker": {
             "line": {
              "color": "#E5ECF6",
              "width": 0.5
             },
             "pattern": {
              "fillmode": "overlay",
              "size": 10,
              "solidity": 0.2
             }
            },
            "type": "barpolar"
           }
          ],
          "carpet": [
           {
            "aaxis": {
             "endlinecolor": "#2a3f5f",
             "gridcolor": "white",
             "linecolor": "white",
             "minorgridcolor": "white",
             "startlinecolor": "#2a3f5f"
            },
            "baxis": {
             "endlinecolor": "#2a3f5f",
             "gridcolor": "white",
             "linecolor": "white",
             "minorgridcolor": "white",
             "startlinecolor": "#2a3f5f"
            },
            "type": "carpet"
           }
          ],
          "choropleth": [
           {
            "colorbar": {
             "outlinewidth": 0,
             "ticks": ""
            },
            "type": "choropleth"
           }
          ],
          "contour": [
           {
            "colorbar": {
             "outlinewidth": 0,
             "ticks": ""
            },
            "colorscale": [
             [
              0,
              "#0d0887"
             ],
             [
              0.1111111111111111,
              "#46039f"
             ],
             [
              0.2222222222222222,
              "#7201a8"
             ],
             [
              0.3333333333333333,
              "#9c179e"
             ],
             [
              0.4444444444444444,
              "#bd3786"
             ],
             [
              0.5555555555555556,
              "#d8576b"
             ],
             [
              0.6666666666666666,
              "#ed7953"
             ],
             [
              0.7777777777777778,
              "#fb9f3a"
             ],
             [
              0.8888888888888888,
              "#fdca26"
             ],
             [
              1,
              "#f0f921"
             ]
            ],
            "type": "contour"
           }
          ],
          "contourcarpet": [
           {
            "colorbar": {
             "outlinewidth": 0,
             "ticks": ""
            },
            "type": "contourcarpet"
           }
          ],
          "heatmap": [
           {
            "colorbar": {
             "outlinewidth": 0,
             "ticks": ""
            },
            "colorscale": [
             [
              0,
              "#0d0887"
             ],
             [
              0.1111111111111111,
              "#46039f"
             ],
             [
              0.2222222222222222,
              "#7201a8"
             ],
             [
              0.3333333333333333,
              "#9c179e"
             ],
             [
              0.4444444444444444,
              "#bd3786"
             ],
             [
              0.5555555555555556,
              "#d8576b"
             ],
             [
              0.6666666666666666,
              "#ed7953"
             ],
             [
              0.7777777777777778,
              "#fb9f3a"
             ],
             [
              0.8888888888888888,
              "#fdca26"
             ],
             [
              1,
              "#f0f921"
             ]
            ],
            "type": "heatmap"
           }
          ],
          "heatmapgl": [
           {
            "colorbar": {
             "outlinewidth": 0,
             "ticks": ""
            },
            "colorscale": [
             [
              0,
              "#0d0887"
             ],
             [
              0.1111111111111111,
              "#46039f"
             ],
             [
              0.2222222222222222,
              "#7201a8"
             ],
             [
              0.3333333333333333,
              "#9c179e"
             ],
             [
              0.4444444444444444,
              "#bd3786"
             ],
             [
              0.5555555555555556,
              "#d8576b"
             ],
             [
              0.6666666666666666,
              "#ed7953"
             ],
             [
              0.7777777777777778,
              "#fb9f3a"
             ],
             [
              0.8888888888888888,
              "#fdca26"
             ],
             [
              1,
              "#f0f921"
             ]
            ],
            "type": "heatmapgl"
           }
          ],
          "histogram": [
           {
            "marker": {
             "pattern": {
              "fillmode": "overlay",
              "size": 10,
              "solidity": 0.2
             }
            },
            "type": "histogram"
           }
          ],
          "histogram2d": [
           {
            "colorbar": {
             "outlinewidth": 0,
             "ticks": ""
            },
            "colorscale": [
             [
              0,
              "#0d0887"
             ],
             [
              0.1111111111111111,
              "#46039f"
             ],
             [
              0.2222222222222222,
              "#7201a8"
             ],
             [
              0.3333333333333333,
              "#9c179e"
             ],
             [
              0.4444444444444444,
              "#bd3786"
             ],
             [
              0.5555555555555556,
              "#d8576b"
             ],
             [
              0.6666666666666666,
              "#ed7953"
             ],
             [
              0.7777777777777778,
              "#fb9f3a"
             ],
             [
              0.8888888888888888,
              "#fdca26"
             ],
             [
              1,
              "#f0f921"
             ]
            ],
            "type": "histogram2d"
           }
          ],
          "histogram2dcontour": [
           {
            "colorbar": {
             "outlinewidth": 0,
             "ticks": ""
            },
            "colorscale": [
             [
              0,
              "#0d0887"
             ],
             [
              0.1111111111111111,
              "#46039f"
             ],
             [
              0.2222222222222222,
              "#7201a8"
             ],
             [
              0.3333333333333333,
              "#9c179e"
             ],
             [
              0.4444444444444444,
              "#bd3786"
             ],
             [
              0.5555555555555556,
              "#d8576b"
             ],
             [
              0.6666666666666666,
              "#ed7953"
             ],
             [
              0.7777777777777778,
              "#fb9f3a"
             ],
             [
              0.8888888888888888,
              "#fdca26"
             ],
             [
              1,
              "#f0f921"
             ]
            ],
            "type": "histogram2dcontour"
           }
          ],
          "mesh3d": [
           {
            "colorbar": {
             "outlinewidth": 0,
             "ticks": ""
            },
            "type": "mesh3d"
           }
          ],
          "parcoords": [
           {
            "line": {
             "colorbar": {
              "outlinewidth": 0,
              "ticks": ""
             }
            },
            "type": "parcoords"
           }
          ],
          "pie": [
           {
            "automargin": true,
            "type": "pie"
           }
          ],
          "scatter": [
           {
            "fillpattern": {
             "fillmode": "overlay",
             "size": 10,
             "solidity": 0.2
            },
            "type": "scatter"
           }
          ],
          "scatter3d": [
           {
            "line": {
             "colorbar": {
              "outlinewidth": 0,
              "ticks": ""
             }
            },
            "marker": {
             "colorbar": {
              "outlinewidth": 0,
              "ticks": ""
             }
            },
            "type": "scatter3d"
           }
          ],
          "scattercarpet": [
           {
            "marker": {
             "colorbar": {
              "outlinewidth": 0,
              "ticks": ""
             }
            },
            "type": "scattercarpet"
           }
          ],
          "scattergeo": [
           {
            "marker": {
             "colorbar": {
              "outlinewidth": 0,
              "ticks": ""
             }
            },
            "type": "scattergeo"
           }
          ],
          "scattergl": [
           {
            "marker": {
             "colorbar": {
              "outlinewidth": 0,
              "ticks": ""
             }
            },
            "type": "scattergl"
           }
          ],
          "scattermapbox": [
           {
            "marker": {
             "colorbar": {
              "outlinewidth": 0,
              "ticks": ""
             }
            },
            "type": "scattermapbox"
           }
          ],
          "scatterpolar": [
           {
            "marker": {
             "colorbar": {
              "outlinewidth": 0,
              "ticks": ""
             }
            },
            "type": "scatterpolar"
           }
          ],
          "scatterpolargl": [
           {
            "marker": {
             "colorbar": {
              "outlinewidth": 0,
              "ticks": ""
             }
            },
            "type": "scatterpolargl"
           }
          ],
          "scatterternary": [
           {
            "marker": {
             "colorbar": {
              "outlinewidth": 0,
              "ticks": ""
             }
            },
            "type": "scatterternary"
           }
          ],
          "surface": [
           {
            "colorbar": {
             "outlinewidth": 0,
             "ticks": ""
            },
            "colorscale": [
             [
              0,
              "#0d0887"
             ],
             [
              0.1111111111111111,
              "#46039f"
             ],
             [
              0.2222222222222222,
              "#7201a8"
             ],
             [
              0.3333333333333333,
              "#9c179e"
             ],
             [
              0.4444444444444444,
              "#bd3786"
             ],
             [
              0.5555555555555556,
              "#d8576b"
             ],
             [
              0.6666666666666666,
              "#ed7953"
             ],
             [
              0.7777777777777778,
              "#fb9f3a"
             ],
             [
              0.8888888888888888,
              "#fdca26"
             ],
             [
              1,
              "#f0f921"
             ]
            ],
            "type": "surface"
           }
          ],
          "table": [
           {
            "cells": {
             "fill": {
              "color": "#EBF0F8"
             },
             "line": {
              "color": "white"
             }
            },
            "header": {
             "fill": {
              "color": "#C8D4E3"
             },
             "line": {
              "color": "white"
             }
            },
            "type": "table"
           }
          ]
         },
         "layout": {
          "annotationdefaults": {
           "arrowcolor": "#2a3f5f",
           "arrowhead": 0,
           "arrowwidth": 1
          },
          "autotypenumbers": "strict",
          "coloraxis": {
           "colorbar": {
            "outlinewidth": 0,
            "ticks": ""
           }
          },
          "colorscale": {
           "diverging": [
            [
             0,
             "#8e0152"
            ],
            [
             0.1,
             "#c51b7d"
            ],
            [
             0.2,
             "#de77ae"
            ],
            [
             0.3,
             "#f1b6da"
            ],
            [
             0.4,
             "#fde0ef"
            ],
            [
             0.5,
             "#f7f7f7"
            ],
            [
             0.6,
             "#e6f5d0"
            ],
            [
             0.7,
             "#b8e186"
            ],
            [
             0.8,
             "#7fbc41"
            ],
            [
             0.9,
             "#4d9221"
            ],
            [
             1,
             "#276419"
            ]
           ],
           "sequential": [
            [
             0,
             "#0d0887"
            ],
            [
             0.1111111111111111,
             "#46039f"
            ],
            [
             0.2222222222222222,
             "#7201a8"
            ],
            [
             0.3333333333333333,
             "#9c179e"
            ],
            [
             0.4444444444444444,
             "#bd3786"
            ],
            [
             0.5555555555555556,
             "#d8576b"
            ],
            [
             0.6666666666666666,
             "#ed7953"
            ],
            [
             0.7777777777777778,
             "#fb9f3a"
            ],
            [
             0.8888888888888888,
             "#fdca26"
            ],
            [
             1,
             "#f0f921"
            ]
           ],
           "sequentialminus": [
            [
             0,
             "#0d0887"
            ],
            [
             0.1111111111111111,
             "#46039f"
            ],
            [
             0.2222222222222222,
             "#7201a8"
            ],
            [
             0.3333333333333333,
             "#9c179e"
            ],
            [
             0.4444444444444444,
             "#bd3786"
            ],
            [
             0.5555555555555556,
             "#d8576b"
            ],
            [
             0.6666666666666666,
             "#ed7953"
            ],
            [
             0.7777777777777778,
             "#fb9f3a"
            ],
            [
             0.8888888888888888,
             "#fdca26"
            ],
            [
             1,
             "#f0f921"
            ]
           ]
          },
          "colorway": [
           "#636efa",
           "#EF553B",
           "#00cc96",
           "#ab63fa",
           "#FFA15A",
           "#19d3f3",
           "#FF6692",
           "#B6E880",
           "#FF97FF",
           "#FECB52"
          ],
          "font": {
           "color": "#2a3f5f"
          },
          "geo": {
           "bgcolor": "white",
           "lakecolor": "white",
           "landcolor": "#E5ECF6",
           "showlakes": true,
           "showland": true,
           "subunitcolor": "white"
          },
          "hoverlabel": {
           "align": "left"
          },
          "hovermode": "closest",
          "mapbox": {
           "style": "light"
          },
          "paper_bgcolor": "white",
          "plot_bgcolor": "#E5ECF6",
          "polar": {
           "angularaxis": {
            "gridcolor": "white",
            "linecolor": "white",
            "ticks": ""
           },
           "bgcolor": "#E5ECF6",
           "radialaxis": {
            "gridcolor": "white",
            "linecolor": "white",
            "ticks": ""
           }
          },
          "scene": {
           "xaxis": {
            "backgroundcolor": "#E5ECF6",
            "gridcolor": "white",
            "gridwidth": 2,
            "linecolor": "white",
            "showbackground": true,
            "ticks": "",
            "zerolinecolor": "white"
           },
           "yaxis": {
            "backgroundcolor": "#E5ECF6",
            "gridcolor": "white",
            "gridwidth": 2,
            "linecolor": "white",
            "showbackground": true,
            "ticks": "",
            "zerolinecolor": "white"
           },
           "zaxis": {
            "backgroundcolor": "#E5ECF6",
            "gridcolor": "white",
            "gridwidth": 2,
            "linecolor": "white",
            "showbackground": true,
            "ticks": "",
            "zerolinecolor": "white"
           }
          },
          "shapedefaults": {
           "line": {
            "color": "#2a3f5f"
           }
          },
          "ternary": {
           "aaxis": {
            "gridcolor": "white",
            "linecolor": "white",
            "ticks": ""
           },
           "baxis": {
            "gridcolor": "white",
            "linecolor": "white",
            "ticks": ""
           },
           "bgcolor": "#E5ECF6",
           "caxis": {
            "gridcolor": "white",
            "linecolor": "white",
            "ticks": ""
           }
          },
          "title": {
           "x": 0.05
          },
          "xaxis": {
           "automargin": true,
           "gridcolor": "white",
           "linecolor": "white",
           "ticks": "",
           "title": {
            "standoff": 15
           },
           "zerolinecolor": "white",
           "zerolinewidth": 2
          },
          "yaxis": {
           "automargin": true,
           "gridcolor": "white",
           "linecolor": "white",
           "ticks": "",
           "title": {
            "standoff": 15
           },
           "zerolinecolor": "white",
           "zerolinewidth": 2
          }
         }
        },
        "title": {
         "text": "2D t-SNE of 5 Omniglot Classes (BYOL Embeddings)"
        },
        "xaxis": {
         "anchor": "y",
         "domain": [
          0,
          1
         ],
         "title": {
          "text": "x"
         }
        },
        "yaxis": {
         "anchor": "x",
         "domain": [
          0,
          1
         ],
         "title": {
          "text": "y"
         }
        }
       }
      }
     },
     "metadata": {},
     "output_type": "display_data"
    }
   ],
   "source": [
    "from sklearn.manifold import TSNE\n",
    "\n",
    "# Compute 2D t-SNE\n",
    "tsne_2d = TSNE(n_components=2, perplexity=30, init='pca', random_state=42)\n",
    "X_2d = tsne_2d.fit_transform(X)\n",
    "\n",
    "# Prepare DataFrame for plotting\n",
    "df_2d = pd.DataFrame({\n",
    "    'x': X_2d[:, 0],\n",
    "    'y': X_2d[:, 1],\n",
    "    'class': y\n",
    "})\n",
    "df_2d = df_2d[df_2d['class'].isin(selected_classes)]\n",
    "df_2d['class'] = df_2d['class'].map(label_map)\n",
    "\n",
    "import plotly.express as px\n",
    "\n",
    "fig2d = px.scatter(\n",
    "    df_2d, x='x', y='y', color='class',\n",
    "    title=\"2D t-SNE of 5 Omniglot Classes (BYOL Embeddings)\",\n",
    "    labels={\"class\": \"Omniglot Class\"},\n",
    "    opacity=0.8\n",
    ")\n",
    "fig2d.update_traces(marker=dict(size=7))\n",
    "fig2d.show()"
   ]
  },
  {
   "cell_type": "code",
   "execution_count": null,
   "id": "ae863b42",
   "metadata": {},
   "outputs": [],
   "source": []
  }
 ],
 "metadata": {
  "kernelspec": {
   "display_name": "pytorch",
   "language": "python",
   "name": "python3"
  },
  "language_info": {
   "codemirror_mode": {
    "name": "ipython",
    "version": 3
   },
   "file_extension": ".py",
   "mimetype": "text/x-python",
   "name": "python",
   "nbconvert_exporter": "python",
   "pygments_lexer": "ipython3",
   "version": "3.12.8"
  }
 },
 "nbformat": 4,
 "nbformat_minor": 5
}
