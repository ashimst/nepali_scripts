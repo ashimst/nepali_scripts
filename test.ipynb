{
 "cells": [
  {
   "cell_type": "code",
   "execution_count": 113,
   "id": "e1d5ada7",
   "metadata": {},
   "outputs": [],
   "source": [
    "import torch \n",
    "from torch import nn \n",
    "import matplotlib.pyplot as plt\n",
    "import numpy as np\n",
    "from torch.nn import functional as F\n",
    "from tqdm import tqdm\n",
    "from torchvision.datasets import Omniglot\n",
    "from torchvision import transforms\n",
    "from torch.utils.data import DataLoader\n",
    "from collections import defaultdict\n",
    "import random\n",
    "from torch.utils.data import Subset"
   ]
  },
  {
   "cell_type": "code",
   "execution_count": 114,
   "id": "286b6321",
   "metadata": {},
   "outputs": [],
   "source": [
    "class Encoder(nn.Module):\n",
    "    def __init__(self, hidden_dim=64, out_dim=64):\n",
    "        super().__init__()\n",
    "        self.encoder = nn.Sequential(\n",
    "            nn.Conv2d(1, hidden_dim, kernel_size=3, padding=1),  # 28x28\n",
    "            nn.BatchNorm2d(hidden_dim),\n",
    "            nn.ReLU(),\n",
    "            nn.MaxPool2d(2),  # -> 14x14\n",
    "\n",
    "            nn.Conv2d(hidden_dim, hidden_dim, kernel_size=3, padding=1),\n",
    "            nn.BatchNorm2d(hidden_dim),\n",
    "            nn.ReLU(),\n",
    "            nn.MaxPool2d(2),  # -> 7x7\n",
    "\n",
    "            nn.Conv2d(hidden_dim, hidden_dim, kernel_size=3, padding=1),\n",
    "            nn.BatchNorm2d(hidden_dim),\n",
    "            nn.ReLU(),\n",
    "            nn.MaxPool2d(2),  # -> 3x3\n",
    "\n",
    "            nn.Conv2d(hidden_dim, hidden_dim, kernel_size=3, padding=1),\n",
    "            nn.BatchNorm2d(hidden_dim),\n",
    "            nn.ReLU(),\n",
    "            nn.AdaptiveAvgPool2d((1, 1))  # -> 1x1\n",
    "        )\n",
    "        self.fc = nn.Linear(hidden_dim, out_dim)\n",
    "\n",
    "    def forward(self, x):\n",
    "        x = self.encoder(x)          # Shape: (B, hidden_dim, 1, 1)\n",
    "        x = x.view(x.size(0), -1)    # Flatten to (B, hidden_dim)\n",
    "        return self.fc(x)           "
   ]
  },
  {
   "cell_type": "code",
   "execution_count": 115,
   "id": "36210309",
   "metadata": {},
   "outputs": [],
   "source": [
    "encoder = Encoder()"
   ]
  },
  {
   "cell_type": "code",
   "execution_count": 116,
   "id": "3ba02aec",
   "metadata": {},
   "outputs": [
    {
     "data": {
      "text/plain": [
       "device(type='cuda')"
      ]
     },
     "execution_count": 116,
     "metadata": {},
     "output_type": "execute_result"
    }
   ],
   "source": [
    "device = torch.device(\"cuda\" if torch.cuda.is_available() else \"cpu\")\n",
    "device  "
   ]
  },
  {
   "cell_type": "code",
   "execution_count": 117,
   "id": "bcc78e6f",
   "metadata": {},
   "outputs": [
    {
     "name": "stderr",
     "output_type": "stream",
     "text": [
      "C:\\Users\\ACER\\AppData\\Local\\Temp\\ipykernel_10148\\960425308.py:1: FutureWarning:\n",
      "\n",
      "You are using `torch.load` with `weights_only=False` (the current default value), which uses the default pickle module implicitly. It is possible to construct malicious pickle data which will execute arbitrary code during unpickling (See https://github.com/pytorch/pytorch/blob/main/SECURITY.md#untrusted-models for more details). In a future release, the default value for `weights_only` will be flipped to `True`. This limits the functions that could be executed during unpickling. Arbitrary objects will no longer be allowed to be loaded via this mode unless they are explicitly allowlisted by the user via `torch.serialization.add_safe_globals`. We recommend you start setting `weights_only=True` for any use case where you don't have full control of the loaded file. Please open an issue on GitHub for any issues related to this experimental feature.\n",
      "\n"
     ]
    },
    {
     "data": {
      "text/plain": [
       "<All keys matched successfully>"
      ]
     },
     "execution_count": 117,
     "metadata": {},
     "output_type": "execute_result"
    }
   ],
   "source": [
    "encoder.load_state_dict(torch.load(\"simsiam_encoder.pth\", map_location=device))"
   ]
  },
  {
   "cell_type": "code",
   "execution_count": 129,
   "id": "11ffa3cc",
   "metadata": {},
   "outputs": [
    {
     "data": {
      "text/plain": [
       "Encoder(\n",
       "  (encoder): Sequential(\n",
       "    (0): Conv2d(1, 64, kernel_size=(3, 3), stride=(1, 1), padding=(1, 1))\n",
       "    (1): BatchNorm2d(64, eps=1e-05, momentum=0.1, affine=True, track_running_stats=True)\n",
       "    (2): ReLU()\n",
       "    (3): MaxPool2d(kernel_size=2, stride=2, padding=0, dilation=1, ceil_mode=False)\n",
       "    (4): Conv2d(64, 64, kernel_size=(3, 3), stride=(1, 1), padding=(1, 1))\n",
       "    (5): BatchNorm2d(64, eps=1e-05, momentum=0.1, affine=True, track_running_stats=True)\n",
       "    (6): ReLU()\n",
       "    (7): MaxPool2d(kernel_size=2, stride=2, padding=0, dilation=1, ceil_mode=False)\n",
       "    (8): Conv2d(64, 64, kernel_size=(3, 3), stride=(1, 1), padding=(1, 1))\n",
       "    (9): BatchNorm2d(64, eps=1e-05, momentum=0.1, affine=True, track_running_stats=True)\n",
       "    (10): ReLU()\n",
       "    (11): MaxPool2d(kernel_size=2, stride=2, padding=0, dilation=1, ceil_mode=False)\n",
       "    (12): Conv2d(64, 64, kernel_size=(3, 3), stride=(1, 1), padding=(1, 1))\n",
       "    (13): BatchNorm2d(64, eps=1e-05, momentum=0.1, affine=True, track_running_stats=True)\n",
       "    (14): ReLU()\n",
       "    (15): AdaptiveAvgPool2d(output_size=(1, 1))\n",
       "  )\n",
       "  (fc): Linear(in_features=64, out_features=64, bias=True)\n",
       ")"
      ]
     },
     "execution_count": 129,
     "metadata": {},
     "output_type": "execute_result"
    }
   ],
   "source": [
    "encoder.to(device)\n",
    "encoder.eval()"
   ]
  },
  {
   "cell_type": "code",
   "execution_count": 119,
   "id": "73296348",
   "metadata": {},
   "outputs": [
    {
     "name": "stdout",
     "output_type": "stream",
     "text": [
      "Files already downloaded and verified\n"
     ]
    }
   ],
   "source": [
    "eval_transform = transforms.Compose([\n",
    "    transforms.Resize((28, 28)),\n",
    "    transforms.ToTensor(),\n",
    "    transforms.Normalize((0.5,), (0.5,))\n",
    "])\n",
    "\n",
    "eval_dataset = Omniglot(root='./data', background=True, download=True, transform=eval_transform)\n",
    "eval_loader = DataLoader(eval_dataset, batch_size=64, shuffle=False)"
   ]
  },
  {
   "cell_type": "code",
   "execution_count": 120,
   "id": "3f4d58ac",
   "metadata": {},
   "outputs": [],
   "source": [
    "\n",
    "\n",
    "# Build a map from class label → list of sample indices\n",
    "class_to_indices = defaultdict(list)\n",
    "for idx, (_, label) in enumerate(eval_dataset):\n",
    "    class_to_indices[label].append(idx)\n",
    "\n",
    "# Randomly choose 5 classes\n",
    "selected_classes = random.sample(list(class_to_indices.keys()), 5)\n",
    "\n",
    "# For each class, pick up to 20 samples\n",
    "selected_indices = []\n",
    "for cls in selected_classes:\n",
    "    selected_indices.extend(class_to_indices[cls][:20])  # pick 20 samples per class\n",
    "\n",
    "# Create subset of dataset\n",
    "subset = Subset(eval_dataset, selected_indices)\n",
    "subset_loader = DataLoader(subset, batch_size=64, shuffle=False)\n"
   ]
  },
  {
   "cell_type": "code",
   "execution_count": 121,
   "id": "c3637830",
   "metadata": {},
   "outputs": [],
   "source": [
    "all_embeddings = []\n",
    "all_labels = []\n",
    "\n",
    "with torch.no_grad():\n",
    "    for images, labels in subset_loader:\n",
    "        images = images.to(device)\n",
    "        embeddings = encoder(images)\n",
    "        all_embeddings.append(embeddings.cpu().numpy())\n",
    "        all_labels.append(labels.numpy())\n",
    "\n",
    "X = np.concatenate(all_embeddings, axis=0)\n",
    "y = np.concatenate(all_labels, axis=0)"
   ]
  },
  {
   "cell_type": "code",
   "execution_count": 122,
   "id": "c386f4c2",
   "metadata": {},
   "outputs": [],
   "source": [
    "from sklearn.manifold import TSNE\n",
    "\n",
    "tsne = TSNE(n_components=3, perplexity=30, init='pca', random_state=42)\n",
    "X_3d = tsne.fit_transform(X)  # shape: (num_samples, 3)\n"
   ]
  },
  {
   "cell_type": "code",
   "execution_count": 123,
   "id": "70f1479e",
   "metadata": {},
   "outputs": [
    {
     "data": {
      "application/vnd.plotly.v1+json": {
       "config": {
        "plotlyServerURL": "https://plot.ly"
       },
       "data": [
        {
         "hovertemplate": "Omniglot Class=Class 204<br>x=%{x}<br>y=%{y}<br>z=%{z}<extra></extra>",
         "legendgroup": "Class 204",
         "marker": {
          "color": "#636efa",
          "opacity": 0.8,
          "size": 5,
          "symbol": "circle"
         },
         "mode": "markers",
         "name": "Class 204",
         "scene": "scene",
         "showlegend": true,
         "type": "scatter3d",
         "x": [
          -24.5411376953125,
          -24.310016632080078,
          -41.35919952392578,
          -9.25732135772705,
          -10.833316802978516,
          -58.62995910644531,
          -20.004985809326172,
          -61.307777404785156,
          -47.4733772277832,
          -38.110687255859375,
          -35.70701599121094,
          -2.676619052886963,
          -5.168878078460693,
          102.05181884765625,
          -44.136558532714844,
          139.28265380859375,
          -27.373565673828125,
          -21.142587661743164,
          -79.0593032836914,
          -72.08992767333984
         ],
         "y": [
          -21.672557830810547,
          -42.537960052490234,
          6.661815166473389,
          -52.051246643066406,
          -86.19159698486328,
          -41.63570022583008,
          -23.703819274902344,
          -25.04892921447754,
          23.5018310546875,
          -37.1212158203125,
          -0.48108962178230286,
          -52.969398498535156,
          -20.144458770751953,
          -35.80357360839844,
          -60.06014633178711,
          -5.939440727233887,
          -8.798776626586914,
          -81.50401306152344,
          -6.811103820800781,
          10.157262802124023
         ],
         "z": [
          90.00386047363281,
          -83.49835205078125,
          59.48005676269531,
          69.57794952392578,
          50.380035400390625,
          76.20879364013672,
          47.678627014160156,
          41.75990676879883,
          -2.6010453701019287,
          14.538721084594727,
          23.661691665649414,
          26.09090805053711,
          12.302350997924805,
          -41.02942657470703,
          46.07490158081055,
          -7.012264728546143,
          -14.132938385009766,
          -70.11247253417969,
          74.78692626953125,
          31.075031280517578
         ]
        },
        {
         "hovertemplate": "Omniglot Class=Class 104<br>x=%{x}<br>y=%{y}<br>z=%{z}<extra></extra>",
         "legendgroup": "Class 104",
         "marker": {
          "color": "#EF553B",
          "opacity": 0.8,
          "size": 5,
          "symbol": "circle"
         },
         "mode": "markers",
         "name": "Class 104",
         "scene": "scene",
         "showlegend": true,
         "type": "scatter3d",
         "x": [
          -60.65328598022461,
          -2.908055543899536,
          29.47547149658203,
          46.356109619140625,
          37.391536712646484,
          23.544401168823242,
          -36.794151306152344,
          -41.97650146484375,
          27.6989688873291,
          26.95840835571289,
          33.3611946105957,
          -8.50117301940918,
          -5.37936544418335,
          -16.71880531311035,
          6.395443916320801,
          42.92092514038086,
          60.92580795288086,
          9.171274185180664,
          65.44026947021484,
          -191.94796752929688
         ],
         "y": [
          57.36736297607422,
          39.74040222167969,
          -9.850436210632324,
          12.582123756408691,
          -64.60635375976562,
          6.060190200805664,
          35.04631805419922,
          72.5269775390625,
          -45.78419494628906,
          -31.733760833740234,
          39.90625,
          4.883601188659668,
          36.68694305419922,
          5.322265625,
          -33.16828155517578,
          -24.18853759765625,
          -21.415857315063477,
          0.970600426197052,
          -67.27447509765625,
          136.44204711914062
         ],
         "z": [
          50.040382385253906,
          -85.504150390625,
          -15.10406494140625,
          -45.93846893310547,
          -63.976505279541016,
          -79.36065673828125,
          93.81951141357422,
          81.75630187988281,
          -23.053199768066406,
          -89.41905212402344,
          -67.3322525024414,
          -103.5736312866211,
          -46.7784423828125,
          -66.76837921142578,
          -53.70262145996094,
          -54.677085876464844,
          -23.412141799926758,
          -42.12728500366211,
          -37.58414077758789,
          -15.608448028564453
         ]
        },
        {
         "hovertemplate": "Omniglot Class=Class 165<br>x=%{x}<br>y=%{y}<br>z=%{z}<extra></extra>",
         "legendgroup": "Class 165",
         "marker": {
          "color": "#00cc96",
          "opacity": 0.8,
          "size": 5,
          "symbol": "circle"
         },
         "mode": "markers",
         "name": "Class 165",
         "scene": "scene",
         "showlegend": true,
         "type": "scatter3d",
         "x": [
          -89.00376892089844,
          -63.351173400878906,
          -6.985198020935059,
          -61.18369674682617,
          -96.48452758789062,
          -78.90511322021484,
          -58.56625747680664,
          -124.15581512451172,
          -66.2540512084961,
          -96.6555404663086,
          -65.63956451416016,
          -109.07534790039062,
          -41.806556701660156,
          -91.4956283569336,
          -94.46524810791016,
          -122.52810668945312,
          -79.64850616455078,
          -25.67022132873535,
          -104.27435302734375,
          -99.02033233642578
         ],
         "y": [
          12.502983093261719,
          -55.18324661254883,
          -79.04236602783203,
          -80.13333892822266,
          -70.31249237060547,
          -16.272897720336914,
          -88.10699462890625,
          -59.45260238647461,
          -22.953704833984375,
          -46.91539001464844,
          7.7940144538879395,
          -31.139480590820312,
          -54.80916976928711,
          -62.1091194152832,
          -89.42399597167969,
          -4.462253093719482,
          -52.29935073852539,
          -90.59846496582031,
          -31.34684181213379,
          -10.466630935668945
         ],
         "z": [
          -29.62736701965332,
          -57.29270553588867,
          -27.94330406188965,
          4.280270576477051,
          -46.3084602355957,
          -7.6663665771484375,
          -34.130043029785156,
          -19.12128448486328,
          -41.53018569946289,
          -75.7293930053711,
          -61.595497131347656,
          8.624659538269043,
          -24.91811180114746,
          17.15083122253418,
          -12.607209205627441,
          -16.410934448242188,
          -17.322566986083984,
          -6.179770469665527,
          -35.441444396972656,
          -63.533416748046875
         ]
        },
        {
         "hovertemplate": "Omniglot Class=Class 86<br>x=%{x}<br>y=%{y}<br>z=%{z}<extra></extra>",
         "legendgroup": "Class 86",
         "marker": {
          "color": "#ab63fa",
          "opacity": 0.8,
          "size": 5,
          "symbol": "circle"
         },
         "mode": "markers",
         "name": "Class 86",
         "scene": "scene",
         "showlegend": true,
         "type": "scatter3d",
         "x": [
          9.884805679321289,
          114.44149017333984,
          46.492103576660156,
          42.03853988647461,
          -12.676262855529785,
          1.393836259841919,
          -55.54842758178711,
          36.593170166015625,
          -2.624777317047119,
          41.95506286621094,
          10.229267120361328,
          23.101839065551758,
          31.27611541748047,
          31.825355529785156,
          -24.596315383911133,
          1.7461286783218384,
          81.90483093261719,
          30.192718505859375,
          82.5367431640625,
          6.197071075439453
         ],
         "y": [
          52.42673873901367,
          0.4295673072338104,
          -40.04176330566406,
          41.48637390136719,
          81.61930847167969,
          90.67755126953125,
          73.80187225341797,
          -3.595020294189453,
          38.82032012939453,
          27.43358612060547,
          12.042532920837402,
          68.94099426269531,
          -14.095426559448242,
          70.29655456542969,
          62.02670669555664,
          54.63840103149414,
          4.528318881988525,
          29.743392944335938,
          13.36142635345459,
          15.649142265319824
         ],
         "z": [
          35.86155319213867,
          50.14630889892578,
          34.15821838378906,
          84.38491821289062,
          -5.505969524383545,
          35.56388854980469,
          3.6527862548828125,
          24.7773494720459,
          0.8929851651191711,
          45.951969146728516,
          77.47604370117188,
          5.127012252807617,
          60.79936981201172,
          59.247406005859375,
          26.092613220214844,
          71.09268951416016,
          -73.11772155761719,
          9.55785846710205,
          88.44232177734375,
          38.09242630004883
         ]
        },
        {
         "hovertemplate": "Omniglot Class=Class 940<br>x=%{x}<br>y=%{y}<br>z=%{z}<extra></extra>",
         "legendgroup": "Class 940",
         "marker": {
          "color": "#FFA15A",
          "opacity": 0.8,
          "size": 5,
          "symbol": "circle"
         },
         "mode": "markers",
         "name": "Class 940",
         "scene": "scene",
         "showlegend": true,
         "type": "scatter3d",
         "x": [
          85.34557342529297,
          82.32969665527344,
          54.62544631958008,
          92.55915069580078,
          88.47785186767578,
          55.83831787109375,
          100.98593139648438,
          86.84417724609375,
          39.17571258544922,
          87.3994140625,
          54.111175537109375,
          67.53582000732422,
          117.70718383789062,
          96.58352661132812,
          110.79762268066406,
          -44.31145477294922,
          63.9911003112793,
          -106.53478240966797,
          77.40660858154297,
          75.13349914550781
         ],
         "y": [
          67.80281829833984,
          39.34789276123047,
          99.46778869628906,
          49.7162971496582,
          28.78997039794922,
          96.86841583251953,
          17.667383193969727,
          93.94466400146484,
          -103.36524200439453,
          -9.174776077270508,
          62.85862350463867,
          32.0692138671875,
          48.51295852661133,
          90.8896713256836,
          56.71366882324219,
          73.5309066772461,
          58.93685531616211,
          43.475494384765625,
          77.96184539794922,
          -2.3298771381378174
         ],
         "z": [
          0.3437863886356354,
          59.80120849609375,
          -4.206404209136963,
          -35.43655776977539,
          25.122577667236328,
          34.665550231933594,
          -13.373350143432617,
          -27.888254165649414,
          -17.10409927368164,
          13.125687599182129,
          -24.565582275390625,
          -4.525094032287598,
          5.180966377258301,
          28.77211570739746,
          42.3433837890625,
          -42.80556106567383,
          28.075841903686523,
          43.46977615356445,
          66.93012237548828,
          50.47738265991211
         ]
        }
       ],
       "layout": {
        "legend": {
         "title": {
          "text": "Omniglot Class"
         },
         "tracegroupgap": 0
        },
        "scene": {
         "domain": {
          "x": [
           0,
           1
          ],
          "y": [
           0,
           1
          ]
         },
         "xaxis": {
          "title": {
           "text": "x"
          }
         },
         "yaxis": {
          "title": {
           "text": "y"
          }
         },
         "zaxis": {
          "title": {
           "text": "z"
          }
         }
        },
        "template": {
         "data": {
          "bar": [
           {
            "error_x": {
             "color": "#2a3f5f"
            },
            "error_y": {
             "color": "#2a3f5f"
            },
            "marker": {
             "line": {
              "color": "#E5ECF6",
              "width": 0.5
             },
             "pattern": {
              "fillmode": "overlay",
              "size": 10,
              "solidity": 0.2
             }
            },
            "type": "bar"
           }
          ],
          "barpolar": [
           {
            "marker": {
             "line": {
              "color": "#E5ECF6",
              "width": 0.5
             },
             "pattern": {
              "fillmode": "overlay",
              "size": 10,
              "solidity": 0.2
             }
            },
            "type": "barpolar"
           }
          ],
          "carpet": [
           {
            "aaxis": {
             "endlinecolor": "#2a3f5f",
             "gridcolor": "white",
             "linecolor": "white",
             "minorgridcolor": "white",
             "startlinecolor": "#2a3f5f"
            },
            "baxis": {
             "endlinecolor": "#2a3f5f",
             "gridcolor": "white",
             "linecolor": "white",
             "minorgridcolor": "white",
             "startlinecolor": "#2a3f5f"
            },
            "type": "carpet"
           }
          ],
          "choropleth": [
           {
            "colorbar": {
             "outlinewidth": 0,
             "ticks": ""
            },
            "type": "choropleth"
           }
          ],
          "contour": [
           {
            "colorbar": {
             "outlinewidth": 0,
             "ticks": ""
            },
            "colorscale": [
             [
              0,
              "#0d0887"
             ],
             [
              0.1111111111111111,
              "#46039f"
             ],
             [
              0.2222222222222222,
              "#7201a8"
             ],
             [
              0.3333333333333333,
              "#9c179e"
             ],
             [
              0.4444444444444444,
              "#bd3786"
             ],
             [
              0.5555555555555556,
              "#d8576b"
             ],
             [
              0.6666666666666666,
              "#ed7953"
             ],
             [
              0.7777777777777778,
              "#fb9f3a"
             ],
             [
              0.8888888888888888,
              "#fdca26"
             ],
             [
              1,
              "#f0f921"
             ]
            ],
            "type": "contour"
           }
          ],
          "contourcarpet": [
           {
            "colorbar": {
             "outlinewidth": 0,
             "ticks": ""
            },
            "type": "contourcarpet"
           }
          ],
          "heatmap": [
           {
            "colorbar": {
             "outlinewidth": 0,
             "ticks": ""
            },
            "colorscale": [
             [
              0,
              "#0d0887"
             ],
             [
              0.1111111111111111,
              "#46039f"
             ],
             [
              0.2222222222222222,
              "#7201a8"
             ],
             [
              0.3333333333333333,
              "#9c179e"
             ],
             [
              0.4444444444444444,
              "#bd3786"
             ],
             [
              0.5555555555555556,
              "#d8576b"
             ],
             [
              0.6666666666666666,
              "#ed7953"
             ],
             [
              0.7777777777777778,
              "#fb9f3a"
             ],
             [
              0.8888888888888888,
              "#fdca26"
             ],
             [
              1,
              "#f0f921"
             ]
            ],
            "type": "heatmap"
           }
          ],
          "heatmapgl": [
           {
            "colorbar": {
             "outlinewidth": 0,
             "ticks": ""
            },
            "colorscale": [
             [
              0,
              "#0d0887"
             ],
             [
              0.1111111111111111,
              "#46039f"
             ],
             [
              0.2222222222222222,
              "#7201a8"
             ],
             [
              0.3333333333333333,
              "#9c179e"
             ],
             [
              0.4444444444444444,
              "#bd3786"
             ],
             [
              0.5555555555555556,
              "#d8576b"
             ],
             [
              0.6666666666666666,
              "#ed7953"
             ],
             [
              0.7777777777777778,
              "#fb9f3a"
             ],
             [
              0.8888888888888888,
              "#fdca26"
             ],
             [
              1,
              "#f0f921"
             ]
            ],
            "type": "heatmapgl"
           }
          ],
          "histogram": [
           {
            "marker": {
             "pattern": {
              "fillmode": "overlay",
              "size": 10,
              "solidity": 0.2
             }
            },
            "type": "histogram"
           }
          ],
          "histogram2d": [
           {
            "colorbar": {
             "outlinewidth": 0,
             "ticks": ""
            },
            "colorscale": [
             [
              0,
              "#0d0887"
             ],
             [
              0.1111111111111111,
              "#46039f"
             ],
             [
              0.2222222222222222,
              "#7201a8"
             ],
             [
              0.3333333333333333,
              "#9c179e"
             ],
             [
              0.4444444444444444,
              "#bd3786"
             ],
             [
              0.5555555555555556,
              "#d8576b"
             ],
             [
              0.6666666666666666,
              "#ed7953"
             ],
             [
              0.7777777777777778,
              "#fb9f3a"
             ],
             [
              0.8888888888888888,
              "#fdca26"
             ],
             [
              1,
              "#f0f921"
             ]
            ],
            "type": "histogram2d"
           }
          ],
          "histogram2dcontour": [
           {
            "colorbar": {
             "outlinewidth": 0,
             "ticks": ""
            },
            "colorscale": [
             [
              0,
              "#0d0887"
             ],
             [
              0.1111111111111111,
              "#46039f"
             ],
             [
              0.2222222222222222,
              "#7201a8"
             ],
             [
              0.3333333333333333,
              "#9c179e"
             ],
             [
              0.4444444444444444,
              "#bd3786"
             ],
             [
              0.5555555555555556,
              "#d8576b"
             ],
             [
              0.6666666666666666,
              "#ed7953"
             ],
             [
              0.7777777777777778,
              "#fb9f3a"
             ],
             [
              0.8888888888888888,
              "#fdca26"
             ],
             [
              1,
              "#f0f921"
             ]
            ],
            "type": "histogram2dcontour"
           }
          ],
          "mesh3d": [
           {
            "colorbar": {
             "outlinewidth": 0,
             "ticks": ""
            },
            "type": "mesh3d"
           }
          ],
          "parcoords": [
           {
            "line": {
             "colorbar": {
              "outlinewidth": 0,
              "ticks": ""
             }
            },
            "type": "parcoords"
           }
          ],
          "pie": [
           {
            "automargin": true,
            "type": "pie"
           }
          ],
          "scatter": [
           {
            "fillpattern": {
             "fillmode": "overlay",
             "size": 10,
             "solidity": 0.2
            },
            "type": "scatter"
           }
          ],
          "scatter3d": [
           {
            "line": {
             "colorbar": {
              "outlinewidth": 0,
              "ticks": ""
             }
            },
            "marker": {
             "colorbar": {
              "outlinewidth": 0,
              "ticks": ""
             }
            },
            "type": "scatter3d"
           }
          ],
          "scattercarpet": [
           {
            "marker": {
             "colorbar": {
              "outlinewidth": 0,
              "ticks": ""
             }
            },
            "type": "scattercarpet"
           }
          ],
          "scattergeo": [
           {
            "marker": {
             "colorbar": {
              "outlinewidth": 0,
              "ticks": ""
             }
            },
            "type": "scattergeo"
           }
          ],
          "scattergl": [
           {
            "marker": {
             "colorbar": {
              "outlinewidth": 0,
              "ticks": ""
             }
            },
            "type": "scattergl"
           }
          ],
          "scattermapbox": [
           {
            "marker": {
             "colorbar": {
              "outlinewidth": 0,
              "ticks": ""
             }
            },
            "type": "scattermapbox"
           }
          ],
          "scatterpolar": [
           {
            "marker": {
             "colorbar": {
              "outlinewidth": 0,
              "ticks": ""
             }
            },
            "type": "scatterpolar"
           }
          ],
          "scatterpolargl": [
           {
            "marker": {
             "colorbar": {
              "outlinewidth": 0,
              "ticks": ""
             }
            },
            "type": "scatterpolargl"
           }
          ],
          "scatterternary": [
           {
            "marker": {
             "colorbar": {
              "outlinewidth": 0,
              "ticks": ""
             }
            },
            "type": "scatterternary"
           }
          ],
          "surface": [
           {
            "colorbar": {
             "outlinewidth": 0,
             "ticks": ""
            },
            "colorscale": [
             [
              0,
              "#0d0887"
             ],
             [
              0.1111111111111111,
              "#46039f"
             ],
             [
              0.2222222222222222,
              "#7201a8"
             ],
             [
              0.3333333333333333,
              "#9c179e"
             ],
             [
              0.4444444444444444,
              "#bd3786"
             ],
             [
              0.5555555555555556,
              "#d8576b"
             ],
             [
              0.6666666666666666,
              "#ed7953"
             ],
             [
              0.7777777777777778,
              "#fb9f3a"
             ],
             [
              0.8888888888888888,
              "#fdca26"
             ],
             [
              1,
              "#f0f921"
             ]
            ],
            "type": "surface"
           }
          ],
          "table": [
           {
            "cells": {
             "fill": {
              "color": "#EBF0F8"
             },
             "line": {
              "color": "white"
             }
            },
            "header": {
             "fill": {
              "color": "#C8D4E3"
             },
             "line": {
              "color": "white"
             }
            },
            "type": "table"
           }
          ]
         },
         "layout": {
          "annotationdefaults": {
           "arrowcolor": "#2a3f5f",
           "arrowhead": 0,
           "arrowwidth": 1
          },
          "autotypenumbers": "strict",
          "coloraxis": {
           "colorbar": {
            "outlinewidth": 0,
            "ticks": ""
           }
          },
          "colorscale": {
           "diverging": [
            [
             0,
             "#8e0152"
            ],
            [
             0.1,
             "#c51b7d"
            ],
            [
             0.2,
             "#de77ae"
            ],
            [
             0.3,
             "#f1b6da"
            ],
            [
             0.4,
             "#fde0ef"
            ],
            [
             0.5,
             "#f7f7f7"
            ],
            [
             0.6,
             "#e6f5d0"
            ],
            [
             0.7,
             "#b8e186"
            ],
            [
             0.8,
             "#7fbc41"
            ],
            [
             0.9,
             "#4d9221"
            ],
            [
             1,
             "#276419"
            ]
           ],
           "sequential": [
            [
             0,
             "#0d0887"
            ],
            [
             0.1111111111111111,
             "#46039f"
            ],
            [
             0.2222222222222222,
             "#7201a8"
            ],
            [
             0.3333333333333333,
             "#9c179e"
            ],
            [
             0.4444444444444444,
             "#bd3786"
            ],
            [
             0.5555555555555556,
             "#d8576b"
            ],
            [
             0.6666666666666666,
             "#ed7953"
            ],
            [
             0.7777777777777778,
             "#fb9f3a"
            ],
            [
             0.8888888888888888,
             "#fdca26"
            ],
            [
             1,
             "#f0f921"
            ]
           ],
           "sequentialminus": [
            [
             0,
             "#0d0887"
            ],
            [
             0.1111111111111111,
             "#46039f"
            ],
            [
             0.2222222222222222,
             "#7201a8"
            ],
            [
             0.3333333333333333,
             "#9c179e"
            ],
            [
             0.4444444444444444,
             "#bd3786"
            ],
            [
             0.5555555555555556,
             "#d8576b"
            ],
            [
             0.6666666666666666,
             "#ed7953"
            ],
            [
             0.7777777777777778,
             "#fb9f3a"
            ],
            [
             0.8888888888888888,
             "#fdca26"
            ],
            [
             1,
             "#f0f921"
            ]
           ]
          },
          "colorway": [
           "#636efa",
           "#EF553B",
           "#00cc96",
           "#ab63fa",
           "#FFA15A",
           "#19d3f3",
           "#FF6692",
           "#B6E880",
           "#FF97FF",
           "#FECB52"
          ],
          "font": {
           "color": "#2a3f5f"
          },
          "geo": {
           "bgcolor": "white",
           "lakecolor": "white",
           "landcolor": "#E5ECF6",
           "showlakes": true,
           "showland": true,
           "subunitcolor": "white"
          },
          "hoverlabel": {
           "align": "left"
          },
          "hovermode": "closest",
          "mapbox": {
           "style": "light"
          },
          "paper_bgcolor": "white",
          "plot_bgcolor": "#E5ECF6",
          "polar": {
           "angularaxis": {
            "gridcolor": "white",
            "linecolor": "white",
            "ticks": ""
           },
           "bgcolor": "#E5ECF6",
           "radialaxis": {
            "gridcolor": "white",
            "linecolor": "white",
            "ticks": ""
           }
          },
          "scene": {
           "xaxis": {
            "backgroundcolor": "#E5ECF6",
            "gridcolor": "white",
            "gridwidth": 2,
            "linecolor": "white",
            "showbackground": true,
            "ticks": "",
            "zerolinecolor": "white"
           },
           "yaxis": {
            "backgroundcolor": "#E5ECF6",
            "gridcolor": "white",
            "gridwidth": 2,
            "linecolor": "white",
            "showbackground": true,
            "ticks": "",
            "zerolinecolor": "white"
           },
           "zaxis": {
            "backgroundcolor": "#E5ECF6",
            "gridcolor": "white",
            "gridwidth": 2,
            "linecolor": "white",
            "showbackground": true,
            "ticks": "",
            "zerolinecolor": "white"
           }
          },
          "shapedefaults": {
           "line": {
            "color": "#2a3f5f"
           }
          },
          "ternary": {
           "aaxis": {
            "gridcolor": "white",
            "linecolor": "white",
            "ticks": ""
           },
           "baxis": {
            "gridcolor": "white",
            "linecolor": "white",
            "ticks": ""
           },
           "bgcolor": "#E5ECF6",
           "caxis": {
            "gridcolor": "white",
            "linecolor": "white",
            "ticks": ""
           }
          },
          "title": {
           "x": 0.05
          },
          "xaxis": {
           "automargin": true,
           "gridcolor": "white",
           "linecolor": "white",
           "ticks": "",
           "title": {
            "standoff": 15
           },
           "zerolinecolor": "white",
           "zerolinewidth": 2
          },
          "yaxis": {
           "automargin": true,
           "gridcolor": "white",
           "linecolor": "white",
           "ticks": "",
           "title": {
            "standoff": 15
           },
           "zerolinecolor": "white",
           "zerolinewidth": 2
          }
         }
        },
        "title": {
         "text": "3D t-SNE of 5 Omniglot Classes (BYOL Embeddings)"
        }
       }
      }
     },
     "metadata": {},
     "output_type": "display_data"
    }
   ],
   "source": [
    "import plotly.express as px\n",
    "import pandas as pd\n",
    "\n",
    "# Create a dataframe for easier plotting\n",
    "df = pd.DataFrame({\n",
    "    'x': X_3d[:, 0],\n",
    "    'y': X_3d[:, 1],\n",
    "    'z': X_3d[:, 2],\n",
    "    'class': y\n",
    "})\n",
    "\n",
    "# Filter only selected class labels (5 classes)\n",
    "df = df[df['class'].isin(selected_classes)]\n",
    "\n",
    "# Map original class labels to consistent string labels\n",
    "label_map = {label: f\"Class {label}\" for label in selected_classes}\n",
    "df['class'] = df['class'].map(label_map)\n",
    "\n",
    "# Create interactive 3D scatter plot\n",
    "fig = px.scatter_3d(df, x='x', y='y', z='z',\n",
    "                    color='class',\n",
    "                    title=\"3D t-SNE of 5 Omniglot Classes (BYOL Embeddings)\",\n",
    "                    labels={\"class\": \"Omniglot Class\"},\n",
    "                    opacity=0.8)\n",
    "\n",
    "fig.update_traces(marker=dict(size=5))\n",
    "fig.show()\n"
   ]
  },
  {
   "cell_type": "code",
   "execution_count": 124,
   "id": "69d0acca",
   "metadata": {},
   "outputs": [],
   "source": [
    "from sklearn.model_selection import train_test_split\n",
    "\n",
    "X_train, X_test, y_train, y_test = train_test_split(\n",
    "    X, y, test_size=0.3, random_state=42, stratify=y \n",
    ")"
   ]
  },
  {
   "cell_type": "code",
   "execution_count": 125,
   "id": "6d19cfba",
   "metadata": {},
   "outputs": [
    {
     "name": "stdout",
     "output_type": "stream",
     "text": [
      "KNN Accuracy: 100.00%\n"
     ]
    }
   ],
   "source": [
    "from sklearn.neighbors import KNeighborsClassifier\n",
    "from sklearn.metrics import accuracy_score\n",
    "knn = KNeighborsClassifier(n_neighbors=5)\n",
    "knn.fit(X_train, y_train)\n",
    "y_pred = knn.predict(X_test)\n",
    "print(f\"KNN Accuracy: {accuracy_score(y_test, y_pred) * 100:.2f}%\")"
   ]
  },
  {
   "cell_type": "code",
   "execution_count": 126,
   "id": "acff2518",
   "metadata": {},
   "outputs": [
    {
     "name": "stdout",
     "output_type": "stream",
     "text": [
      "SVM Accuracy: 100.00%\n"
     ]
    }
   ],
   "source": [
    "from sklearn.svm import SVC\n",
    "from sklearn.metrics import accuracy_score\n",
    "svc= SVC(kernel='rbf', random_state=42)\n",
    "svc.fit(X_train, y_train)\n",
    "y_pred = svc.predict(X_test)\n",
    "print(f\"SVM Accuracy: {accuracy_score(y_test, y_pred) * 100:.2f}%\")\n"
   ]
  },
  {
   "cell_type": "code",
   "execution_count": 127,
   "id": "d3aafb67",
   "metadata": {},
   "outputs": [
    {
     "name": "stdout",
     "output_type": "stream",
     "text": [
      "Random Forest Accuracy: 100.00%\n"
     ]
    }
   ],
   "source": [
    "from sklearn.ensemble import RandomForestClassifier\n",
    "from sklearn.metrics import accuracy_score\n",
    "\n",
    "rf = RandomForestClassifier(n_estimators=1000, random_state=42)\n",
    "rf.fit(X_train, y_train)\n",
    "y_pred = rf.predict(X_test)\n",
    "print(f\"Random Forest Accuracy: {accuracy_score(y_test, y_pred) * 100:.2f}%\") "
   ]
  },
  {
   "cell_type": "code",
   "execution_count": 128,
   "id": "8c64f482",
   "metadata": {},
   "outputs": [
    {
     "data": {
      "application/vnd.plotly.v1+json": {
       "config": {
        "plotlyServerURL": "https://plot.ly"
       },
       "data": [
        {
         "hovertemplate": "Omniglot Class=Class 204<br>x=%{x}<br>y=%{y}<extra></extra>",
         "legendgroup": "Class 204",
         "marker": {
          "color": "#636efa",
          "opacity": 0.8,
          "size": 7,
          "symbol": "circle"
         },
         "mode": "markers",
         "name": "Class 204",
         "orientation": "v",
         "showlegend": true,
         "type": "scatter",
         "x": [
          0.022140981629490852,
          -0.5680785179138184,
          -1.1592984199523926,
          -0.4343422055244446,
          -0.34552380442619324,
          -1.011104941368103,
          -0.7047513127326965,
          -0.6672473549842834,
          -0.4949318766593933,
          -0.9712380766868591,
          -0.705115556716919,
          -0.5263209939002991,
          -0.3224172294139862,
          -1.3897138833999634,
          -0.9850569367408752,
          -0.5401231050491333,
          -0.819926381111145,
          -1.1197965145111084,
          -1.0750991106033325,
          -0.2605183720588684
         ],
         "xaxis": "x",
         "y": [
          3.116905689239502,
          2.942633867263794,
          3.1715855598449707,
          3.382734537124634,
          3.85699462890625,
          3.7112457752227783,
          2.676182508468628,
          3.3026540279388428,
          2.458125352859497,
          2.9238481521606445,
          3.043639898300171,
          2.6711978912353516,
          2.826465606689453,
          3.8139195442199707,
          3.4545211791992188,
          2.9619219303131104,
          2.520904302597046,
          2.778569221496582,
          4.039309024810791,
          3.2442891597747803
         ],
         "yaxis": "y"
        },
        {
         "hovertemplate": "Omniglot Class=Class 104<br>x=%{x}<br>y=%{y}<extra></extra>",
         "legendgroup": "Class 104",
         "marker": {
          "color": "#EF553B",
          "opacity": 0.8,
          "size": 7,
          "symbol": "circle"
         },
         "mode": "markers",
         "name": "Class 104",
         "orientation": "v",
         "showlegend": true,
         "type": "scatter",
         "x": [
          0.4601162374019623,
          0.8509777784347534,
          0.4881063401699066,
          0.7980012893676758,
          1.3836476802825928,
          0.7627695798873901,
          0.041033610701560974,
          0.10869459062814713,
          0.14608411490917206,
          -0.11408228427171707,
          1.0022034645080566,
          1.2052719593048096,
          0.5419849753379822,
          0.7178849577903748,
          0.42973050475120544,
          0.19338566064834595,
          0.4174475371837616,
          0.15184204280376434,
          1.5872551202774048,
          0.5898820757865906
         ],
         "xaxis": "x",
         "y": [
          -0.7615862488746643,
          -0.21978454291820526,
          -1.4584217071533203,
          -1.1556304693222046,
          -0.7345013618469238,
          -0.6194607615470886,
          -0.43885618448257446,
          -0.1336931437253952,
          -1.230911374092102,
          -0.5758991837501526,
          -0.8895788192749023,
          -0.28095290064811707,
          0.04783119633793831,
          -0.3126383423805237,
          -0.8187171816825867,
          -1.1359083652496338,
          -1.1699682474136353,
          -0.3847534954547882,
          -0.5862297415733337,
          -0.7907016277313232
         ],
         "yaxis": "y"
        },
        {
         "hovertemplate": "Omniglot Class=Class 165<br>x=%{x}<br>y=%{y}<extra></extra>",
         "legendgroup": "Class 165",
         "marker": {
          "color": "#00cc96",
          "opacity": 0.8,
          "size": 7,
          "symbol": "circle"
         },
         "mode": "markers",
         "name": "Class 165",
         "orientation": "v",
         "showlegend": true,
         "type": "scatter",
         "x": [
          -2.8060712814331055,
          -2.8070478439331055,
          -2.334798812866211,
          -2.6247167587280273,
          -3.022874355316162,
          -3.431781053543091,
          -2.791872262954712,
          -3.2724061012268066,
          -3.4452171325683594,
          -3.1716601848602295,
          -3.23976993560791,
          -2.9542734622955322,
          -2.842022657394409,
          -2.9089438915252686,
          -2.6514627933502197,
          -3.2102103233337402,
          -2.7815022468566895,
          -2.5093398094177246,
          -3.327883005142212,
          -3.446316957473755
         ],
         "xaxis": "x",
         "y": [
          7.430009365081787,
          7.131213665008545,
          5.384806156158447,
          6.8358306884765625,
          7.506712913513184,
          7.326297760009766,
          6.642435550689697,
          7.828205108642578,
          7.248521327972412,
          7.74575662612915,
          7.552273750305176,
          6.784993648529053,
          6.491455554962158,
          6.952467441558838,
          7.351645469665527,
          6.585122108459473,
          7.434451103210449,
          5.8094353675842285,
          6.994457721710205,
          7.1036152839660645
         ],
         "yaxis": "y"
        },
        {
         "hovertemplate": "Omniglot Class=Class 86<br>x=%{x}<br>y=%{y}<extra></extra>",
         "legendgroup": "Class 86",
         "marker": {
          "color": "#ab63fa",
          "opacity": 0.8,
          "size": 7,
          "symbol": "circle"
         },
         "mode": "markers",
         "name": "Class 86",
         "orientation": "v",
         "showlegend": true,
         "type": "scatter",
         "x": [
          1.8451181650161743,
          1.2765718698501587,
          1.1400506496429443,
          1.6758614778518677,
          1.6696341037750244,
          1.6551281213760376,
          1.4487109184265137,
          1.0959270000457764,
          1.3011406660079956,
          0.9265397787094116,
          1.5195393562316895,
          1.6095175743103027,
          1.2096443176269531,
          1.6218210458755493,
          1.8945252895355225,
          1.9624791145324707,
          1.1819067001342773,
          1.2205026149749756,
          1.6096240282058716,
          1.1781936883926392
         ],
         "xaxis": "x",
         "y": [
          -5.2876081466674805,
          -5.652831554412842,
          -4.3307719230651855,
          -6.145069599151611,
          -4.738035678863525,
          -5.1118059158325195,
          -5.632656097412109,
          -4.729045867919922,
          -5.797845840454102,
          -5.434482574462891,
          -4.393883228302002,
          -5.661339282989502,
          -4.354040622711182,
          -5.800998210906982,
          -4.484930992126465,
          -6.018133163452148,
          -5.245999336242676,
          -5.197089672088623,
          -6.62164831161499,
          -4.667850017547607
         ],
         "yaxis": "y"
        },
        {
         "hovertemplate": "Omniglot Class=Class 940<br>x=%{x}<br>y=%{y}<extra></extra>",
         "legendgroup": "Class 940",
         "marker": {
          "color": "#FFA15A",
          "opacity": 0.8,
          "size": 7,
          "symbol": "circle"
         },
         "mode": "markers",
         "name": "Class 940",
         "orientation": "v",
         "showlegend": true,
         "type": "scatter",
         "x": [
          1.5754472017288208,
          1.9540250301361084,
          1.2297192811965942,
          2.074662923812866,
          2.412064790725708,
          1.5547887086868286,
          1.870802640914917,
          1.08151376247406,
          2.0855329036712646,
          1.8135954141616821,
          1.9199341535568237,
          2.2776527404785156,
          2.1797847747802734,
          2.337888240814209,
          1.8821156024932861,
          1.3870594501495361,
          1.695555329322815,
          1.4504883289337158,
          1.5165597200393677,
          2.3343143463134766
         ],
         "xaxis": "x",
         "y": [
          -8.348684310913086,
          -7.7342529296875,
          -8.10973072052002,
          -8.492366790771484,
          -7.89444637298584,
          -7.726110935211182,
          -8.45017147064209,
          -8.30636215209961,
          -8.338417053222656,
          -8.416172981262207,
          -8.002349853515625,
          -8.100417137145996,
          -7.629623889923096,
          -7.5955681800842285,
          -7.6115031242370605,
          -7.980710983276367,
          -7.666758060455322,
          -8.387292861938477,
          -8.670002937316895,
          -7.988593578338623
         ],
         "yaxis": "y"
        }
       ],
       "layout": {
        "legend": {
         "title": {
          "text": "Omniglot Class"
         },
         "tracegroupgap": 0
        },
        "template": {
         "data": {
          "bar": [
           {
            "error_x": {
             "color": "#2a3f5f"
            },
            "error_y": {
             "color": "#2a3f5f"
            },
            "marker": {
             "line": {
              "color": "#E5ECF6",
              "width": 0.5
             },
             "pattern": {
              "fillmode": "overlay",
              "size": 10,
              "solidity": 0.2
             }
            },
            "type": "bar"
           }
          ],
          "barpolar": [
           {
            "marker": {
             "line": {
              "color": "#E5ECF6",
              "width": 0.5
             },
             "pattern": {
              "fillmode": "overlay",
              "size": 10,
              "solidity": 0.2
             }
            },
            "type": "barpolar"
           }
          ],
          "carpet": [
           {
            "aaxis": {
             "endlinecolor": "#2a3f5f",
             "gridcolor": "white",
             "linecolor": "white",
             "minorgridcolor": "white",
             "startlinecolor": "#2a3f5f"
            },
            "baxis": {
             "endlinecolor": "#2a3f5f",
             "gridcolor": "white",
             "linecolor": "white",
             "minorgridcolor": "white",
             "startlinecolor": "#2a3f5f"
            },
            "type": "carpet"
           }
          ],
          "choropleth": [
           {
            "colorbar": {
             "outlinewidth": 0,
             "ticks": ""
            },
            "type": "choropleth"
           }
          ],
          "contour": [
           {
            "colorbar": {
             "outlinewidth": 0,
             "ticks": ""
            },
            "colorscale": [
             [
              0,
              "#0d0887"
             ],
             [
              0.1111111111111111,
              "#46039f"
             ],
             [
              0.2222222222222222,
              "#7201a8"
             ],
             [
              0.3333333333333333,
              "#9c179e"
             ],
             [
              0.4444444444444444,
              "#bd3786"
             ],
             [
              0.5555555555555556,
              "#d8576b"
             ],
             [
              0.6666666666666666,
              "#ed7953"
             ],
             [
              0.7777777777777778,
              "#fb9f3a"
             ],
             [
              0.8888888888888888,
              "#fdca26"
             ],
             [
              1,
              "#f0f921"
             ]
            ],
            "type": "contour"
           }
          ],
          "contourcarpet": [
           {
            "colorbar": {
             "outlinewidth": 0,
             "ticks": ""
            },
            "type": "contourcarpet"
           }
          ],
          "heatmap": [
           {
            "colorbar": {
             "outlinewidth": 0,
             "ticks": ""
            },
            "colorscale": [
             [
              0,
              "#0d0887"
             ],
             [
              0.1111111111111111,
              "#46039f"
             ],
             [
              0.2222222222222222,
              "#7201a8"
             ],
             [
              0.3333333333333333,
              "#9c179e"
             ],
             [
              0.4444444444444444,
              "#bd3786"
             ],
             [
              0.5555555555555556,
              "#d8576b"
             ],
             [
              0.6666666666666666,
              "#ed7953"
             ],
             [
              0.7777777777777778,
              "#fb9f3a"
             ],
             [
              0.8888888888888888,
              "#fdca26"
             ],
             [
              1,
              "#f0f921"
             ]
            ],
            "type": "heatmap"
           }
          ],
          "heatmapgl": [
           {
            "colorbar": {
             "outlinewidth": 0,
             "ticks": ""
            },
            "colorscale": [
             [
              0,
              "#0d0887"
             ],
             [
              0.1111111111111111,
              "#46039f"
             ],
             [
              0.2222222222222222,
              "#7201a8"
             ],
             [
              0.3333333333333333,
              "#9c179e"
             ],
             [
              0.4444444444444444,
              "#bd3786"
             ],
             [
              0.5555555555555556,
              "#d8576b"
             ],
             [
              0.6666666666666666,
              "#ed7953"
             ],
             [
              0.7777777777777778,
              "#fb9f3a"
             ],
             [
              0.8888888888888888,
              "#fdca26"
             ],
             [
              1,
              "#f0f921"
             ]
            ],
            "type": "heatmapgl"
           }
          ],
          "histogram": [
           {
            "marker": {
             "pattern": {
              "fillmode": "overlay",
              "size": 10,
              "solidity": 0.2
             }
            },
            "type": "histogram"
           }
          ],
          "histogram2d": [
           {
            "colorbar": {
             "outlinewidth": 0,
             "ticks": ""
            },
            "colorscale": [
             [
              0,
              "#0d0887"
             ],
             [
              0.1111111111111111,
              "#46039f"
             ],
             [
              0.2222222222222222,
              "#7201a8"
             ],
             [
              0.3333333333333333,
              "#9c179e"
             ],
             [
              0.4444444444444444,
              "#bd3786"
             ],
             [
              0.5555555555555556,
              "#d8576b"
             ],
             [
              0.6666666666666666,
              "#ed7953"
             ],
             [
              0.7777777777777778,
              "#fb9f3a"
             ],
             [
              0.8888888888888888,
              "#fdca26"
             ],
             [
              1,
              "#f0f921"
             ]
            ],
            "type": "histogram2d"
           }
          ],
          "histogram2dcontour": [
           {
            "colorbar": {
             "outlinewidth": 0,
             "ticks": ""
            },
            "colorscale": [
             [
              0,
              "#0d0887"
             ],
             [
              0.1111111111111111,
              "#46039f"
             ],
             [
              0.2222222222222222,
              "#7201a8"
             ],
             [
              0.3333333333333333,
              "#9c179e"
             ],
             [
              0.4444444444444444,
              "#bd3786"
             ],
             [
              0.5555555555555556,
              "#d8576b"
             ],
             [
              0.6666666666666666,
              "#ed7953"
             ],
             [
              0.7777777777777778,
              "#fb9f3a"
             ],
             [
              0.8888888888888888,
              "#fdca26"
             ],
             [
              1,
              "#f0f921"
             ]
            ],
            "type": "histogram2dcontour"
           }
          ],
          "mesh3d": [
           {
            "colorbar": {
             "outlinewidth": 0,
             "ticks": ""
            },
            "type": "mesh3d"
           }
          ],
          "parcoords": [
           {
            "line": {
             "colorbar": {
              "outlinewidth": 0,
              "ticks": ""
             }
            },
            "type": "parcoords"
           }
          ],
          "pie": [
           {
            "automargin": true,
            "type": "pie"
           }
          ],
          "scatter": [
           {
            "fillpattern": {
             "fillmode": "overlay",
             "size": 10,
             "solidity": 0.2
            },
            "type": "scatter"
           }
          ],
          "scatter3d": [
           {
            "line": {
             "colorbar": {
              "outlinewidth": 0,
              "ticks": ""
             }
            },
            "marker": {
             "colorbar": {
              "outlinewidth": 0,
              "ticks": ""
             }
            },
            "type": "scatter3d"
           }
          ],
          "scattercarpet": [
           {
            "marker": {
             "colorbar": {
              "outlinewidth": 0,
              "ticks": ""
             }
            },
            "type": "scattercarpet"
           }
          ],
          "scattergeo": [
           {
            "marker": {
             "colorbar": {
              "outlinewidth": 0,
              "ticks": ""
             }
            },
            "type": "scattergeo"
           }
          ],
          "scattergl": [
           {
            "marker": {
             "colorbar": {
              "outlinewidth": 0,
              "ticks": ""
             }
            },
            "type": "scattergl"
           }
          ],
          "scattermapbox": [
           {
            "marker": {
             "colorbar": {
              "outlinewidth": 0,
              "ticks": ""
             }
            },
            "type": "scattermapbox"
           }
          ],
          "scatterpolar": [
           {
            "marker": {
             "colorbar": {
              "outlinewidth": 0,
              "ticks": ""
             }
            },
            "type": "scatterpolar"
           }
          ],
          "scatterpolargl": [
           {
            "marker": {
             "colorbar": {
              "outlinewidth": 0,
              "ticks": ""
             }
            },
            "type": "scatterpolargl"
           }
          ],
          "scatterternary": [
           {
            "marker": {
             "colorbar": {
              "outlinewidth": 0,
              "ticks": ""
             }
            },
            "type": "scatterternary"
           }
          ],
          "surface": [
           {
            "colorbar": {
             "outlinewidth": 0,
             "ticks": ""
            },
            "colorscale": [
             [
              0,
              "#0d0887"
             ],
             [
              0.1111111111111111,
              "#46039f"
             ],
             [
              0.2222222222222222,
              "#7201a8"
             ],
             [
              0.3333333333333333,
              "#9c179e"
             ],
             [
              0.4444444444444444,
              "#bd3786"
             ],
             [
              0.5555555555555556,
              "#d8576b"
             ],
             [
              0.6666666666666666,
              "#ed7953"
             ],
             [
              0.7777777777777778,
              "#fb9f3a"
             ],
             [
              0.8888888888888888,
              "#fdca26"
             ],
             [
              1,
              "#f0f921"
             ]
            ],
            "type": "surface"
           }
          ],
          "table": [
           {
            "cells": {
             "fill": {
              "color": "#EBF0F8"
             },
             "line": {
              "color": "white"
             }
            },
            "header": {
             "fill": {
              "color": "#C8D4E3"
             },
             "line": {
              "color": "white"
             }
            },
            "type": "table"
           }
          ]
         },
         "layout": {
          "annotationdefaults": {
           "arrowcolor": "#2a3f5f",
           "arrowhead": 0,
           "arrowwidth": 1
          },
          "autotypenumbers": "strict",
          "coloraxis": {
           "colorbar": {
            "outlinewidth": 0,
            "ticks": ""
           }
          },
          "colorscale": {
           "diverging": [
            [
             0,
             "#8e0152"
            ],
            [
             0.1,
             "#c51b7d"
            ],
            [
             0.2,
             "#de77ae"
            ],
            [
             0.3,
             "#f1b6da"
            ],
            [
             0.4,
             "#fde0ef"
            ],
            [
             0.5,
             "#f7f7f7"
            ],
            [
             0.6,
             "#e6f5d0"
            ],
            [
             0.7,
             "#b8e186"
            ],
            [
             0.8,
             "#7fbc41"
            ],
            [
             0.9,
             "#4d9221"
            ],
            [
             1,
             "#276419"
            ]
           ],
           "sequential": [
            [
             0,
             "#0d0887"
            ],
            [
             0.1111111111111111,
             "#46039f"
            ],
            [
             0.2222222222222222,
             "#7201a8"
            ],
            [
             0.3333333333333333,
             "#9c179e"
            ],
            [
             0.4444444444444444,
             "#bd3786"
            ],
            [
             0.5555555555555556,
             "#d8576b"
            ],
            [
             0.6666666666666666,
             "#ed7953"
            ],
            [
             0.7777777777777778,
             "#fb9f3a"
            ],
            [
             0.8888888888888888,
             "#fdca26"
            ],
            [
             1,
             "#f0f921"
            ]
           ],
           "sequentialminus": [
            [
             0,
             "#0d0887"
            ],
            [
             0.1111111111111111,
             "#46039f"
            ],
            [
             0.2222222222222222,
             "#7201a8"
            ],
            [
             0.3333333333333333,
             "#9c179e"
            ],
            [
             0.4444444444444444,
             "#bd3786"
            ],
            [
             0.5555555555555556,
             "#d8576b"
            ],
            [
             0.6666666666666666,
             "#ed7953"
            ],
            [
             0.7777777777777778,
             "#fb9f3a"
            ],
            [
             0.8888888888888888,
             "#fdca26"
            ],
            [
             1,
             "#f0f921"
            ]
           ]
          },
          "colorway": [
           "#636efa",
           "#EF553B",
           "#00cc96",
           "#ab63fa",
           "#FFA15A",
           "#19d3f3",
           "#FF6692",
           "#B6E880",
           "#FF97FF",
           "#FECB52"
          ],
          "font": {
           "color": "#2a3f5f"
          },
          "geo": {
           "bgcolor": "white",
           "lakecolor": "white",
           "landcolor": "#E5ECF6",
           "showlakes": true,
           "showland": true,
           "subunitcolor": "white"
          },
          "hoverlabel": {
           "align": "left"
          },
          "hovermode": "closest",
          "mapbox": {
           "style": "light"
          },
          "paper_bgcolor": "white",
          "plot_bgcolor": "#E5ECF6",
          "polar": {
           "angularaxis": {
            "gridcolor": "white",
            "linecolor": "white",
            "ticks": ""
           },
           "bgcolor": "#E5ECF6",
           "radialaxis": {
            "gridcolor": "white",
            "linecolor": "white",
            "ticks": ""
           }
          },
          "scene": {
           "xaxis": {
            "backgroundcolor": "#E5ECF6",
            "gridcolor": "white",
            "gridwidth": 2,
            "linecolor": "white",
            "showbackground": true,
            "ticks": "",
            "zerolinecolor": "white"
           },
           "yaxis": {
            "backgroundcolor": "#E5ECF6",
            "gridcolor": "white",
            "gridwidth": 2,
            "linecolor": "white",
            "showbackground": true,
            "ticks": "",
            "zerolinecolor": "white"
           },
           "zaxis": {
            "backgroundcolor": "#E5ECF6",
            "gridcolor": "white",
            "gridwidth": 2,
            "linecolor": "white",
            "showbackground": true,
            "ticks": "",
            "zerolinecolor": "white"
           }
          },
          "shapedefaults": {
           "line": {
            "color": "#2a3f5f"
           }
          },
          "ternary": {
           "aaxis": {
            "gridcolor": "white",
            "linecolor": "white",
            "ticks": ""
           },
           "baxis": {
            "gridcolor": "white",
            "linecolor": "white",
            "ticks": ""
           },
           "bgcolor": "#E5ECF6",
           "caxis": {
            "gridcolor": "white",
            "linecolor": "white",
            "ticks": ""
           }
          },
          "title": {
           "x": 0.05
          },
          "xaxis": {
           "automargin": true,
           "gridcolor": "white",
           "linecolor": "white",
           "ticks": "",
           "title": {
            "standoff": 15
           },
           "zerolinecolor": "white",
           "zerolinewidth": 2
          },
          "yaxis": {
           "automargin": true,
           "gridcolor": "white",
           "linecolor": "white",
           "ticks": "",
           "title": {
            "standoff": 15
           },
           "zerolinecolor": "white",
           "zerolinewidth": 2
          }
         }
        },
        "title": {
         "text": "2D t-SNE of 5 Omniglot Classes (BYOL Embeddings)"
        },
        "xaxis": {
         "anchor": "y",
         "domain": [
          0,
          1
         ],
         "title": {
          "text": "x"
         }
        },
        "yaxis": {
         "anchor": "x",
         "domain": [
          0,
          1
         ],
         "title": {
          "text": "y"
         }
        }
       }
      }
     },
     "metadata": {},
     "output_type": "display_data"
    }
   ],
   "source": [
    "from sklearn.manifold import TSNE\n",
    "\n",
    "# Compute 2D t-SNE\n",
    "tsne_2d = TSNE(n_components=2, perplexity=30, init='pca', random_state=42)\n",
    "X_2d = tsne_2d.fit_transform(X)\n",
    "\n",
    "# Prepare DataFrame for plotting\n",
    "df_2d = pd.DataFrame({\n",
    "    'x': X_2d[:, 0],\n",
    "    'y': X_2d[:, 1],\n",
    "    'class': y\n",
    "})\n",
    "df_2d = df_2d[df_2d['class'].isin(selected_classes)]\n",
    "df_2d['class'] = df_2d['class'].map(label_map)\n",
    "\n",
    "import plotly.express as px\n",
    "\n",
    "fig2d = px.scatter(\n",
    "    df_2d, x='x', y='y', color='class',\n",
    "    title=\"2D t-SNE of 5 Omniglot Classes (BYOL Embeddings)\",\n",
    "    labels={\"class\": \"Omniglot Class\"},\n",
    "    opacity=0.8\n",
    ")\n",
    "fig2d.update_traces(marker=dict(size=7))\n",
    "fig2d.show()"
   ]
  },
  {
   "cell_type": "code",
   "execution_count": null,
   "id": "ae863b42",
   "metadata": {},
   "outputs": [],
   "source": []
  }
 ],
 "metadata": {
  "kernelspec": {
   "display_name": "pytorch",
   "language": "python",
   "name": "python3"
  },
  "language_info": {
   "codemirror_mode": {
    "name": "ipython",
    "version": 3
   },
   "file_extension": ".py",
   "mimetype": "text/x-python",
   "name": "python",
   "nbconvert_exporter": "python",
   "pygments_lexer": "ipython3",
   "version": "3.12.8"
  }
 },
 "nbformat": 4,
 "nbformat_minor": 5
}
